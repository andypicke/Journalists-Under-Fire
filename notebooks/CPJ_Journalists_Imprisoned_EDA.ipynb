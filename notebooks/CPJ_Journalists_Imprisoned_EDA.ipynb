{
 "cells": [
  {
   "cell_type": "code",
   "execution_count": 1,
   "metadata": {},
   "outputs": [],
   "source": [
    "import pandas as pd\n",
    "import numpy as np\n",
    "import matplotlib.pyplot as plt\n",
    "%matplotlib inline\n",
    "\n",
    "# make plots look nice\n",
    "plt.rcParams['font.size'] = 14\n",
    "plt.rcParams['axes.labelsize'] = 'large'\n",
    "plt.rcParams['xtick.labelsize'] = 'large'\n",
    "plt.rcParams['ytick.labelsize'] = 'large'\n",
    "plt.rcParams['lines.linewidth'] = 3\n",
    "plt.style.use('ggplot')"
   ]
  },
  {
   "cell_type": "code",
   "execution_count": 2,
   "metadata": {},
   "outputs": [
    {
     "data": {
      "text/html": [
       "<div>\n",
       "<style scoped>\n",
       "    .dataframe tbody tr th:only-of-type {\n",
       "        vertical-align: middle;\n",
       "    }\n",
       "\n",
       "    .dataframe tbody tr th {\n",
       "        vertical-align: top;\n",
       "    }\n",
       "\n",
       "    .dataframe thead th {\n",
       "        text-align: right;\n",
       "    }\n",
       "</style>\n",
       "<table border=\"1\" class=\"dataframe\">\n",
       "  <thead>\n",
       "    <tr style=\"text-align: right;\">\n",
       "      <th></th>\n",
       "      <th>year</th>\n",
       "      <th>combinedStatus</th>\n",
       "      <th>fullName</th>\n",
       "      <th>sortName</th>\n",
       "      <th>primaryNationality</th>\n",
       "      <th>secondaryNationality</th>\n",
       "      <th>tertiaryNationality</th>\n",
       "      <th>gender</th>\n",
       "      <th>photoUrl</th>\n",
       "      <th>photoCredit</th>\n",
       "      <th>...</th>\n",
       "      <th>threatened</th>\n",
       "      <th>charges</th>\n",
       "      <th>motive</th>\n",
       "      <th>lengthOfSentence</th>\n",
       "      <th>healthProblems</th>\n",
       "      <th>impCountry</th>\n",
       "      <th>entry</th>\n",
       "      <th>sentenceDate</th>\n",
       "      <th>sentence</th>\n",
       "      <th>locationImprisoned</th>\n",
       "    </tr>\n",
       "  </thead>\n",
       "  <tbody>\n",
       "    <tr>\n",
       "      <th>0</th>\n",
       "      <td>2018</td>\n",
       "      <td>Imprisoned</td>\n",
       "      <td>Aasif Sultan</td>\n",
       "      <td>NaN</td>\n",
       "      <td>India</td>\n",
       "      <td>NaN</td>\n",
       "      <td>NaN</td>\n",
       "      <td>Male</td>\n",
       "      <td>https://cpj-photos.s3.us-west-2.amazonaws.com/...</td>\n",
       "      <td>Muzamil Mattoo/Kashmir Narrator</td>\n",
       "      <td>...</td>\n",
       "      <td>NaN</td>\n",
       "      <td>Anti-state</td>\n",
       "      <td>NaN</td>\n",
       "      <td>Sentence pending</td>\n",
       "      <td>Yes</td>\n",
       "      <td>NaN</td>\n",
       "      <td>NaN</td>\n",
       "      <td>NaN</td>\n",
       "      <td>Not sentenced</td>\n",
       "      <td>NaN</td>\n",
       "    </tr>\n",
       "    <tr>\n",
       "      <th>1</th>\n",
       "      <td>2019</td>\n",
       "      <td>Imprisoned</td>\n",
       "      <td>Aasif Sultan</td>\n",
       "      <td>NaN</td>\n",
       "      <td>India</td>\n",
       "      <td>NaN</td>\n",
       "      <td>NaN</td>\n",
       "      <td>Male</td>\n",
       "      <td>https://cpj-photos.s3.us-west-2.amazonaws.com/...</td>\n",
       "      <td>Muzamil Mattoo/Kashmir Narrator</td>\n",
       "      <td>...</td>\n",
       "      <td>NaN</td>\n",
       "      <td>Anti-state</td>\n",
       "      <td>NaN</td>\n",
       "      <td>Sentence pending</td>\n",
       "      <td>Yes</td>\n",
       "      <td>NaN</td>\n",
       "      <td>NaN</td>\n",
       "      <td>NaN</td>\n",
       "      <td>Not sentenced</td>\n",
       "      <td>NaN</td>\n",
       "    </tr>\n",
       "    <tr>\n",
       "      <th>2</th>\n",
       "      <td>1997</td>\n",
       "      <td>Imprisoned</td>\n",
       "      <td>Abay Hailu</td>\n",
       "      <td>NaN</td>\n",
       "      <td>Ethiopia</td>\n",
       "      <td>NaN</td>\n",
       "      <td>NaN</td>\n",
       "      <td>Male</td>\n",
       "      <td>NaN</td>\n",
       "      <td>NaN</td>\n",
       "      <td>...</td>\n",
       "      <td>NaN</td>\n",
       "      <td>NaN</td>\n",
       "      <td>NaN</td>\n",
       "      <td>1 year to &lt;5 years</td>\n",
       "      <td>Yes</td>\n",
       "      <td>NaN</td>\n",
       "      <td>NaN</td>\n",
       "      <td>NaN</td>\n",
       "      <td>1 year</td>\n",
       "      <td>NaN</td>\n",
       "    </tr>\n",
       "    <tr>\n",
       "      <th>3</th>\n",
       "      <td>1993</td>\n",
       "      <td>Imprisoned</td>\n",
       "      <td>Abbas Abdi</td>\n",
       "      <td>NaN</td>\n",
       "      <td>Iran</td>\n",
       "      <td>NaN</td>\n",
       "      <td>NaN</td>\n",
       "      <td>Male</td>\n",
       "      <td>NaN</td>\n",
       "      <td>NaN</td>\n",
       "      <td>...</td>\n",
       "      <td>NaN</td>\n",
       "      <td>NaN</td>\n",
       "      <td>NaN</td>\n",
       "      <td>1 year to &lt;5 years</td>\n",
       "      <td>No</td>\n",
       "      <td>NaN</td>\n",
       "      <td>NaN</td>\n",
       "      <td>NaN</td>\n",
       "      <td>1 year</td>\n",
       "      <td>NaN</td>\n",
       "    </tr>\n",
       "    <tr>\n",
       "      <th>4</th>\n",
       "      <td>2011</td>\n",
       "      <td>Imprisoned</td>\n",
       "      <td>Abd al-Karim Thail</td>\n",
       "      <td>NaN</td>\n",
       "      <td>Yemen</td>\n",
       "      <td>NaN</td>\n",
       "      <td>NaN</td>\n",
       "      <td>Male</td>\n",
       "      <td>NaN</td>\n",
       "      <td>NaN</td>\n",
       "      <td>...</td>\n",
       "      <td>NaN</td>\n",
       "      <td>No Charge</td>\n",
       "      <td>NaN</td>\n",
       "      <td>Not Sentenced</td>\n",
       "      <td>No</td>\n",
       "      <td>NaN</td>\n",
       "      <td>NaN</td>\n",
       "      <td>NaN</td>\n",
       "      <td>Not Sentenced</td>\n",
       "      <td>NaN</td>\n",
       "    </tr>\n",
       "  </tbody>\n",
       "</table>\n",
       "<p>5 rows × 43 columns</p>\n",
       "</div>"
      ],
      "text/plain": [
       "   year combinedStatus            fullName  sortName primaryNationality  \\\n",
       "0  2018     Imprisoned        Aasif Sultan       NaN              India   \n",
       "1  2019     Imprisoned        Aasif Sultan       NaN              India   \n",
       "2  1997     Imprisoned          Abay Hailu       NaN           Ethiopia   \n",
       "3  1993     Imprisoned          Abbas Abdi       NaN               Iran   \n",
       "4  2011     Imprisoned  Abd al-Karim Thail       NaN              Yemen   \n",
       "\n",
       "  secondaryNationality  tertiaryNationality gender  \\\n",
       "0                  NaN                  NaN   Male   \n",
       "1                  NaN                  NaN   Male   \n",
       "2                  NaN                  NaN   Male   \n",
       "3                  NaN                  NaN   Male   \n",
       "4                  NaN                  NaN   Male   \n",
       "\n",
       "                                            photoUrl  \\\n",
       "0  https://cpj-photos.s3.us-west-2.amazonaws.com/...   \n",
       "1  https://cpj-photos.s3.us-west-2.amazonaws.com/...   \n",
       "2                                                NaN   \n",
       "3                                                NaN   \n",
       "4                                                NaN   \n",
       "\n",
       "                       photoCredit  ... threatened     charges  motive  \\\n",
       "0  Muzamil Mattoo/Kashmir Narrator  ...        NaN  Anti-state     NaN   \n",
       "1  Muzamil Mattoo/Kashmir Narrator  ...        NaN  Anti-state     NaN   \n",
       "2                              NaN  ...        NaN         NaN     NaN   \n",
       "3                              NaN  ...        NaN         NaN     NaN   \n",
       "4                              NaN  ...        NaN   No Charge     NaN   \n",
       "\n",
       "     lengthOfSentence healthProblems impCountry entry sentenceDate  \\\n",
       "0    Sentence pending            Yes        NaN   NaN          NaN   \n",
       "1    Sentence pending            Yes        NaN   NaN          NaN   \n",
       "2  1 year to <5 years            Yes        NaN   NaN          NaN   \n",
       "3  1 year to <5 years             No        NaN   NaN          NaN   \n",
       "4       Not Sentenced             No        NaN   NaN          NaN   \n",
       "\n",
       "        sentence locationImprisoned  \n",
       "0  Not sentenced                NaN  \n",
       "1  Not sentenced                NaN  \n",
       "2         1 year                NaN  \n",
       "3         1 year                NaN  \n",
       "4  Not Sentenced                NaN  \n",
       "\n",
       "[5 rows x 43 columns]"
      ]
     },
     "execution_count": 2,
     "metadata": {},
     "output_type": "execute_result"
    }
   ],
   "source": [
    "cpj = pd.read_csv('../data/Journalists Imprisoned between 1992 and 2020.csv')\n",
    "cpj.head()"
   ]
  },
  {
   "cell_type": "code",
   "execution_count": 3,
   "metadata": {},
   "outputs": [
    {
     "name": "stdout",
     "output_type": "stream",
     "text": [
      "<class 'pandas.core.frame.DataFrame'>\n",
      "RangeIndex: 4854 entries, 0 to 4853\n",
      "Data columns (total 43 columns):\n",
      " #   Column                    Non-Null Count  Dtype  \n",
      "---  ------                    --------------  -----  \n",
      " 0   year                      4854 non-null   int64  \n",
      " 1   combinedStatus            4854 non-null   object \n",
      " 2   fullName                  4854 non-null   object \n",
      " 3   sortName                  0 non-null      float64\n",
      " 4   primaryNationality        4838 non-null   object \n",
      " 5   secondaryNationality      29 non-null     object \n",
      " 6   tertiaryNationality       0 non-null      float64\n",
      " 7   gender                    4774 non-null   object \n",
      " 8   photoUrl                  526 non-null    object \n",
      " 9   photoCredit               529 non-null    object \n",
      " 10  type                      4854 non-null   object \n",
      " 11  lastStatus                1156 non-null   object \n",
      " 12  typeOfDeath               0 non-null      float64\n",
      " 13  status                    4854 non-null   object \n",
      " 14  employedAs                4088 non-null   object \n",
      " 15  organizations             4814 non-null   object \n",
      " 16  jobs                      4726 non-null   object \n",
      " 17  coverage                  4115 non-null   object \n",
      " 18  mediums                   4753 non-null   object \n",
      " 19  country                   4854 non-null   object \n",
      " 20  location                  892 non-null    object \n",
      " 21  region                    77 non-null     object \n",
      " 22  state                     6 non-null      object \n",
      " 23  locality                  843 non-null    object \n",
      " 24  province                  146 non-null    object \n",
      " 25  localOrForeign            4854 non-null   object \n",
      " 26  sourcesOfFire             0 non-null      float64\n",
      " 27  motiveConfirmed           0 non-null      float64\n",
      " 28  accountabilityCrossfire   0 non-null      float64\n",
      " 29  accountabilityAssignment  0 non-null      float64\n",
      " 30  impunityMurder            0 non-null      float64\n",
      " 31  tortured                  0 non-null      float64\n",
      " 32  captive                   0 non-null      float64\n",
      " 33  threatened                0 non-null      float64\n",
      " 34  charges                   4676 non-null   object \n",
      " 35  motive                    0 non-null      float64\n",
      " 36  lengthOfSentence          4476 non-null   object \n",
      " 37  healthProblems            4853 non-null   object \n",
      " 38  impCountry                0 non-null      float64\n",
      " 39  entry                     0 non-null      float64\n",
      " 40  sentenceDate              0 non-null      float64\n",
      " 41  sentence                  4480 non-null   object \n",
      " 42  locationImprisoned        1256 non-null   object \n",
      "dtypes: float64(15), int64(1), object(27)\n",
      "memory usage: 1.6+ MB\n"
     ]
    }
   ],
   "source": [
    "cpj.info()"
   ]
  },
  {
   "cell_type": "code",
   "execution_count": 4,
   "metadata": {},
   "outputs": [
    {
     "name": "stdout",
     "output_type": "stream",
     "text": [
      "<class 'pandas.core.frame.DataFrame'>\n",
      "RangeIndex: 4854 entries, 0 to 4853\n",
      "Data columns (total 28 columns):\n",
      " #   Column                Non-Null Count  Dtype \n",
      "---  ------                --------------  ----- \n",
      " 0   year                  4854 non-null   int64 \n",
      " 1   combinedStatus        4854 non-null   object\n",
      " 2   fullName              4854 non-null   object\n",
      " 3   primaryNationality    4838 non-null   object\n",
      " 4   secondaryNationality  29 non-null     object\n",
      " 5   gender                4774 non-null   object\n",
      " 6   photoUrl              526 non-null    object\n",
      " 7   photoCredit           529 non-null    object\n",
      " 8   type                  4854 non-null   object\n",
      " 9   lastStatus            1156 non-null   object\n",
      " 10  status                4854 non-null   object\n",
      " 11  employedAs            4088 non-null   object\n",
      " 12  organizations         4814 non-null   object\n",
      " 13  jobs                  4726 non-null   object\n",
      " 14  coverage              4115 non-null   object\n",
      " 15  mediums               4753 non-null   object\n",
      " 16  country               4854 non-null   object\n",
      " 17  location              892 non-null    object\n",
      " 18  region                77 non-null     object\n",
      " 19  state                 6 non-null      object\n",
      " 20  locality              843 non-null    object\n",
      " 21  province              146 non-null    object\n",
      " 22  localOrForeign        4854 non-null   object\n",
      " 23  charges               4676 non-null   object\n",
      " 24  lengthOfSentence      4476 non-null   object\n",
      " 25  healthProblems        4853 non-null   object\n",
      " 26  sentence              4480 non-null   object\n",
      " 27  locationImprisoned    1256 non-null   object\n",
      "dtypes: int64(1), object(27)\n",
      "memory usage: 1.0+ MB\n"
     ]
    }
   ],
   "source": [
    "# drop columns with all nulls\n",
    "cpj.dropna(axis=1, how='all', inplace=True)\n",
    "cpj.info()"
   ]
  },
  {
   "cell_type": "code",
   "execution_count": 5,
   "metadata": {},
   "outputs": [
    {
     "name": "stdout",
     "output_type": "stream",
     "text": [
      "<class 'pandas.core.frame.DataFrame'>\n",
      "RangeIndex: 4854 entries, 0 to 4853\n",
      "Data columns (total 20 columns):\n",
      " #   Column              Non-Null Count  Dtype \n",
      "---  ------              --------------  ----- \n",
      " 0   year                4854 non-null   int64 \n",
      " 1   combinedStatus      4854 non-null   object\n",
      " 2   fullName            4854 non-null   object\n",
      " 3   primaryNationality  4838 non-null   object\n",
      " 4   gender              4774 non-null   object\n",
      " 5   type                4854 non-null   object\n",
      " 6   lastStatus          1156 non-null   object\n",
      " 7   status              4854 non-null   object\n",
      " 8   employedAs          4088 non-null   object\n",
      " 9   organizations       4814 non-null   object\n",
      " 10  jobs                4726 non-null   object\n",
      " 11  coverage            4115 non-null   object\n",
      " 12  mediums             4753 non-null   object\n",
      " 13  country             4854 non-null   object\n",
      " 14  localOrForeign      4854 non-null   object\n",
      " 15  charges             4676 non-null   object\n",
      " 16  lengthOfSentence    4476 non-null   object\n",
      " 17  healthProblems      4853 non-null   object\n",
      " 18  sentence            4480 non-null   object\n",
      " 19  locationImprisoned  1256 non-null   object\n",
      "dtypes: int64(1), object(19)\n",
      "memory usage: 758.6+ KB\n"
     ]
    }
   ],
   "source": [
    "cpj.dropna(axis=1, thresh=1000, inplace=True)\n",
    "cpj.info()"
   ]
  },
  {
   "cell_type": "code",
   "execution_count": 6,
   "metadata": {},
   "outputs": [
    {
     "data": {
      "text/plain": [
       "Imprisoned    4853\n",
       "imprisoned       1\n",
       "Name: combinedStatus, dtype: int64"
      ]
     },
     "execution_count": 6,
     "metadata": {},
     "output_type": "execute_result"
    }
   ],
   "source": [
    "cpj['combinedStatus'].value_counts()"
   ]
  },
  {
   "cell_type": "code",
   "execution_count": 7,
   "metadata": {},
   "outputs": [
    {
     "data": {
      "text/plain": [
       "Imprisoned    1145\n",
       "Killed          11\n",
       "Name: lastStatus, dtype: int64"
      ]
     },
     "execution_count": 7,
     "metadata": {},
     "output_type": "execute_result"
    }
   ],
   "source": [
    "cpj['lastStatus'].value_counts()"
   ]
  },
  {
   "cell_type": "code",
   "execution_count": 8,
   "metadata": {},
   "outputs": [
    {
     "data": {
      "text/plain": [
       "Imprisoned    4853\n",
       "imprisoned       1\n",
       "Name: status, dtype: int64"
      ]
     },
     "execution_count": 8,
     "metadata": {},
     "output_type": "execute_result"
    }
   ],
   "source": [
    "cpj['status'].value_counts()"
   ]
  },
  {
   "cell_type": "code",
   "execution_count": 9,
   "metadata": {},
   "outputs": [
    {
     "name": "stdout",
     "output_type": "stream",
     "text": [
      "<class 'pandas.core.frame.DataFrame'>\n",
      "RangeIndex: 4854 entries, 0 to 4853\n",
      "Data columns (total 17 columns):\n",
      " #   Column              Non-Null Count  Dtype \n",
      "---  ------              --------------  ----- \n",
      " 0   year                4854 non-null   int64 \n",
      " 1   fullName            4854 non-null   object\n",
      " 2   primaryNationality  4838 non-null   object\n",
      " 3   gender              4774 non-null   object\n",
      " 4   type                4854 non-null   object\n",
      " 5   employedAs          4088 non-null   object\n",
      " 6   organizations       4814 non-null   object\n",
      " 7   jobs                4726 non-null   object\n",
      " 8   coverage            4115 non-null   object\n",
      " 9   mediums             4753 non-null   object\n",
      " 10  country             4854 non-null   object\n",
      " 11  localOrForeign      4854 non-null   object\n",
      " 12  charges             4676 non-null   object\n",
      " 13  lengthOfSentence    4476 non-null   object\n",
      " 14  healthProblems      4853 non-null   object\n",
      " 15  sentence            4480 non-null   object\n",
      " 16  locationImprisoned  1256 non-null   object\n",
      "dtypes: int64(1), object(16)\n",
      "memory usage: 644.8+ KB\n"
     ]
    }
   ],
   "source": [
    "cpj.drop(['combinedStatus','lastStatus','status'], axis=1, inplace=True)\n",
    "cpj.info()"
   ]
  },
  {
   "cell_type": "code",
   "execution_count": 11,
   "metadata": {},
   "outputs": [
    {
     "data": {
      "text/plain": [
       "Male      4379\n",
       "Female     395\n",
       "Name: gender, dtype: int64"
      ]
     },
     "execution_count": 11,
     "metadata": {},
     "output_type": "execute_result"
    }
   ],
   "source": [
    "cpj['gender'].value_counts()"
   ]
  },
  {
   "cell_type": "code",
   "execution_count": 12,
   "metadata": {},
   "outputs": [
    {
     "data": {
      "text/plain": [
       "Journalist    4854\n",
       "Name: type, dtype: int64"
      ]
     },
     "execution_count": 12,
     "metadata": {},
     "output_type": "execute_result"
    }
   ],
   "source": [
    "cpj['type'].value_counts()"
   ]
  },
  {
   "cell_type": "code",
   "execution_count": 13,
   "metadata": {},
   "outputs": [],
   "source": [
    "cpj.drop('type', axis=1, inplace=True)"
   ]
  },
  {
   "cell_type": "code",
   "execution_count": 14,
   "metadata": {},
   "outputs": [
    {
     "data": {
      "text/plain": [
       "Staff        2788\n",
       "Freelance    1298\n",
       "staff           2\n",
       "Name: employedAs, dtype: int64"
      ]
     },
     "execution_count": 14,
     "metadata": {},
     "output_type": "execute_result"
    }
   ],
   "source": [
    "cpj['employedAs'].value_counts()"
   ]
  },
  {
   "cell_type": "code",
   "execution_count": 15,
   "metadata": {},
   "outputs": [
    {
     "data": {
      "text/plain": [
       "Freelance                            1129\n",
       "Al-Nida                                86\n",
       "Radio Bana                             64\n",
       "Setit                                  64\n",
       "Uighurbiz                              59\n",
       "                                     ... \n",
       "Rasd TV                                 1\n",
       "Diydor                                  1\n",
       "Ol! (Yes!)                              1\n",
       "RIA Novosti-Ukraine news agency         1\n",
       "Agence Burundaise de Presse (ABP)       1\n",
       "Name: organizations, Length: 843, dtype: int64"
      ]
     },
     "execution_count": 15,
     "metadata": {},
     "output_type": "execute_result"
    }
   ],
   "source": [
    "cpj['organizations'].value_counts()"
   ]
  },
  {
   "cell_type": "code",
   "execution_count": 16,
   "metadata": {},
   "outputs": [
    {
     "data": {
      "text/plain": [
       "Editor                                                                                            805\n",
       "Print reporter                                                                                    719\n",
       "Internet Reporter                                                                                 532\n",
       "Columnist/Commentator                                                                             512\n",
       "Publisher/Owner                                                                                   398\n",
       "                                                                                                 ... \n",
       "Photographer, Publisher/Owner                                                                       1\n",
       "Broadcast Reporter, Internet Reporter, Photographer, Print reporter, Producer, Publisher/Owner      1\n",
       "Publisher/Owner,Columnist/Commentator                                                               1\n",
       "Documentary Filmmaker, Internet Reporter                                                            1\n",
       "Camera Operator, Internet Reporter, Print reporter                                                  1\n",
       "Name: jobs, Length: 117, dtype: int64"
      ]
     },
     "execution_count": 16,
     "metadata": {},
     "output_type": "execute_result"
    }
   ],
   "source": [
    "cpj['jobs'].value_counts()"
   ]
  },
  {
   "cell_type": "code",
   "execution_count": 17,
   "metadata": {},
   "outputs": [
    {
     "data": {
      "text/plain": [
       "Politics                  1539\n",
       "Human Rights, Politics     443\n",
       "Unknown                    201\n",
       "Culture, Politics          178\n",
       "Corruption, Politics       178\n",
       "                          ... \n",
       "Human rights                 1\n",
       "Culture,Human Rights         1\n",
       "Human rights, War            1\n",
       "Crime, War                   1\n",
       "Crime, Human Rights          1\n",
       "Name: coverage, Length: 100, dtype: int64"
      ]
     },
     "execution_count": 17,
     "metadata": {},
     "output_type": "execute_result"
    }
   ],
   "source": [
    "cpj['coverage'].value_counts()"
   ]
  },
  {
   "cell_type": "code",
   "execution_count": 19,
   "metadata": {},
   "outputs": [
    {
     "data": {
      "text/plain": [
       "Print                                                   2403\n",
       "Internet                                                1326\n",
       "Internet, Print                                          331\n",
       "Radio                                                    204\n",
       "Television                                               144\n",
       "Print, Internet                                           56\n",
       "Internet, Television                                      44\n",
       "Internet, Radio                                           43\n",
       "Print, Radio, Television                                  38\n",
       "Documentary Film                                          32\n",
       "Print, Radio                                              16\n",
       "Radio, Television                                         15\n",
       "Documentary Film, Internet, Television                    14\n",
       "Documentary Film, Internet                                14\n",
       "Internet, Print, Television                               13\n",
       "Radio, Print                                               9\n",
       "Documentary Film, Print                                    9\n",
       "Print, Television                                          8\n",
       "Television, Radio                                          7\n",
       "Internet, Print, Radio                                     5\n",
       "Documentary Film, Internet, Print                          5\n",
       "Internet, Radio, Television                                4\n",
       "Internet, Print, Radio, Television                         4\n",
       "Broadcast                                                  3\n",
       "Documentary Film, Internet, Print, Radio, Television       3\n",
       "Print,Television                                           1\n",
       "Unknown                                                    1\n",
       "print                                                      1\n",
       "Name: mediums, dtype: int64"
      ]
     },
     "execution_count": 19,
     "metadata": {},
     "output_type": "execute_result"
    }
   ],
   "source": [
    "cpj['mediums'].value_counts()"
   ]
  },
  {
   "cell_type": "code",
   "execution_count": 20,
   "metadata": {},
   "outputs": [
    {
     "data": {
      "text/plain": [
       "China           952\n",
       "Turkey          794\n",
       "Eritrea         439\n",
       "Iran            327\n",
       "Myanmar         244\n",
       "               ... \n",
       "Ghana             1\n",
       "Brazil            1\n",
       "Burkina Faso      1\n",
       "South Sudan       1\n",
       "Panama            1\n",
       "Name: country, Length: 93, dtype: int64"
      ]
     },
     "execution_count": 20,
     "metadata": {},
     "output_type": "execute_result"
    }
   ],
   "source": [
    "cpj['country'].value_counts()"
   ]
  },
  {
   "cell_type": "code",
   "execution_count": 22,
   "metadata": {},
   "outputs": [
    {
     "data": {
      "text/plain": [
       "Local      4729\n",
       "Foreign     125\n",
       "Name: localOrForeign, dtype: int64"
      ]
     },
     "execution_count": 22,
     "metadata": {},
     "output_type": "execute_result"
    }
   ],
   "source": [
    "cpj['localOrForeign'].value_counts()"
   ]
  },
  {
   "cell_type": "code",
   "execution_count": 23,
   "metadata": {},
   "outputs": [
    {
     "data": {
      "text/plain": [
       "Anti-State                                             2212\n",
       "Anti-state                                              754\n",
       "No charge disclosed                                     381\n",
       "Retaliatory                                             352\n",
       "No Charge                                               303\n",
       "Defamation                                              104\n",
       "No charge                                               103\n",
       "Anti-state, False News                                   77\n",
       "Anti-state, Retaliatory                                  50\n",
       "Anti-State, Retaliatory                                  39\n",
       "Anti-State, False News                                   36\n",
       "False News                                               31\n",
       "Censorship Violation                                     27\n",
       "Ethnic/Religious Insult                                  25\n",
       "Ethnic or religious insult                               19\n",
       "Anti-state, Defamation                                   18\n",
       "Anti-State, Defamation                                   14\n",
       "Anti-State, False news                                   12\n",
       "False news                                               12\n",
       "Defamation, Retaliatory                                  11\n",
       "Anti-State, Defamation, Retaliatory                       9\n",
       "Anti-state, Ethnic or religious insult, Retaliatory       8\n",
       "Anti-State, Defamation, False News                        7\n",
       "Anti-State, Ethnic or religious insult, Retaliatory       7\n",
       "Anti-state, False News, Retaliatory                       6\n",
       "Defamation, False News                                    6\n",
       "Defamation, Ethnic/Religious Insult                       6\n",
       "Anti-State, Censorship Violation                          6\n",
       "Anti-state, False news                                    5\n",
       "Anti-State, Defamation, Ethnic/Religious Insult           4\n",
       "Anti-State, Ethnic/Religious Insult                       4\n",
       "Retaliatory, Anti-State                                   4\n",
       "False News, Retaliatory                                   4\n",
       "Anti-state, Censorship Violation                          3\n",
       "Anti-State, false news                                    3\n",
       "Anti-State, Ethnic/Religious Insult, Retaliatory          2\n",
       "Anti-State, False News, Retaliatory                       2\n",
       "Retaliatory, False news                                   2\n",
       "Ethnic or Religious Insult                                1\n",
       "Ethnic or religious insult,                               1\n",
       "Censorship violation                                      1\n",
       "Anti-state, Defamation, False News                        1\n",
       "Anti-state, retaliatory                                   1\n",
       "Defamation, False news                                    1\n",
       "False news, Defamation                                    1\n",
       "Anti-State, Religious or ethnic insult                    1\n",
       "Name: charges, dtype: int64"
      ]
     },
     "execution_count": 23,
     "metadata": {},
     "output_type": "execute_result"
    }
   ],
   "source": [
    "cpj['charges'].value_counts()"
   ]
  },
  {
   "cell_type": "code",
   "execution_count": 24,
   "metadata": {},
   "outputs": [
    {
     "data": {
      "text/plain": [
       "10+ years               1354\n",
       "Not Sentenced            823\n",
       "1 year to <5 years       635\n",
       "Sentence pending         560\n",
       "5 years to <10 years     539\n",
       "5-10 years               231\n",
       "Life                     100\n",
       "<1 year                   60\n",
       "10+ Years                 50\n",
       "0-5 years                 50\n",
       "Death                     22\n",
       "0-5 Years                 21\n",
       "5-10 Years                17\n",
       "Not sentenced             12\n",
       "not Sentenced              2\n",
       "Name: lengthOfSentence, dtype: int64"
      ]
     },
     "execution_count": 24,
     "metadata": {},
     "output_type": "execute_result"
    }
   ],
   "source": [
    "cpj['lengthOfSentence'].value_counts()"
   ]
  },
  {
   "cell_type": "code",
   "execution_count": 25,
   "metadata": {},
   "outputs": [
    {
     "data": {
      "text/plain": [
       "No     3676\n",
       "Yes    1176\n",
       "no        1\n",
       "Name: healthProblems, dtype: int64"
      ]
     },
     "execution_count": 25,
     "metadata": {},
     "output_type": "execute_result"
    }
   ],
   "source": [
    "cpj['healthProblems'].value_counts()"
   ]
  },
  {
   "cell_type": "code",
   "execution_count": 26,
   "metadata": {},
   "outputs": [
    {
     "data": {
      "text/plain": [
       "Not Sentenced       994\n",
       "Not sentenced       397\n",
       "10 years            289\n",
       "3 years             219\n",
       "15 years            199\n",
       "                   ... \n",
       "3 year 5 months       1\n",
       "1 year 3 months       1\n",
       "2 years 1 month       1\n",
       "2 years 3 months      1\n",
       "9 months 10 days      1\n",
       "Name: sentence, Length: 111, dtype: int64"
      ]
     },
     "execution_count": 26,
     "metadata": {},
     "output_type": "execute_result"
    }
   ],
   "source": [
    "cpj['sentence'].value_counts()"
   ]
  },
  {
   "cell_type": "code",
   "execution_count": 27,
   "metadata": {},
   "outputs": [
    {
     "data": {
      "text/plain": [
       "Unknown                                             421\n",
       "Istanbul                                            142\n",
       "Cairo                                                58\n",
       "Jaw                                                  35\n",
       "Baku                                                 27\n",
       "                                                   ... \n",
       "The Brazzaville house of arrest                       1\n",
       "Wang Saphung Police Station, Loei Province            1\n",
       "Luzira Maximum Security Prison, Kampala, Uganda,      1\n",
       "Zhytomir                                              1\n",
       "Baghdad                                               1\n",
       "Name: locationImprisoned, Length: 102, dtype: int64"
      ]
     },
     "execution_count": 27,
     "metadata": {},
     "output_type": "execute_result"
    }
   ],
   "source": [
    "cpj['locationImprisoned'].value_counts()"
   ]
  },
  {
   "cell_type": "code",
   "execution_count": 34,
   "metadata": {},
   "outputs": [
    {
     "data": {
      "text/html": [
       "<div>\n",
       "<style scoped>\n",
       "    .dataframe tbody tr th:only-of-type {\n",
       "        vertical-align: middle;\n",
       "    }\n",
       "\n",
       "    .dataframe tbody tr th {\n",
       "        vertical-align: top;\n",
       "    }\n",
       "\n",
       "    .dataframe thead th {\n",
       "        text-align: right;\n",
       "    }\n",
       "</style>\n",
       "<table border=\"1\" class=\"dataframe\">\n",
       "  <thead>\n",
       "    <tr style=\"text-align: right;\">\n",
       "      <th></th>\n",
       "      <th></th>\n",
       "      <th>year</th>\n",
       "    </tr>\n",
       "    <tr>\n",
       "      <th>country</th>\n",
       "      <th>locationImprisoned</th>\n",
       "      <th></th>\n",
       "    </tr>\n",
       "  </thead>\n",
       "  <tbody>\n",
       "    <tr>\n",
       "      <th rowspan=\"2\" valign=\"top\">Algeria</th>\n",
       "      <th>Algiers' El-Harrach Prison</th>\n",
       "      <td>1</td>\n",
       "    </tr>\n",
       "    <tr>\n",
       "      <th>Unknown</th>\n",
       "      <td>2</td>\n",
       "    </tr>\n",
       "    <tr>\n",
       "      <th rowspan=\"3\" valign=\"top\">Azerbaijan</th>\n",
       "      <th>Baku</th>\n",
       "      <td>27</td>\n",
       "    </tr>\n",
       "    <tr>\n",
       "      <th>Gobustan, Baku region</th>\n",
       "      <td>8</td>\n",
       "    </tr>\n",
       "    <tr>\n",
       "      <th>Sheki</th>\n",
       "      <td>3</td>\n",
       "    </tr>\n",
       "    <tr>\n",
       "      <th>Bahrain</th>\n",
       "      <th>Jaw</th>\n",
       "      <td>35</td>\n",
       "    </tr>\n",
       "    <tr>\n",
       "      <th rowspan=\"2\" valign=\"top\">Bangladesh</th>\n",
       "      <th>Mymensingh Central Jail</th>\n",
       "      <td>2</td>\n",
       "    </tr>\n",
       "    <tr>\n",
       "      <th>Unknown</th>\n",
       "      <td>5</td>\n",
       "    </tr>\n",
       "    <tr>\n",
       "      <th>Cambodia</th>\n",
       "      <th>Phnom Penh</th>\n",
       "      <td>2</td>\n",
       "    </tr>\n",
       "    <tr>\n",
       "      <th>Cameroon</th>\n",
       "      <th>Unknown</th>\n",
       "      <td>3</td>\n",
       "    </tr>\n",
       "    <tr>\n",
       "      <th rowspan=\"10\" valign=\"top\">China</th>\n",
       "      <th>Changchun, Jilin</th>\n",
       "      <td>7</td>\n",
       "    </tr>\n",
       "    <tr>\n",
       "      <th>Changji, Xinjiang</th>\n",
       "      <td>11</td>\n",
       "    </tr>\n",
       "    <tr>\n",
       "      <th>Chengdu, Sichuan</th>\n",
       "      <td>11</td>\n",
       "    </tr>\n",
       "    <tr>\n",
       "      <th>Chongqing, Sichuan</th>\n",
       "      <td>5</td>\n",
       "    </tr>\n",
       "    <tr>\n",
       "      <th>Chuanzhong, Sichuan</th>\n",
       "      <td>10</td>\n",
       "    </tr>\n",
       "    <tr>\n",
       "      <th>Dali, Yunnan province</th>\n",
       "      <td>4</td>\n",
       "    </tr>\n",
       "    <tr>\n",
       "      <th>Dongguan, Guangdong</th>\n",
       "      <td>7</td>\n",
       "    </tr>\n",
       "    <tr>\n",
       "      <th>Hangzhou, Hangzhou</th>\n",
       "      <td>6</td>\n",
       "    </tr>\n",
       "    <tr>\n",
       "      <th>Huanggang, Hubei</th>\n",
       "      <td>10</td>\n",
       "    </tr>\n",
       "    <tr>\n",
       "      <th>Huzhou, Zhejiang</th>\n",
       "      <td>6</td>\n",
       "    </tr>\n",
       "  </tbody>\n",
       "</table>\n",
       "</div>"
      ],
      "text/plain": [
       "                                       year\n",
       "country    locationImprisoned              \n",
       "Algeria    Algiers' El-Harrach Prison     1\n",
       "           Unknown                        2\n",
       "Azerbaijan Baku                          27\n",
       "           Gobustan, Baku region          8\n",
       "           Sheki                          3\n",
       "Bahrain    Jaw                           35\n",
       "Bangladesh Mymensingh Central Jail        2\n",
       "           Unknown                        5\n",
       "Cambodia   Phnom Penh                     2\n",
       "Cameroon   Unknown                        3\n",
       "China      Changchun, Jilin               7\n",
       "           Changji, Xinjiang             11\n",
       "           Chengdu, Sichuan              11\n",
       "           Chongqing, Sichuan             5\n",
       "           Chuanzhong, Sichuan           10\n",
       "           Dali, Yunnan province          4\n",
       "           Dongguan, Guangdong            7\n",
       "           Hangzhou, Hangzhou             6\n",
       "           Huanggang, Hubei              10\n",
       "           Huzhou, Zhejiang               6"
      ]
     },
     "execution_count": 34,
     "metadata": {},
     "output_type": "execute_result"
    }
   ],
   "source": [
    "cpj.groupby(['country','locationImprisoned']).count().loc[:,['year']].head(20)"
   ]
  },
  {
   "cell_type": "code",
   "execution_count": null,
   "metadata": {},
   "outputs": [],
   "source": []
  }
 ],
 "metadata": {
  "kernelspec": {
   "display_name": "Python 3",
   "language": "python",
   "name": "python3"
  },
  "language_info": {
   "codemirror_mode": {
    "name": "ipython",
    "version": 3
   },
   "file_extension": ".py",
   "mimetype": "text/x-python",
   "name": "python",
   "nbconvert_exporter": "python",
   "pygments_lexer": "ipython3",
   "version": "3.7.6"
  }
 },
 "nbformat": 4,
 "nbformat_minor": 4
}
