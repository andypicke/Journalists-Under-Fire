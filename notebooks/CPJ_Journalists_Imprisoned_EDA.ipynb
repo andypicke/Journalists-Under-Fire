{
 "cells": [
  {
   "cell_type": "code",
   "execution_count": 1,
   "metadata": {},
   "outputs": [],
   "source": [
    "import pandas as pd\n",
    "import numpy as np\n",
    "import matplotlib.pyplot as plt\n",
    "%matplotlib inline\n",
    "\n",
    "# make plots look nice\n",
    "plt.rcParams['font.size'] = 14\n",
    "plt.rcParams['axes.labelsize'] = 'large'\n",
    "plt.rcParams['xtick.labelsize'] = 'large'\n",
    "plt.rcParams['ytick.labelsize'] = 'large'\n",
    "plt.rcParams['lines.linewidth'] = 3\n",
    "plt.style.use('ggplot')"
   ]
  },
  {
   "cell_type": "markdown",
   "metadata": {},
   "source": [
    "Import functions I wrote while looking at journalist deaths to deal with columns that list multiple categories for some entries."
   ]
  },
  {
   "cell_type": "code",
   "execution_count": 2,
   "metadata": {},
   "outputs": [],
   "source": [
    "# get the unique values for category\n",
    "\n",
    "def get_unique_category_vals(df, col_name, dropna=False):\n",
    "    '''\n",
    "    Find unique category values for specified column in a dataframe, where some rows \n",
    "    contain multiple categories separated by commas.\n",
    "    '''\n",
    "    unique_entries = list(cpj[col_name].unique())\n",
    "    unique_entries = list(map(str,unique_entries))\n",
    "    unique_entries_split = list(map(lambda x: x.split(','),unique_entries))\n",
    "    unique_vals = set([val for sublist in unique_entries_split for val in sublist])\n",
    "    if dropna:\n",
    "        unique_vals.remove('nan')\n",
    "    return(unique_vals)\n",
    "\n",
    "#uvals = get_unique_category_vals(cpj,'coverage')\n",
    "#print(uvals)\n",
    "\n",
    "\n",
    "def add_category_counts_to_df(df, col_name, dropna=False):\n",
    "    '''\n",
    "    Add boolean columns to dataframe for each unique category in col_name indicating if that category \n",
    "    was present in col_name. Useful when some rows of col_name contain multiple categories separated by commas.\n",
    "    Adding these columns allows us to sum/count each individual category separately.\n",
    "    '''\n",
    "    df_new = df.copy()\n",
    "    unique_vals = get_unique_category_vals(df_new, col_name, dropna)\n",
    "    \n",
    "    for val in unique_vals:\n",
    "        df_new[col_name + '_' + val] = df_new[col_name].apply(str).apply(lambda x: x.split(',')).apply(lambda x: val in x)\n",
    "    return df_new\n",
    "\n",
    "#df = cpj.copy()\n",
    "#df=add_category_counts_to_df(df,'coverage')\n",
    "\n",
    "#df.loc[:,['year','coverage','coverage_War','coverage_Crime']].head()\n",
    "\n",
    "def count_categories(df, col_name, dropna=False):\n",
    "    '''\n",
    "    '''\n",
    "    df_count=add_category_counts_to_df(df, col_name, dropna)\n",
    "    df_count=df_count.filter(regex='^' + col_name, axis=1).sum().to_frame(name='Count').reset_index().rename(columns={'index':col_name}).sort_values('Count',ascending=False)\n",
    "    df_count[col_name]=df_count[col_name].apply(lambda x: x.replace(col_name +'_',''))\n",
    "    return df_count\n",
    "\n",
    "\n",
    "def plot_hbar_category_count_multiplecats(df, col_name, topN=None, dropna=False):\n",
    "    '''\n",
    "    Make a horizontal bar chart of category counts for a specified column in dataframe\n",
    "    '''\n",
    "    df_count = count_categories(df, col_name, dropna)\n",
    "    fig, ax = plt.subplots(1,figsize=(12,8))\n",
    "    ax.barh(df_count[col_name], df_count['Count'])\n",
    "    ax.set_xlabel('# Journalists Imprisoned')\n",
    "    if topN:\n",
    "        ax.set_title('# Journalists Imprisoned By ' + col_name + ' (Top ' + str(topN) +')')\n",
    "    else:\n",
    "        ax.set_title('# Journalists Imprisoned By ' + col_name)\n",
    "    ax.invert_yaxis()\n",
    "    return \n",
    "\n"
   ]
  },
  {
   "cell_type": "code",
   "execution_count": 3,
   "metadata": {},
   "outputs": [],
   "source": [
    "def remove_spaces_in_category_lists(df, col_name):\n",
    "    '''\n",
    "    Remove spaces in rows of col_name where a list of categories (separated by commas) is given\n",
    "    \n",
    "    Example: ['Camera Operator, Internet Reporter, Print reporter'] > ['Camera Operator,Internet Reporter,Print reporter']\n",
    "    \n",
    "    '''\n",
    "    df[col_name] = df[col_name].apply(lambda x: x.replace(',  ',',') if type(x)==str else x)\n",
    "    df[col_name] = df[col_name].apply(lambda x: x.replace(', ',',') if type(x)==str else x)\n",
    "    return df"
   ]
  },
  {
   "cell_type": "code",
   "execution_count": 4,
   "metadata": {},
   "outputs": [],
   "source": [
    "def category_count_df_one_column(df, col_name, topN=None ,dropna=False):\n",
    "    '''\n",
    "    Make dataframe with category counts for a specified column\n",
    "    \n",
    "    INPUT\n",
    "    df : Pandas Dataframe\n",
    "    col_name : (str) Name of column to count\n",
    "    drop_na : (bool) (optional) Whether or not to include NaNs in counts\n",
    "    \n",
    "    OUTPUT\n",
    "    df_count : Pandas dataframe with 2 columns: col_name and Count\n",
    "    '''\n",
    "    df_count = cpj[col_name].value_counts(dropna).to_frame().reset_index().rename(columns={col_name:'Count','index':col_name})\n",
    "    if topN:\n",
    "        df_count = df_count.head(topN)\n",
    "    return df_count"
   ]
  },
  {
   "cell_type": "code",
   "execution_count": 5,
   "metadata": {},
   "outputs": [],
   "source": [
    "def plot_hbar_category_count(df, col_name, topN=None, dropna=False):\n",
    "    '''\n",
    "    Make a horizontal bar chart of category counts for a specified column in dataframe\n",
    "    '''\n",
    "    df_count = category_count_df_one_column(df, col_name, topN, dropna=False)\n",
    "    fig, ax = plt.subplots(1,figsize=(12,8))\n",
    "    ax.barh(df_count[col_name], df_count['Count'])\n",
    "    ax.set_xlabel('# Journalists Imprisoned')\n",
    "    if topN:\n",
    "        ax.set_title('# Journalists Imprisoned By ' + col_name + ' (Top ' + str(topN) +')')\n",
    "    else:\n",
    "        ax.set_title('# Journalists Imprisoned By ' + col_name)\n",
    "    ax.invert_yaxis()\n",
    "    return "
   ]
  },
  {
   "cell_type": "code",
   "execution_count": 6,
   "metadata": {},
   "outputs": [
    {
     "data": {
      "text/html": [
       "<div>\n",
       "<style scoped>\n",
       "    .dataframe tbody tr th:only-of-type {\n",
       "        vertical-align: middle;\n",
       "    }\n",
       "\n",
       "    .dataframe tbody tr th {\n",
       "        vertical-align: top;\n",
       "    }\n",
       "\n",
       "    .dataframe thead th {\n",
       "        text-align: right;\n",
       "    }\n",
       "</style>\n",
       "<table border=\"1\" class=\"dataframe\">\n",
       "  <thead>\n",
       "    <tr style=\"text-align: right;\">\n",
       "      <th></th>\n",
       "      <th>year</th>\n",
       "      <th>combinedStatus</th>\n",
       "      <th>fullName</th>\n",
       "      <th>sortName</th>\n",
       "      <th>primaryNationality</th>\n",
       "      <th>secondaryNationality</th>\n",
       "      <th>tertiaryNationality</th>\n",
       "      <th>gender</th>\n",
       "      <th>photoUrl</th>\n",
       "      <th>photoCredit</th>\n",
       "      <th>...</th>\n",
       "      <th>threatened</th>\n",
       "      <th>charges</th>\n",
       "      <th>motive</th>\n",
       "      <th>lengthOfSentence</th>\n",
       "      <th>healthProblems</th>\n",
       "      <th>impCountry</th>\n",
       "      <th>entry</th>\n",
       "      <th>sentenceDate</th>\n",
       "      <th>sentence</th>\n",
       "      <th>locationImprisoned</th>\n",
       "    </tr>\n",
       "  </thead>\n",
       "  <tbody>\n",
       "    <tr>\n",
       "      <th>0</th>\n",
       "      <td>2018</td>\n",
       "      <td>Imprisoned</td>\n",
       "      <td>Aasif Sultan</td>\n",
       "      <td>NaN</td>\n",
       "      <td>India</td>\n",
       "      <td>NaN</td>\n",
       "      <td>NaN</td>\n",
       "      <td>Male</td>\n",
       "      <td>https://cpj-photos.s3.us-west-2.amazonaws.com/...</td>\n",
       "      <td>Muzamil Mattoo/Kashmir Narrator</td>\n",
       "      <td>...</td>\n",
       "      <td>NaN</td>\n",
       "      <td>Anti-state</td>\n",
       "      <td>NaN</td>\n",
       "      <td>Sentence pending</td>\n",
       "      <td>Yes</td>\n",
       "      <td>NaN</td>\n",
       "      <td>NaN</td>\n",
       "      <td>NaN</td>\n",
       "      <td>Not sentenced</td>\n",
       "      <td>NaN</td>\n",
       "    </tr>\n",
       "    <tr>\n",
       "      <th>1</th>\n",
       "      <td>2019</td>\n",
       "      <td>Imprisoned</td>\n",
       "      <td>Aasif Sultan</td>\n",
       "      <td>NaN</td>\n",
       "      <td>India</td>\n",
       "      <td>NaN</td>\n",
       "      <td>NaN</td>\n",
       "      <td>Male</td>\n",
       "      <td>https://cpj-photos.s3.us-west-2.amazonaws.com/...</td>\n",
       "      <td>Muzamil Mattoo/Kashmir Narrator</td>\n",
       "      <td>...</td>\n",
       "      <td>NaN</td>\n",
       "      <td>Anti-state</td>\n",
       "      <td>NaN</td>\n",
       "      <td>Sentence pending</td>\n",
       "      <td>Yes</td>\n",
       "      <td>NaN</td>\n",
       "      <td>NaN</td>\n",
       "      <td>NaN</td>\n",
       "      <td>Not sentenced</td>\n",
       "      <td>NaN</td>\n",
       "    </tr>\n",
       "    <tr>\n",
       "      <th>2</th>\n",
       "      <td>1997</td>\n",
       "      <td>Imprisoned</td>\n",
       "      <td>Abay Hailu</td>\n",
       "      <td>NaN</td>\n",
       "      <td>Ethiopia</td>\n",
       "      <td>NaN</td>\n",
       "      <td>NaN</td>\n",
       "      <td>Male</td>\n",
       "      <td>NaN</td>\n",
       "      <td>NaN</td>\n",
       "      <td>...</td>\n",
       "      <td>NaN</td>\n",
       "      <td>NaN</td>\n",
       "      <td>NaN</td>\n",
       "      <td>1 year to &lt;5 years</td>\n",
       "      <td>Yes</td>\n",
       "      <td>NaN</td>\n",
       "      <td>NaN</td>\n",
       "      <td>NaN</td>\n",
       "      <td>1 year</td>\n",
       "      <td>NaN</td>\n",
       "    </tr>\n",
       "    <tr>\n",
       "      <th>3</th>\n",
       "      <td>1993</td>\n",
       "      <td>Imprisoned</td>\n",
       "      <td>Abbas Abdi</td>\n",
       "      <td>NaN</td>\n",
       "      <td>Iran</td>\n",
       "      <td>NaN</td>\n",
       "      <td>NaN</td>\n",
       "      <td>Male</td>\n",
       "      <td>NaN</td>\n",
       "      <td>NaN</td>\n",
       "      <td>...</td>\n",
       "      <td>NaN</td>\n",
       "      <td>NaN</td>\n",
       "      <td>NaN</td>\n",
       "      <td>1 year to &lt;5 years</td>\n",
       "      <td>No</td>\n",
       "      <td>NaN</td>\n",
       "      <td>NaN</td>\n",
       "      <td>NaN</td>\n",
       "      <td>1 year</td>\n",
       "      <td>NaN</td>\n",
       "    </tr>\n",
       "    <tr>\n",
       "      <th>4</th>\n",
       "      <td>2011</td>\n",
       "      <td>Imprisoned</td>\n",
       "      <td>Abd al-Karim Thail</td>\n",
       "      <td>NaN</td>\n",
       "      <td>Yemen</td>\n",
       "      <td>NaN</td>\n",
       "      <td>NaN</td>\n",
       "      <td>Male</td>\n",
       "      <td>NaN</td>\n",
       "      <td>NaN</td>\n",
       "      <td>...</td>\n",
       "      <td>NaN</td>\n",
       "      <td>No Charge</td>\n",
       "      <td>NaN</td>\n",
       "      <td>Not Sentenced</td>\n",
       "      <td>No</td>\n",
       "      <td>NaN</td>\n",
       "      <td>NaN</td>\n",
       "      <td>NaN</td>\n",
       "      <td>Not Sentenced</td>\n",
       "      <td>NaN</td>\n",
       "    </tr>\n",
       "  </tbody>\n",
       "</table>\n",
       "<p>5 rows × 43 columns</p>\n",
       "</div>"
      ],
      "text/plain": [
       "   year combinedStatus            fullName  sortName primaryNationality  \\\n",
       "0  2018     Imprisoned        Aasif Sultan       NaN              India   \n",
       "1  2019     Imprisoned        Aasif Sultan       NaN              India   \n",
       "2  1997     Imprisoned          Abay Hailu       NaN           Ethiopia   \n",
       "3  1993     Imprisoned          Abbas Abdi       NaN               Iran   \n",
       "4  2011     Imprisoned  Abd al-Karim Thail       NaN              Yemen   \n",
       "\n",
       "  secondaryNationality  tertiaryNationality gender  \\\n",
       "0                  NaN                  NaN   Male   \n",
       "1                  NaN                  NaN   Male   \n",
       "2                  NaN                  NaN   Male   \n",
       "3                  NaN                  NaN   Male   \n",
       "4                  NaN                  NaN   Male   \n",
       "\n",
       "                                            photoUrl  \\\n",
       "0  https://cpj-photos.s3.us-west-2.amazonaws.com/...   \n",
       "1  https://cpj-photos.s3.us-west-2.amazonaws.com/...   \n",
       "2                                                NaN   \n",
       "3                                                NaN   \n",
       "4                                                NaN   \n",
       "\n",
       "                       photoCredit  ... threatened     charges  motive  \\\n",
       "0  Muzamil Mattoo/Kashmir Narrator  ...        NaN  Anti-state     NaN   \n",
       "1  Muzamil Mattoo/Kashmir Narrator  ...        NaN  Anti-state     NaN   \n",
       "2                              NaN  ...        NaN         NaN     NaN   \n",
       "3                              NaN  ...        NaN         NaN     NaN   \n",
       "4                              NaN  ...        NaN   No Charge     NaN   \n",
       "\n",
       "     lengthOfSentence healthProblems impCountry entry sentenceDate  \\\n",
       "0    Sentence pending            Yes        NaN   NaN          NaN   \n",
       "1    Sentence pending            Yes        NaN   NaN          NaN   \n",
       "2  1 year to <5 years            Yes        NaN   NaN          NaN   \n",
       "3  1 year to <5 years             No        NaN   NaN          NaN   \n",
       "4       Not Sentenced             No        NaN   NaN          NaN   \n",
       "\n",
       "        sentence locationImprisoned  \n",
       "0  Not sentenced                NaN  \n",
       "1  Not sentenced                NaN  \n",
       "2         1 year                NaN  \n",
       "3         1 year                NaN  \n",
       "4  Not Sentenced                NaN  \n",
       "\n",
       "[5 rows x 43 columns]"
      ]
     },
     "execution_count": 6,
     "metadata": {},
     "output_type": "execute_result"
    }
   ],
   "source": [
    "cpj = pd.read_csv('../data/Journalists Imprisoned between 1992 and 2020.csv')\n",
    "cpj.head()"
   ]
  },
  {
   "cell_type": "code",
   "execution_count": 7,
   "metadata": {},
   "outputs": [
    {
     "name": "stdout",
     "output_type": "stream",
     "text": [
      "<class 'pandas.core.frame.DataFrame'>\n",
      "RangeIndex: 4854 entries, 0 to 4853\n",
      "Data columns (total 43 columns):\n",
      " #   Column                    Non-Null Count  Dtype  \n",
      "---  ------                    --------------  -----  \n",
      " 0   year                      4854 non-null   int64  \n",
      " 1   combinedStatus            4854 non-null   object \n",
      " 2   fullName                  4854 non-null   object \n",
      " 3   sortName                  0 non-null      float64\n",
      " 4   primaryNationality        4838 non-null   object \n",
      " 5   secondaryNationality      29 non-null     object \n",
      " 6   tertiaryNationality       0 non-null      float64\n",
      " 7   gender                    4774 non-null   object \n",
      " 8   photoUrl                  526 non-null    object \n",
      " 9   photoCredit               529 non-null    object \n",
      " 10  type                      4854 non-null   object \n",
      " 11  lastStatus                1156 non-null   object \n",
      " 12  typeOfDeath               0 non-null      float64\n",
      " 13  status                    4854 non-null   object \n",
      " 14  employedAs                4088 non-null   object \n",
      " 15  organizations             4814 non-null   object \n",
      " 16  jobs                      4726 non-null   object \n",
      " 17  coverage                  4115 non-null   object \n",
      " 18  mediums                   4753 non-null   object \n",
      " 19  country                   4854 non-null   object \n",
      " 20  location                  892 non-null    object \n",
      " 21  region                    77 non-null     object \n",
      " 22  state                     6 non-null      object \n",
      " 23  locality                  843 non-null    object \n",
      " 24  province                  146 non-null    object \n",
      " 25  localOrForeign            4854 non-null   object \n",
      " 26  sourcesOfFire             0 non-null      float64\n",
      " 27  motiveConfirmed           0 non-null      float64\n",
      " 28  accountabilityCrossfire   0 non-null      float64\n",
      " 29  accountabilityAssignment  0 non-null      float64\n",
      " 30  impunityMurder            0 non-null      float64\n",
      " 31  tortured                  0 non-null      float64\n",
      " 32  captive                   0 non-null      float64\n",
      " 33  threatened                0 non-null      float64\n",
      " 34  charges                   4676 non-null   object \n",
      " 35  motive                    0 non-null      float64\n",
      " 36  lengthOfSentence          4476 non-null   object \n",
      " 37  healthProblems            4853 non-null   object \n",
      " 38  impCountry                0 non-null      float64\n",
      " 39  entry                     0 non-null      float64\n",
      " 40  sentenceDate              0 non-null      float64\n",
      " 41  sentence                  4480 non-null   object \n",
      " 42  locationImprisoned        1256 non-null   object \n",
      "dtypes: float64(15), int64(1), object(27)\n",
      "memory usage: 1.6+ MB\n"
     ]
    }
   ],
   "source": [
    "cpj.info()"
   ]
  },
  {
   "cell_type": "markdown",
   "metadata": {},
   "source": [
    "First drop any columns with all nulls"
   ]
  },
  {
   "cell_type": "code",
   "execution_count": 8,
   "metadata": {},
   "outputs": [
    {
     "name": "stdout",
     "output_type": "stream",
     "text": [
      "<class 'pandas.core.frame.DataFrame'>\n",
      "RangeIndex: 4854 entries, 0 to 4853\n",
      "Data columns (total 28 columns):\n",
      " #   Column                Non-Null Count  Dtype \n",
      "---  ------                --------------  ----- \n",
      " 0   year                  4854 non-null   int64 \n",
      " 1   combinedStatus        4854 non-null   object\n",
      " 2   fullName              4854 non-null   object\n",
      " 3   primaryNationality    4838 non-null   object\n",
      " 4   secondaryNationality  29 non-null     object\n",
      " 5   gender                4774 non-null   object\n",
      " 6   photoUrl              526 non-null    object\n",
      " 7   photoCredit           529 non-null    object\n",
      " 8   type                  4854 non-null   object\n",
      " 9   lastStatus            1156 non-null   object\n",
      " 10  status                4854 non-null   object\n",
      " 11  employedAs            4088 non-null   object\n",
      " 12  organizations         4814 non-null   object\n",
      " 13  jobs                  4726 non-null   object\n",
      " 14  coverage              4115 non-null   object\n",
      " 15  mediums               4753 non-null   object\n",
      " 16  country               4854 non-null   object\n",
      " 17  location              892 non-null    object\n",
      " 18  region                77 non-null     object\n",
      " 19  state                 6 non-null      object\n",
      " 20  locality              843 non-null    object\n",
      " 21  province              146 non-null    object\n",
      " 22  localOrForeign        4854 non-null   object\n",
      " 23  charges               4676 non-null   object\n",
      " 24  lengthOfSentence      4476 non-null   object\n",
      " 25  healthProblems        4853 non-null   object\n",
      " 26  sentence              4480 non-null   object\n",
      " 27  locationImprisoned    1256 non-null   object\n",
      "dtypes: int64(1), object(27)\n",
      "memory usage: 1.0+ MB\n"
     ]
    }
   ],
   "source": [
    "cpj.dropna(axis=1, how='all', inplace=True)\n",
    "cpj.info()"
   ]
  },
  {
   "cell_type": "markdown",
   "metadata": {},
   "source": [
    "Also drop any columns with less than 1000 non-null values"
   ]
  },
  {
   "cell_type": "code",
   "execution_count": 9,
   "metadata": {},
   "outputs": [
    {
     "name": "stdout",
     "output_type": "stream",
     "text": [
      "<class 'pandas.core.frame.DataFrame'>\n",
      "RangeIndex: 4854 entries, 0 to 4853\n",
      "Data columns (total 20 columns):\n",
      " #   Column              Non-Null Count  Dtype \n",
      "---  ------              --------------  ----- \n",
      " 0   year                4854 non-null   int64 \n",
      " 1   combinedStatus      4854 non-null   object\n",
      " 2   fullName            4854 non-null   object\n",
      " 3   primaryNationality  4838 non-null   object\n",
      " 4   gender              4774 non-null   object\n",
      " 5   type                4854 non-null   object\n",
      " 6   lastStatus          1156 non-null   object\n",
      " 7   status              4854 non-null   object\n",
      " 8   employedAs          4088 non-null   object\n",
      " 9   organizations       4814 non-null   object\n",
      " 10  jobs                4726 non-null   object\n",
      " 11  coverage            4115 non-null   object\n",
      " 12  mediums             4753 non-null   object\n",
      " 13  country             4854 non-null   object\n",
      " 14  localOrForeign      4854 non-null   object\n",
      " 15  charges             4676 non-null   object\n",
      " 16  lengthOfSentence    4476 non-null   object\n",
      " 17  healthProblems      4853 non-null   object\n",
      " 18  sentence            4480 non-null   object\n",
      " 19  locationImprisoned  1256 non-null   object\n",
      "dtypes: int64(1), object(19)\n",
      "memory usage: 758.6+ KB\n"
     ]
    }
   ],
   "source": [
    "cpj.dropna(axis=1, thresh=1000, inplace=True)\n",
    "cpj.info()"
   ]
  },
  {
   "cell_type": "markdown",
   "metadata": {},
   "source": [
    "We have 3 status fields: 'combinedStatus', 'lastStatus', and 'status'. None of them seem really useful, basically every row has a status of imprisoned. So drop these columns too."
   ]
  },
  {
   "cell_type": "code",
   "execution_count": 10,
   "metadata": {},
   "outputs": [
    {
     "data": {
      "text/plain": [
       "Imprisoned    4853\n",
       "imprisoned       1\n",
       "Name: combinedStatus, dtype: int64"
      ]
     },
     "execution_count": 10,
     "metadata": {},
     "output_type": "execute_result"
    }
   ],
   "source": [
    "cpj['combinedStatus'].value_counts()"
   ]
  },
  {
   "cell_type": "code",
   "execution_count": 11,
   "metadata": {},
   "outputs": [
    {
     "data": {
      "text/plain": [
       "Imprisoned    1145\n",
       "Killed          11\n",
       "Name: lastStatus, dtype: int64"
      ]
     },
     "execution_count": 11,
     "metadata": {},
     "output_type": "execute_result"
    }
   ],
   "source": [
    "cpj['lastStatus'].value_counts()"
   ]
  },
  {
   "cell_type": "code",
   "execution_count": 12,
   "metadata": {},
   "outputs": [
    {
     "data": {
      "text/plain": [
       "Imprisoned    4853\n",
       "imprisoned       1\n",
       "Name: status, dtype: int64"
      ]
     },
     "execution_count": 12,
     "metadata": {},
     "output_type": "execute_result"
    }
   ],
   "source": [
    "cpj['status'].value_counts()"
   ]
  },
  {
   "cell_type": "code",
   "execution_count": 13,
   "metadata": {},
   "outputs": [
    {
     "name": "stdout",
     "output_type": "stream",
     "text": [
      "<class 'pandas.core.frame.DataFrame'>\n",
      "RangeIndex: 4854 entries, 0 to 4853\n",
      "Data columns (total 17 columns):\n",
      " #   Column              Non-Null Count  Dtype \n",
      "---  ------              --------------  ----- \n",
      " 0   year                4854 non-null   int64 \n",
      " 1   fullName            4854 non-null   object\n",
      " 2   primaryNationality  4838 non-null   object\n",
      " 3   gender              4774 non-null   object\n",
      " 4   type                4854 non-null   object\n",
      " 5   employedAs          4088 non-null   object\n",
      " 6   organizations       4814 non-null   object\n",
      " 7   jobs                4726 non-null   object\n",
      " 8   coverage            4115 non-null   object\n",
      " 9   mediums             4753 non-null   object\n",
      " 10  country             4854 non-null   object\n",
      " 11  localOrForeign      4854 non-null   object\n",
      " 12  charges             4676 non-null   object\n",
      " 13  lengthOfSentence    4476 non-null   object\n",
      " 14  healthProblems      4853 non-null   object\n",
      " 15  sentence            4480 non-null   object\n",
      " 16  locationImprisoned  1256 non-null   object\n",
      "dtypes: int64(1), object(16)\n",
      "memory usage: 644.8+ KB\n"
     ]
    }
   ],
   "source": [
    "cpj.drop(['combinedStatus','lastStatus','status'], axis=1, inplace=True)\n",
    "cpj.info()"
   ]
  },
  {
   "cell_type": "markdown",
   "metadata": {},
   "source": [
    "Unlike the journalist deaths data, we actually have gender info for a majority of rows. Probably this distribution in some part reflects the underlying distribution of gender in journalism, but hard to say for sure. I don't have data on the gender distribution of all journalists."
   ]
  },
  {
   "cell_type": "code",
   "execution_count": 14,
   "metadata": {},
   "outputs": [
    {
     "data": {
      "text/plain": [
       "Male      4379\n",
       "Female     395\n",
       "Name: gender, dtype: int64"
      ]
     },
     "execution_count": 14,
     "metadata": {},
     "output_type": "execute_result"
    }
   ],
   "source": [
    "cpj['gender'].value_counts()"
   ]
  },
  {
   "cell_type": "markdown",
   "metadata": {},
   "source": [
    "The 'type' field is useless since it only contains 1 unique value, drop that too."
   ]
  },
  {
   "cell_type": "code",
   "execution_count": 15,
   "metadata": {},
   "outputs": [
    {
     "data": {
      "text/plain": [
       "Journalist    4854\n",
       "Name: type, dtype: int64"
      ]
     },
     "execution_count": 15,
     "metadata": {},
     "output_type": "execute_result"
    }
   ],
   "source": [
    "cpj['type'].value_counts()"
   ]
  },
  {
   "cell_type": "code",
   "execution_count": 16,
   "metadata": {},
   "outputs": [
    {
     "name": "stdout",
     "output_type": "stream",
     "text": [
      "<class 'pandas.core.frame.DataFrame'>\n",
      "RangeIndex: 4854 entries, 0 to 4853\n",
      "Data columns (total 16 columns):\n",
      " #   Column              Non-Null Count  Dtype \n",
      "---  ------              --------------  ----- \n",
      " 0   year                4854 non-null   int64 \n",
      " 1   fullName            4854 non-null   object\n",
      " 2   primaryNationality  4838 non-null   object\n",
      " 3   gender              4774 non-null   object\n",
      " 4   employedAs          4088 non-null   object\n",
      " 5   organizations       4814 non-null   object\n",
      " 6   jobs                4726 non-null   object\n",
      " 7   coverage            4115 non-null   object\n",
      " 8   mediums             4753 non-null   object\n",
      " 9   country             4854 non-null   object\n",
      " 10  localOrForeign      4854 non-null   object\n",
      " 11  charges             4676 non-null   object\n",
      " 12  lengthOfSentence    4476 non-null   object\n",
      " 13  healthProblems      4853 non-null   object\n",
      " 14  sentence            4480 non-null   object\n",
      " 15  locationImprisoned  1256 non-null   object\n",
      "dtypes: int64(1), object(15)\n",
      "memory usage: 606.9+ KB\n"
     ]
    }
   ],
   "source": [
    "cpj.drop('type', axis=1, inplace=True)\n",
    "cpj.info()"
   ]
  },
  {
   "cell_type": "markdown",
   "metadata": {},
   "source": [
    "The 'employedAs' column has 2 different spellings of 'staff'; fix these. Not sure how useful this column will be."
   ]
  },
  {
   "cell_type": "code",
   "execution_count": 17,
   "metadata": {},
   "outputs": [
    {
     "data": {
      "text/plain": [
       "Staff        2788\n",
       "Freelance    1298\n",
       "staff           2\n",
       "Name: employedAs, dtype: int64"
      ]
     },
     "execution_count": 17,
     "metadata": {},
     "output_type": "execute_result"
    }
   ],
   "source": [
    "cpj['employedAs'].value_counts()"
   ]
  },
  {
   "cell_type": "code",
   "execution_count": 18,
   "metadata": {},
   "outputs": [
    {
     "data": {
      "text/plain": [
       "Staff        2790\n",
       "Freelance    1298\n",
       "Name: employedAs, dtype: int64"
      ]
     },
     "execution_count": 18,
     "metadata": {},
     "output_type": "execute_result"
    }
   ],
   "source": [
    "cpj['employedAs'] = cpj['employedAs'].apply(lambda x: x.replace('staff','Staff') if type(x)==str else x)\n",
    "cpj['employedAs'].value_counts()"
   ]
  },
  {
   "cell_type": "code",
   "execution_count": null,
   "metadata": {},
   "outputs": [],
   "source": []
  },
  {
   "cell_type": "code",
   "execution_count": 19,
   "metadata": {},
   "outputs": [
    {
     "data": {
      "text/plain": [
       "Freelance                    1129\n",
       "Al-Nida                        86\n",
       "Radio Bana                     64\n",
       "Setit                          64\n",
       "Uighurbiz                      59\n",
       "                             ... \n",
       "Palestine Post                  1\n",
       "Yashmagh, Yarpagh, Dilmaj       1\n",
       "Ghion Magazine                  1\n",
       "Agiere, Welafen                 1\n",
       "Xeberman, Press-az              1\n",
       "Name: organizations, Length: 843, dtype: int64"
      ]
     },
     "execution_count": 19,
     "metadata": {},
     "output_type": "execute_result"
    }
   ],
   "source": [
    "cpj['organizations'].value_counts()"
   ]
  },
  {
   "cell_type": "markdown",
   "metadata": {},
   "source": [
    "The 'jobs', 'coverage', 'mediums', and 'charges' columns have the same issue as in the journalist deaths data, where some rows list multiple columns. We can use the functions I wrote for that data set to get counts for these types of columns. There are also a couple issues with categories being spelled different ways that need to be fixed."
   ]
  },
  {
   "cell_type": "code",
   "execution_count": 20,
   "metadata": {},
   "outputs": [
    {
     "data": {
      "text/plain": [
       "Editor                                                                                            805\n",
       "Print reporter                                                                                    719\n",
       "Internet Reporter                                                                                 532\n",
       "Columnist/Commentator                                                                             512\n",
       "Publisher/Owner                                                                                   398\n",
       "                                                                                                 ... \n",
       "Broadcast Reporter, Internet Reporter, Photographer, Print reporter, Producer, Publisher/Owner      1\n",
       "Editor, Internet Reporter, Photographer, Print Reporter                                             1\n",
       "Columnist/Commentator, Photographer                                                                 1\n",
       "Documentary Filmmaker, Internet Reporter                                                            1\n",
       "Broadcast Reporter, Camera Operator, Documentary Filmmaker, Internet Reporter, Producer             1\n",
       "Name: jobs, Length: 117, dtype: int64"
      ]
     },
     "execution_count": 20,
     "metadata": {},
     "output_type": "execute_result"
    }
   ],
   "source": [
    "cpj['jobs'].value_counts()"
   ]
  },
  {
   "cell_type": "markdown",
   "metadata": {},
   "source": [
    "Get unique values from 'jobs' column; note multiple spellings of several categories"
   ]
  },
  {
   "cell_type": "code",
   "execution_count": 21,
   "metadata": {},
   "outputs": [
    {
     "data": {
      "text/plain": [
       "{'  Print Reporter',\n",
       " ' Broadcast reporter',\n",
       " ' Camera Operator',\n",
       " ' Columnist/Commentator',\n",
       " ' Documentary Filmmaker',\n",
       " ' Documentary filmmaker',\n",
       " ' Editor',\n",
       " ' Internet Reporter',\n",
       " ' Internet reporter',\n",
       " ' Photographer',\n",
       " ' Print Reporter',\n",
       " ' Print reporter',\n",
       " ' Producer',\n",
       " ' Publisher/Owner',\n",
       " ' Publisher/owner',\n",
       " ' Technician',\n",
       " ' print reporter',\n",
       " 'Broadcast Reporter',\n",
       " 'Broadcast reporter',\n",
       " 'Camera Operator',\n",
       " 'Camera operator',\n",
       " 'Columnist',\n",
       " 'Columnist/Commentator',\n",
       " 'Columnist/commentator',\n",
       " 'Distributor',\n",
       " 'Documentary Filmmaker',\n",
       " 'Editor',\n",
       " 'Internet Reporter',\n",
       " 'Internet reporter',\n",
       " 'Owner/Publisher',\n",
       " 'Photographer',\n",
       " 'Print Reporter',\n",
       " 'Print reporter',\n",
       " 'Producer',\n",
       " 'Publisher/Owner',\n",
       " 'Publisher/owner',\n",
       " 'Reporter',\n",
       " 'Technician',\n",
       " 'Unknown',\n",
       " 'nan'}"
      ]
     },
     "execution_count": 21,
     "metadata": {},
     "output_type": "execute_result"
    }
   ],
   "source": [
    "get_unique_category_vals(cpj, 'jobs', dropna=False)"
   ]
  },
  {
   "cell_type": "code",
   "execution_count": 22,
   "metadata": {},
   "outputs": [
    {
     "data": {
      "text/plain": [
       "{' Broadcast reporter',\n",
       " ' Editor',\n",
       " 'Broadcast Reporter',\n",
       " 'Broadcast reporter',\n",
       " 'Camera Operator',\n",
       " 'Camera operator',\n",
       " 'Columnist',\n",
       " 'Columnist/Commentator',\n",
       " 'Columnist/commentator',\n",
       " 'Distributor',\n",
       " 'Documentary Filmmaker',\n",
       " 'Documentary filmmaker',\n",
       " 'Editor',\n",
       " 'Internet Reporter',\n",
       " 'Internet reporter',\n",
       " 'Owner/Publisher',\n",
       " 'Photographer',\n",
       " 'Print Reporter',\n",
       " 'Print reporter',\n",
       " 'Producer',\n",
       " 'Publisher/Owner',\n",
       " 'Publisher/owner',\n",
       " 'Reporter',\n",
       " 'Technician',\n",
       " 'Unknown',\n",
       " 'nan',\n",
       " 'print reporter'}"
      ]
     },
     "execution_count": 22,
     "metadata": {},
     "output_type": "execute_result"
    }
   ],
   "source": [
    "# first get rid of extra spaces in lists of categories\n",
    "cpj = remove_spaces_in_category_lists(cpj, 'jobs')\n",
    "get_unique_category_vals(cpj, 'jobs', dropna=False)"
   ]
  },
  {
   "cell_type": "code",
   "execution_count": 23,
   "metadata": {},
   "outputs": [
    {
     "data": {
      "text/plain": [
       "{'Broadcast Reporter',\n",
       " 'Camera Operator',\n",
       " 'Columnist',\n",
       " 'Columnist/Commentator',\n",
       " 'Distributor',\n",
       " 'Documentary Filmmaker',\n",
       " 'Editor',\n",
       " 'Internet Reporter',\n",
       " 'Owner/Publisher',\n",
       " 'Photographer',\n",
       " 'Print Reporter',\n",
       " 'Producer',\n",
       " 'Publisher/Owner',\n",
       " 'Reporter',\n",
       " 'Technician',\n",
       " 'Unknown',\n",
       " 'nan'}"
      ]
     },
     "execution_count": 23,
     "metadata": {},
     "output_type": "execute_result"
    }
   ],
   "source": [
    "cpj['jobs'] = cpj['jobs'].apply(lambda x: x.replace('print reporter','Print Reporter') if type(x)==str else x)\n",
    "cpj['jobs'] = cpj['jobs'].apply(lambda x: x.replace('Print reporter','Print Reporter') if type(x)==str else x)\n",
    "cpj['jobs'] = cpj['jobs'].apply(lambda x: x.replace('Broadcast reporter','Broadcast Reporter') if type(x)==str else x)\n",
    "cpj['jobs'] = cpj['jobs'].apply(lambda x: x.replace(' Broadcast Reporter','Broadcast Reporter') if type(x)==str else x)\n",
    "cpj['jobs'] = cpj['jobs'].apply(lambda x: x.replace('Publisher/owner','Publisher/Owner') if type(x)==str else x)\n",
    "cpj['jobs'] = cpj['jobs'].apply(lambda x: x.replace('Internet reporter','Internet Reporter') if type(x)==str else x)\n",
    "cpj['jobs'] = cpj['jobs'].apply(lambda x: x.replace('Documentary filmmaker','Documentary Filmmaker') if type(x)==str else x)\n",
    "cpj['jobs'] = cpj['jobs'].apply(lambda x: x.replace('Columnist/commentator','Columnist/Commentator') if type(x)==str else x)\n",
    "cpj['jobs'] = cpj['jobs'].apply(lambda x: x.replace(' Editor','Editor') if type(x)==str else x)\n",
    "cpj['jobs'] = cpj['jobs'].apply(lambda x: x.replace('Camera operator','Camera Operator') if type(x)==str else x)\n",
    "\n",
    "get_unique_category_vals(cpj, 'jobs', dropna=False)"
   ]
  },
  {
   "cell_type": "code",
   "execution_count": 24,
   "metadata": {},
   "outputs": [
    {
     "data": {
      "image/png": "[encoded data removed]",
      "text/plain": [
       "<Figure size 864x576 with 1 Axes>"
      ]
     },
     "metadata": {},
     "output_type": "display_data"
    }
   ],
   "source": [
    "plot_hbar_category_count_multiplecats(cpj, 'jobs')"
   ]
  },
  {
   "cell_type": "code",
   "execution_count": 25,
   "metadata": {},
   "outputs": [
    {
     "data": {
      "text/plain": [
       "Politics                                                            1539\n",
       "Human Rights, Politics                                               443\n",
       "Unknown                                                              201\n",
       "Corruption, Politics                                                 178\n",
       "Culture, Politics                                                    178\n",
       "                                                                    ... \n",
       "Corruption, Culture, Politics, Sports                                  1\n",
       "Business, Corruption, Crime, Human Rights, Politics, Sports, War       1\n",
       "Crime, War                                                             1\n",
       "Corruption,Culture,Politics                                            1\n",
       "Business, Crime, Culture, Politics, Sports                             1\n",
       "Name: coverage, Length: 100, dtype: int64"
      ]
     },
     "execution_count": 25,
     "metadata": {},
     "output_type": "execute_result"
    }
   ],
   "source": [
    "cpj['coverage'].value_counts()"
   ]
  },
  {
   "cell_type": "code",
   "execution_count": 26,
   "metadata": {},
   "outputs": [
    {
     "data": {
      "text/plain": [
       "{'Business',\n",
       " 'Corruption',\n",
       " 'Crime',\n",
       " 'Culture',\n",
       " 'Human Rights',\n",
       " 'Human Rights`',\n",
       " 'Human rights',\n",
       " 'Politics',\n",
       " 'Sports',\n",
       " 'Unknown',\n",
       " 'War',\n",
       " 'nan',\n",
       " 'politics',\n",
       " 'sports'}"
      ]
     },
     "execution_count": 26,
     "metadata": {},
     "output_type": "execute_result"
    }
   ],
   "source": [
    "cpj = remove_spaces_in_category_lists(cpj, 'coverage')\n",
    "get_unique_category_vals(cpj, 'coverage', dropna=False)"
   ]
  },
  {
   "cell_type": "code",
   "execution_count": 27,
   "metadata": {},
   "outputs": [
    {
     "data": {
      "text/plain": [
       "{'Business',\n",
       " 'Corruption',\n",
       " 'Crime',\n",
       " 'Culture',\n",
       " 'Human Rights',\n",
       " 'Politics',\n",
       " 'Sports',\n",
       " 'Unknown',\n",
       " 'War',\n",
       " 'nan'}"
      ]
     },
     "execution_count": 27,
     "metadata": {},
     "output_type": "execute_result"
    }
   ],
   "source": [
    "cpj['coverage'] = cpj['coverage'].apply(lambda x: x.replace('Human rights','Human Rights') if type(x)==str else x)\n",
    "cpj['coverage'] = cpj['coverage'].apply(lambda x: x.replace('Human Rights`','Human Rights') if type(x)==str else x)\n",
    "cpj['coverage'] = cpj['coverage'].apply(lambda x: x.replace('politics','Politics') if type(x)==str else x)\n",
    "cpj['coverage'] = cpj['coverage'].apply(lambda x: x.replace('sports','Sports') if type(x)==str else x)\n",
    "get_unique_category_vals(cpj, 'coverage', dropna=False)"
   ]
  },
  {
   "cell_type": "code",
   "execution_count": 28,
   "metadata": {},
   "outputs": [
    {
     "data": {
      "text/plain": [
       "Politics                                           1539\n",
       "Human Rights,Politics                               488\n",
       "Unknown                                             201\n",
       "Corruption,Politics                                 185\n",
       "Culture,Politics                                    183\n",
       "                                                   ... \n",
       "Culture,Politics,Sports                               1\n",
       "Business,Corruption,Crime,Human Rights,Politics       1\n",
       "Human Rights,Politics,Sports,War                      1\n",
       "Crime,Culture                                         1\n",
       "Crime,War                                             1\n",
       "Name: coverage, Length: 81, dtype: int64"
      ]
     },
     "execution_count": 28,
     "metadata": {},
     "output_type": "execute_result"
    }
   ],
   "source": [
    "cpj['coverage'].value_counts()"
   ]
  },
  {
   "cell_type": "code",
   "execution_count": 29,
   "metadata": {},
   "outputs": [
    {
     "data": {
      "image/png": "[encoded data removed]",
      "text/plain": [
       "<Figure size 864x576 with 1 Axes>"
      ]
     },
     "metadata": {},
     "output_type": "display_data"
    }
   ],
   "source": [
    "plot_hbar_category_count_multiplecats(cpj, 'coverage')"
   ]
  },
  {
   "cell_type": "code",
   "execution_count": 30,
   "metadata": {},
   "outputs": [
    {
     "data": {
      "text/plain": [
       "Print                                                   2403\n",
       "Internet                                                1326\n",
       "Internet, Print                                          331\n",
       "Radio                                                    204\n",
       "Television                                               144\n",
       "Print, Internet                                           56\n",
       "Internet, Television                                      44\n",
       "Internet, Radio                                           43\n",
       "Print, Radio, Television                                  38\n",
       "Documentary Film                                          32\n",
       "Print, Radio                                              16\n",
       "Radio, Television                                         15\n",
       "Documentary Film, Internet, Television                    14\n",
       "Documentary Film, Internet                                14\n",
       "Internet, Print, Television                               13\n",
       "Radio, Print                                               9\n",
       "Documentary Film, Print                                    9\n",
       "Print, Television                                          8\n",
       "Television, Radio                                          7\n",
       "Internet, Print, Radio                                     5\n",
       "Documentary Film, Internet, Print                          5\n",
       "Internet, Print, Radio, Television                         4\n",
       "Internet, Radio, Television                                4\n",
       "Documentary Film, Internet, Print, Radio, Television       3\n",
       "Broadcast                                                  3\n",
       "Unknown                                                    1\n",
       "Print,Television                                           1\n",
       "print                                                      1\n",
       "Name: mediums, dtype: int64"
      ]
     },
     "execution_count": 30,
     "metadata": {},
     "output_type": "execute_result"
    }
   ],
   "source": [
    "cpj['mediums'].value_counts()"
   ]
  },
  {
   "cell_type": "code",
   "execution_count": 31,
   "metadata": {},
   "outputs": [
    {
     "data": {
      "text/plain": [
       "{'Broadcast',\n",
       " 'Documentary Film',\n",
       " 'Internet',\n",
       " 'Print',\n",
       " 'Radio',\n",
       " 'Television',\n",
       " 'Unknown',\n",
       " 'nan'}"
      ]
     },
     "execution_count": 31,
     "metadata": {},
     "output_type": "execute_result"
    }
   ],
   "source": [
    "cpj = remove_spaces_in_category_lists(cpj, 'mediums')\n",
    "cpj['mediums'] = cpj['mediums'].apply(lambda x: x.replace('print','Print') if type(x)==str else x)\n",
    "get_unique_category_vals(cpj, 'mediums', dropna=False)"
   ]
  },
  {
   "cell_type": "code",
   "execution_count": 32,
   "metadata": {},
   "outputs": [
    {
     "data": {
      "image/png": "[encoded data removed]",
      "text/plain": [
       "<Figure size 864x576 with 1 Axes>"
      ]
     },
     "metadata": {},
     "output_type": "display_data"
    }
   ],
   "source": [
    "plot_hbar_category_count_multiplecats(cpj, 'mediums')"
   ]
  },
  {
   "cell_type": "code",
   "execution_count": 33,
   "metadata": {},
   "outputs": [
    {
     "data": {
      "text/plain": [
       "Anti-State                                             2212\n",
       "Anti-state                                              754\n",
       "No charge disclosed                                     381\n",
       "Retaliatory                                             352\n",
       "No Charge                                               303\n",
       "Defamation                                              104\n",
       "No charge                                               103\n",
       "Anti-state, False News                                   77\n",
       "Anti-state, Retaliatory                                  50\n",
       "Anti-State, Retaliatory                                  39\n",
       "Anti-State, False News                                   36\n",
       "False News                                               31\n",
       "Censorship Violation                                     27\n",
       "Ethnic/Religious Insult                                  25\n",
       "Ethnic or religious insult                               19\n",
       "Anti-state, Defamation                                   18\n",
       "Anti-State, Defamation                                   14\n",
       "Anti-State, False news                                   12\n",
       "False news                                               12\n",
       "Defamation, Retaliatory                                  11\n",
       "Anti-State, Defamation, Retaliatory                       9\n",
       "Anti-state, Ethnic or religious insult, Retaliatory       8\n",
       "Anti-State, Ethnic or religious insult, Retaliatory       7\n",
       "Anti-State, Defamation, False News                        7\n",
       "Defamation, False News                                    6\n",
       "Anti-state, False News, Retaliatory                       6\n",
       "Anti-State, Censorship Violation                          6\n",
       "Defamation, Ethnic/Religious Insult                       6\n",
       "Anti-state, False news                                    5\n",
       "Retaliatory, Anti-State                                   4\n",
       "Anti-State, Ethnic/Religious Insult                       4\n",
       "False News, Retaliatory                                   4\n",
       "Anti-State, Defamation, Ethnic/Religious Insult           4\n",
       "Anti-state, Censorship Violation                          3\n",
       "Anti-State, false news                                    3\n",
       "Retaliatory, False news                                   2\n",
       "Anti-State, False News, Retaliatory                       2\n",
       "Anti-State, Ethnic/Religious Insult, Retaliatory          2\n",
       "Ethnic or Religious Insult                                1\n",
       "Anti-state, retaliatory                                   1\n",
       "Anti-state, Defamation, False News                        1\n",
       "False news, Defamation                                    1\n",
       "Anti-State, Religious or ethnic insult                    1\n",
       "Censorship violation                                      1\n",
       "Ethnic or religious insult,                               1\n",
       "Defamation, False news                                    1\n",
       "Name: charges, dtype: int64"
      ]
     },
     "execution_count": 33,
     "metadata": {},
     "output_type": "execute_result"
    }
   ],
   "source": [
    "cpj['charges'].value_counts()"
   ]
  },
  {
   "cell_type": "code",
   "execution_count": 34,
   "metadata": {},
   "outputs": [
    {
     "data": {
      "text/plain": [
       "{'',\n",
       " 'Anti-State',\n",
       " 'Censorship Violation',\n",
       " 'Defamation',\n",
       " 'Ethnic or Religious Insult',\n",
       " 'False News',\n",
       " 'No Charge',\n",
       " 'Retaliatory',\n",
       " 'nan'}"
      ]
     },
     "execution_count": 34,
     "metadata": {},
     "output_type": "execute_result"
    }
   ],
   "source": [
    "cpj = remove_spaces_in_category_lists(cpj, 'charges')\n",
    "\n",
    "cpj['charges'] = cpj['charges'].apply(lambda x: x.replace('False news','False News') if type(x)==str else x)\n",
    "cpj['charges'] = cpj['charges'].apply(lambda x: x.replace('false news','False News') if type(x)==str else x)\n",
    "cpj['charges'] = cpj['charges'].apply(lambda x: x.replace('Censorship violation','Censorship Violation') if type(x)==str else x)\n",
    "cpj['charges'] = cpj['charges'].apply(lambda x: x.replace('No charge','No Charge') if type(x)==str else x)\n",
    "cpj['charges'] = cpj['charges'].apply(lambda x: x.replace('No Charge disclosed','No Charge') if type(x)==str else x)\n",
    "cpj['charges'] = cpj['charges'].apply(lambda x: x.replace('Ethnic/Religious Insult','Ethnic or Religious Insult') if type(x)==str else x)\n",
    "cpj['charges'] = cpj['charges'].apply(lambda x: x.replace('Ethnic or religious insult','Ethnic or Religious Insult') if type(x)==str else x)\n",
    "cpj['charges'] = cpj['charges'].apply(lambda x: x.replace('Religious or ethnic insult','Ethnic or Religious Insult') if type(x)==str else x)\n",
    "cpj['charges'] = cpj['charges'].apply(lambda x: x.replace('retaliatory','Retaliatory') if type(x)==str else x)\n",
    "cpj['charges'] = cpj['charges'].apply(lambda x: x.replace('Anti-state','Anti-State') if type(x)==str else x)\n",
    "\n",
    "get_unique_category_vals(cpj, 'charges', dropna=False)"
   ]
  },
  {
   "cell_type": "code",
   "execution_count": 35,
   "metadata": {},
   "outputs": [
    {
     "data": {
      "image/png": "[encoded data removed]",
      "text/plain": [
       "<Figure size 864x576 with 1 Axes>"
      ]
     },
     "metadata": {},
     "output_type": "display_data"
    }
   ],
   "source": [
    "plot_hbar_category_count_multiplecats(cpj, 'charges')"
   ]
  },
  {
   "cell_type": "code",
   "execution_count": 36,
   "metadata": {},
   "outputs": [
    {
     "data": {
      "text/plain": [
       "China           952\n",
       "Turkey          794\n",
       "Eritrea         439\n",
       "Iran            327\n",
       "Myanmar         244\n",
       "               ... \n",
       "Burkina Faso      1\n",
       "Yugoslavia        1\n",
       "Brazil            1\n",
       "Ghana             1\n",
       "Tanzania          1\n",
       "Name: country, Length: 93, dtype: int64"
      ]
     },
     "execution_count": 36,
     "metadata": {},
     "output_type": "execute_result"
    }
   ],
   "source": [
    "cpj['country'].value_counts()"
   ]
  },
  {
   "cell_type": "code",
   "execution_count": 37,
   "metadata": {},
   "outputs": [
    {
     "data": {
      "image/png": "[encoded data removed]",
      "text/plain": [
       "<Figure size 864x576 with 1 Axes>"
      ]
     },
     "metadata": {},
     "output_type": "display_data"
    }
   ],
   "source": [
    "plot_hbar_category_count(cpj, 'country', 20)\n"
   ]
  },
  {
   "cell_type": "code",
   "execution_count": 38,
   "metadata": {},
   "outputs": [
    {
     "data": {
      "text/plain": [
       "Local      4729\n",
       "Foreign     125\n",
       "Name: localOrForeign, dtype: int64"
      ]
     },
     "execution_count": 38,
     "metadata": {},
     "output_type": "execute_result"
    }
   ],
   "source": [
    "cpj['localOrForeign'].value_counts()"
   ]
  },
  {
   "cell_type": "code",
   "execution_count": null,
   "metadata": {},
   "outputs": [],
   "source": []
  },
  {
   "cell_type": "markdown",
   "metadata": {},
   "source": [
    "The 'lengthOfSentence' column contains a couple values with multiple spellings. We also have categories that seem to be almost the same; for example we have '5 years to <10 years' and '5-10 years'. "
   ]
  },
  {
   "cell_type": "code",
   "execution_count": 39,
   "metadata": {},
   "outputs": [
    {
     "data": {
      "text/plain": [
       "10+ years               1354\n",
       "Not Sentenced            823\n",
       "1 year to <5 years       635\n",
       "Sentence pending         560\n",
       "5 years to <10 years     539\n",
       "5-10 years               231\n",
       "Life                     100\n",
       "<1 year                   60\n",
       "10+ Years                 50\n",
       "0-5 years                 50\n",
       "Death                     22\n",
       "0-5 Years                 21\n",
       "5-10 Years                17\n",
       "Not sentenced             12\n",
       "not Sentenced              2\n",
       "Name: lengthOfSentence, dtype: int64"
      ]
     },
     "execution_count": 39,
     "metadata": {},
     "output_type": "execute_result"
    }
   ],
   "source": [
    "cpj['lengthOfSentence'].value_counts()"
   ]
  },
  {
   "cell_type": "code",
   "execution_count": 51,
   "metadata": {},
   "outputs": [
    {
     "data": {
      "text/plain": [
       "10+ Years           1404\n",
       "Not Sentenced        837\n",
       "5-10 Years           787\n",
       "0-5 Years            766\n",
       "Sentence pending     560\n",
       "Life                 100\n",
       "Death                 22\n",
       "Name: lengthOfSentence, dtype: int64"
      ]
     },
     "execution_count": 51,
     "metadata": {},
     "output_type": "execute_result"
    }
   ],
   "source": [
    "cpj['lengthOfSentence'] = cpj['lengthOfSentence'].apply(lambda x: x.replace('Not sentenced','Not Sentenced') if type(x)==str else x)\n",
    "cpj['lengthOfSentence'] = cpj['lengthOfSentence'].apply(lambda x: x.replace('not sentenced','Not Sentenced') if type(x)==str else x)\n",
    "cpj['lengthOfSentence'] = cpj['lengthOfSentence'].apply(lambda x: x.replace('not Sentenced','Not Sentenced') if type(x)==str else x)\n",
    "cpj['lengthOfSentence'] = cpj['lengthOfSentence'].apply(lambda x: x.replace('5-10 years','5-10 Years') if type(x)==str else x)\n",
    "cpj['lengthOfSentence'] = cpj['lengthOfSentence'].apply(lambda x: x.replace('0-5 years','0-5 Years') if type(x)==str else x)\n",
    "cpj['lengthOfSentence'] = cpj['lengthOfSentence'].apply(lambda x: x.replace('0-5 years','0-5 Years') if type(x)==str else x)\n",
    "cpj['lengthOfSentence'] = cpj['lengthOfSentence'].apply(lambda x: x.replace('10+ years','10+ Years') if type(x)==str else x)\n",
    "cpj['lengthOfSentence'] = cpj['lengthOfSentence'].apply(lambda x: x.replace('5 years to <10 years','5-10 Years') if type(x)==str else x)\n",
    "cpj['lengthOfSentence'] = cpj['lengthOfSentence'].apply(lambda x: x.replace('1 year to <5 years','0-5 Years') if type(x)==str else x)\n",
    "cpj['lengthOfSentence'] = cpj['lengthOfSentence'].apply(lambda x: x.replace('<1 year','0-5 Years') if type(x)==str else x)\n",
    "cpj['lengthOfSentence'].value_counts()"
   ]
  },
  {
   "cell_type": "code",
   "execution_count": 52,
   "metadata": {},
   "outputs": [
    {
     "data": {
      "image/png": "[encoded data removed]",
      "text/plain": [
       "<Figure size 864x576 with 1 Axes>"
      ]
     },
     "metadata": {},
     "output_type": "display_data"
    }
   ],
   "source": [
    "plot_hbar_category_count_multiplecats(cpj, 'lengthOfSentence')"
   ]
  },
  {
   "cell_type": "code",
   "execution_count": 42,
   "metadata": {},
   "outputs": [
    {
     "data": {
      "text/plain": [
       "No     3676\n",
       "Yes    1176\n",
       "no        1\n",
       "Name: healthProblems, dtype: int64"
      ]
     },
     "execution_count": 42,
     "metadata": {},
     "output_type": "execute_result"
    }
   ],
   "source": [
    "cpj['healthProblems'].value_counts()"
   ]
  },
  {
   "cell_type": "code",
   "execution_count": 43,
   "metadata": {},
   "outputs": [
    {
     "data": {
      "text/plain": [
       "No     3677\n",
       "Yes    1176\n",
       "Name: healthProblems, dtype: int64"
      ]
     },
     "execution_count": 43,
     "metadata": {},
     "output_type": "execute_result"
    }
   ],
   "source": [
    "cpj['healthProblems'] = cpj['healthProblems'].apply(lambda x: x.replace('no','No') if type(x)==str else x)\n",
    "cpj['healthProblems'].value_counts()"
   ]
  },
  {
   "cell_type": "markdown",
   "metadata": {},
   "source": [
    "It seems like the 'sentence' column might not be that useful; might be more usefull to use the binned sentence categories in 'lengthOfSentence'. Could probably write some code to convert the 'sentence' strings into numeric value (years), but I don't think it's worth it right now."
   ]
  },
  {
   "cell_type": "code",
   "execution_count": 44,
   "metadata": {},
   "outputs": [
    {
     "data": {
      "text/plain": [
       "Not Sentenced              994\n",
       "Not sentenced              397\n",
       "10 years                   289\n",
       "3 years                    219\n",
       "15 years                   199\n",
       "                          ... \n",
       "Acquitted                    1\n",
       "12 years 9 months            1\n",
       "Seven years, six months      1\n",
       "3 years 4 months             1\n",
       "30 Days                      1\n",
       "Name: sentence, Length: 111, dtype: int64"
      ]
     },
     "execution_count": 44,
     "metadata": {},
     "output_type": "execute_result"
    }
   ],
   "source": [
    "cpj['sentence'].value_counts()"
   ]
  },
  {
   "cell_type": "code",
   "execution_count": 45,
   "metadata": {},
   "outputs": [
    {
     "data": {
      "text/plain": [
       "Unknown                                            421\n",
       "Istanbul                                           142\n",
       "Cairo                                               58\n",
       "Jaw                                                 35\n",
       "Urumqi, Xinjiang                                    27\n",
       "                                                  ... \n",
       "Wang Saphung Police Station, Loei Province           1\n",
       "The Brazzaville house of arrest                      1\n",
       "Ait Melloul prison, Souss-Massa region, Morocco      1\n",
       "Izabal                                               1\n",
       "Santa Elena                                          1\n",
       "Name: locationImprisoned, Length: 102, dtype: int64"
      ]
     },
     "execution_count": 45,
     "metadata": {},
     "output_type": "execute_result"
    }
   ],
   "source": [
    "cpj['locationImprisoned'].value_counts()"
   ]
  },
  {
   "cell_type": "code",
   "execution_count": 46,
   "metadata": {},
   "outputs": [
    {
     "data": {
      "text/html": [
       "<div>\n",
       "<style scoped>\n",
       "    .dataframe tbody tr th:only-of-type {\n",
       "        vertical-align: middle;\n",
       "    }\n",
       "\n",
       "    .dataframe tbody tr th {\n",
       "        vertical-align: top;\n",
       "    }\n",
       "\n",
       "    .dataframe thead th {\n",
       "        text-align: right;\n",
       "    }\n",
       "</style>\n",
       "<table border=\"1\" class=\"dataframe\">\n",
       "  <thead>\n",
       "    <tr style=\"text-align: right;\">\n",
       "      <th></th>\n",
       "      <th></th>\n",
       "      <th>year</th>\n",
       "    </tr>\n",
       "    <tr>\n",
       "      <th>country</th>\n",
       "      <th>locationImprisoned</th>\n",
       "      <th></th>\n",
       "    </tr>\n",
       "  </thead>\n",
       "  <tbody>\n",
       "    <tr>\n",
       "      <th rowspan=\"2\" valign=\"top\">Algeria</th>\n",
       "      <th>Algiers' El-Harrach Prison</th>\n",
       "      <td>1</td>\n",
       "    </tr>\n",
       "    <tr>\n",
       "      <th>Unknown</th>\n",
       "      <td>2</td>\n",
       "    </tr>\n",
       "    <tr>\n",
       "      <th rowspan=\"3\" valign=\"top\">Azerbaijan</th>\n",
       "      <th>Baku</th>\n",
       "      <td>27</td>\n",
       "    </tr>\n",
       "    <tr>\n",
       "      <th>Gobustan, Baku region</th>\n",
       "      <td>8</td>\n",
       "    </tr>\n",
       "    <tr>\n",
       "      <th>Sheki</th>\n",
       "      <td>3</td>\n",
       "    </tr>\n",
       "    <tr>\n",
       "      <th>Bahrain</th>\n",
       "      <th>Jaw</th>\n",
       "      <td>35</td>\n",
       "    </tr>\n",
       "    <tr>\n",
       "      <th rowspan=\"2\" valign=\"top\">Bangladesh</th>\n",
       "      <th>Mymensingh Central Jail</th>\n",
       "      <td>2</td>\n",
       "    </tr>\n",
       "    <tr>\n",
       "      <th>Unknown</th>\n",
       "      <td>5</td>\n",
       "    </tr>\n",
       "    <tr>\n",
       "      <th>Cambodia</th>\n",
       "      <th>Phnom Penh</th>\n",
       "      <td>2</td>\n",
       "    </tr>\n",
       "    <tr>\n",
       "      <th>Cameroon</th>\n",
       "      <th>Unknown</th>\n",
       "      <td>3</td>\n",
       "    </tr>\n",
       "    <tr>\n",
       "      <th rowspan=\"10\" valign=\"top\">China</th>\n",
       "      <th>Changchun, Jilin</th>\n",
       "      <td>7</td>\n",
       "    </tr>\n",
       "    <tr>\n",
       "      <th>Changji, Xinjiang</th>\n",
       "      <td>11</td>\n",
       "    </tr>\n",
       "    <tr>\n",
       "      <th>Chengdu, Sichuan</th>\n",
       "      <td>11</td>\n",
       "    </tr>\n",
       "    <tr>\n",
       "      <th>Chongqing, Sichuan</th>\n",
       "      <td>5</td>\n",
       "    </tr>\n",
       "    <tr>\n",
       "      <th>Chuanzhong, Sichuan</th>\n",
       "      <td>10</td>\n",
       "    </tr>\n",
       "    <tr>\n",
       "      <th>Dali, Yunnan province</th>\n",
       "      <td>4</td>\n",
       "    </tr>\n",
       "    <tr>\n",
       "      <th>Dongguan, Guangdong</th>\n",
       "      <td>7</td>\n",
       "    </tr>\n",
       "    <tr>\n",
       "      <th>Hangzhou, Hangzhou</th>\n",
       "      <td>6</td>\n",
       "    </tr>\n",
       "    <tr>\n",
       "      <th>Huanggang, Hubei</th>\n",
       "      <td>10</td>\n",
       "    </tr>\n",
       "    <tr>\n",
       "      <th>Huzhou, Zhejiang</th>\n",
       "      <td>6</td>\n",
       "    </tr>\n",
       "  </tbody>\n",
       "</table>\n",
       "</div>"
      ],
      "text/plain": [
       "                                       year\n",
       "country    locationImprisoned              \n",
       "Algeria    Algiers' El-Harrach Prison     1\n",
       "           Unknown                        2\n",
       "Azerbaijan Baku                          27\n",
       "           Gobustan, Baku region          8\n",
       "           Sheki                          3\n",
       "Bahrain    Jaw                           35\n",
       "Bangladesh Mymensingh Central Jail        2\n",
       "           Unknown                        5\n",
       "Cambodia   Phnom Penh                     2\n",
       "Cameroon   Unknown                        3\n",
       "China      Changchun, Jilin               7\n",
       "           Changji, Xinjiang             11\n",
       "           Chengdu, Sichuan              11\n",
       "           Chongqing, Sichuan             5\n",
       "           Chuanzhong, Sichuan           10\n",
       "           Dali, Yunnan province          4\n",
       "           Dongguan, Guangdong            7\n",
       "           Hangzhou, Hangzhou             6\n",
       "           Huanggang, Hubei              10\n",
       "           Huzhou, Zhejiang               6"
      ]
     },
     "execution_count": 46,
     "metadata": {},
     "output_type": "execute_result"
    }
   ],
   "source": [
    "cpj.groupby(['country','locationImprisoned']).count().loc[:,['year']].head(20)"
   ]
  },
  {
   "cell_type": "code",
   "execution_count": 53,
   "metadata": {},
   "outputs": [
    {
     "data": {
      "text/plain": [
       "Text(0.5, 1.0, '# Journalists Imprisoned Per Year')"
      ]
     },
     "execution_count": 53,
     "metadata": {},
     "output_type": "execute_result"
    },
    {
     "data": {
      "image/png": "[encoded data removed]",
      "text/plain": [
       "<Figure size 864x288 with 1 Axes>"
      ]
     },
     "metadata": {},
     "output_type": "display_data"
    }
   ],
   "source": [
    "# Plot Number of Journalists imprisoned per year\n",
    "cpj_GB_year_count = category_count_df_one_column(cpj,'year')\n",
    "\n",
    "_, ax = plt.subplots(1,figsize=(12,4))\n",
    "ax.bar(cpj_GB_year_count['year'],cpj_GB_year_count['Count'])\n",
    "ax.set_xlabel('Year')\n",
    "ax.set_xlabel('# Journalists Imprisoned')\n",
    "ax.set_title('# Journalists Imprisoned Per Year')"
   ]
  },
  {
   "cell_type": "code",
   "execution_count": null,
   "metadata": {},
   "outputs": [],
   "source": []
  }
 ],
 "metadata": {
  "kernelspec": {
   "display_name": "Python 3",
   "language": "python",
   "name": "python3"
  },
  "language_info": {
   "codemirror_mode": {
    "name": "ipython",
    "version": 3
   },
   "file_extension": ".py",
   "mimetype": "text/x-python",
   "name": "python",
   "nbconvert_exporter": "python",
   "pygments_lexer": "ipython3",
   "version": "3.7.6"
  }
 },
 "nbformat": 4,
 "nbformat_minor": 4
}
