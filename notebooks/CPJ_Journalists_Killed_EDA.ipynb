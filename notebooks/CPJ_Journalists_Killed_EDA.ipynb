{
 "cells": [
  {
   "cell_type": "markdown",
   "metadata": {},
   "source": [
    "# EDA of CPJ Data on Journalists Killed since 1992"
   ]
  },
  {
   "cell_type": "code",
   "execution_count": 1,
   "metadata": {},
   "outputs": [],
   "source": [
    "# %load ~/jupyter_imports.py\n",
    "import pandas as pd\n",
    "import numpy as np\n",
    "import matplotlib.pyplot as plt\n",
    "%matplotlib inline\n",
    "\n",
    "# make plots look nice\n",
    "plt.rcParams['font.size'] = 14\n",
    "plt.rcParams['axes.labelsize'] = 'large'\n",
    "plt.rcParams['xtick.labelsize'] = 'large'\n",
    "plt.rcParams['ytick.labelsize'] = 'large'\n",
    "plt.rcParams['lines.linewidth'] = 3\n"
   ]
  },
  {
   "cell_type": "code",
   "execution_count": 2,
   "metadata": {},
   "outputs": [
    {
     "data": {
      "text/html": [
       "<div>\n",
       "<style scoped>\n",
       "    .dataframe tbody tr th:only-of-type {\n",
       "        vertical-align: middle;\n",
       "    }\n",
       "\n",
       "    .dataframe tbody tr th {\n",
       "        vertical-align: top;\n",
       "    }\n",
       "\n",
       "    .dataframe thead th {\n",
       "        text-align: right;\n",
       "    }\n",
       "</style>\n",
       "<table border=\"1\" class=\"dataframe\">\n",
       "  <thead>\n",
       "    <tr style=\"text-align: right;\">\n",
       "      <th></th>\n",
       "      <th>year</th>\n",
       "      <th>combinedStatus</th>\n",
       "      <th>fullName</th>\n",
       "      <th>sortName</th>\n",
       "      <th>primaryNationality</th>\n",
       "      <th>secondaryNationality</th>\n",
       "      <th>tertiaryNationality</th>\n",
       "      <th>gender</th>\n",
       "      <th>photoUrl</th>\n",
       "      <th>photoCredit</th>\n",
       "      <th>...</th>\n",
       "      <th>threatened</th>\n",
       "      <th>charges</th>\n",
       "      <th>motive</th>\n",
       "      <th>lengthOfSentence</th>\n",
       "      <th>healthProblems</th>\n",
       "      <th>impCountry</th>\n",
       "      <th>entry</th>\n",
       "      <th>sentenceDate</th>\n",
       "      <th>sentence</th>\n",
       "      <th>locationImprisoned</th>\n",
       "    </tr>\n",
       "  </thead>\n",
       "  <tbody>\n",
       "    <tr>\n",
       "      <th>0</th>\n",
       "      <td>2006</td>\n",
       "      <td>Confirmed</td>\n",
       "      <td>Ahmad [full name unavailable]</td>\n",
       "      <td>NaN</td>\n",
       "      <td>NaN</td>\n",
       "      <td>NaN</td>\n",
       "      <td>NaN</td>\n",
       "      <td>NaN</td>\n",
       "      <td>NaN</td>\n",
       "      <td>NaN</td>\n",
       "      <td>...</td>\n",
       "      <td>NaN</td>\n",
       "      <td>NaN</td>\n",
       "      <td>NaN</td>\n",
       "      <td>NaN</td>\n",
       "      <td>NaN</td>\n",
       "      <td>NaN</td>\n",
       "      <td>NaN</td>\n",
       "      <td>NaN</td>\n",
       "      <td>NaN</td>\n",
       "      <td>NaN</td>\n",
       "    </tr>\n",
       "    <tr>\n",
       "      <th>1</th>\n",
       "      <td>2007</td>\n",
       "      <td>Confirmed</td>\n",
       "      <td>Khaled Mohammad Nofan</td>\n",
       "      <td>NaN</td>\n",
       "      <td>NaN</td>\n",
       "      <td>NaN</td>\n",
       "      <td>NaN</td>\n",
       "      <td>NaN</td>\n",
       "      <td>NaN</td>\n",
       "      <td>NaN</td>\n",
       "      <td>...</td>\n",
       "      <td>NaN</td>\n",
       "      <td>NaN</td>\n",
       "      <td>NaN</td>\n",
       "      <td>NaN</td>\n",
       "      <td>NaN</td>\n",
       "      <td>NaN</td>\n",
       "      <td>NaN</td>\n",
       "      <td>NaN</td>\n",
       "      <td>NaN</td>\n",
       "      <td>NaN</td>\n",
       "    </tr>\n",
       "    <tr>\n",
       "      <th>2</th>\n",
       "      <td>2007</td>\n",
       "      <td>Confirmed</td>\n",
       "      <td>Sabah Salman</td>\n",
       "      <td>NaN</td>\n",
       "      <td>NaN</td>\n",
       "      <td>NaN</td>\n",
       "      <td>NaN</td>\n",
       "      <td>NaN</td>\n",
       "      <td>NaN</td>\n",
       "      <td>NaN</td>\n",
       "      <td>...</td>\n",
       "      <td>NaN</td>\n",
       "      <td>NaN</td>\n",
       "      <td>NaN</td>\n",
       "      <td>NaN</td>\n",
       "      <td>NaN</td>\n",
       "      <td>NaN</td>\n",
       "      <td>NaN</td>\n",
       "      <td>NaN</td>\n",
       "      <td>NaN</td>\n",
       "      <td>NaN</td>\n",
       "    </tr>\n",
       "    <tr>\n",
       "      <th>3</th>\n",
       "      <td>2005</td>\n",
       "      <td>Confirmed</td>\n",
       "      <td>Unidentified</td>\n",
       "      <td>NaN</td>\n",
       "      <td>NaN</td>\n",
       "      <td>NaN</td>\n",
       "      <td>NaN</td>\n",
       "      <td>NaN</td>\n",
       "      <td>NaN</td>\n",
       "      <td>NaN</td>\n",
       "      <td>...</td>\n",
       "      <td>NaN</td>\n",
       "      <td>NaN</td>\n",
       "      <td>NaN</td>\n",
       "      <td>NaN</td>\n",
       "      <td>NaN</td>\n",
       "      <td>NaN</td>\n",
       "      <td>NaN</td>\n",
       "      <td>NaN</td>\n",
       "      <td>NaN</td>\n",
       "      <td>NaN</td>\n",
       "    </tr>\n",
       "    <tr>\n",
       "      <th>4</th>\n",
       "      <td>2018</td>\n",
       "      <td>Confirmed</td>\n",
       "      <td>Abadullah Hananzai</td>\n",
       "      <td>NaN</td>\n",
       "      <td>Afghanistan</td>\n",
       "      <td>NaN</td>\n",
       "      <td>NaN</td>\n",
       "      <td>Male</td>\n",
       "      <td>NaN</td>\n",
       "      <td>NaN</td>\n",
       "      <td>...</td>\n",
       "      <td>No</td>\n",
       "      <td>NaN</td>\n",
       "      <td>NaN</td>\n",
       "      <td>NaN</td>\n",
       "      <td>NaN</td>\n",
       "      <td>NaN</td>\n",
       "      <td>NaN</td>\n",
       "      <td>NaN</td>\n",
       "      <td>NaN</td>\n",
       "      <td>NaN</td>\n",
       "    </tr>\n",
       "  </tbody>\n",
       "</table>\n",
       "<p>5 rows × 43 columns</p>\n",
       "</div>"
      ],
      "text/plain": [
       "   year combinedStatus                        fullName  sortName  \\\n",
       "0  2006      Confirmed   Ahmad [full name unavailable]       NaN   \n",
       "1  2007      Confirmed           Khaled Mohammad Nofan       NaN   \n",
       "2  2007      Confirmed                    Sabah Salman       NaN   \n",
       "3  2005      Confirmed                    Unidentified       NaN   \n",
       "4  2018      Confirmed              Abadullah Hananzai       NaN   \n",
       "\n",
       "  primaryNationality secondaryNationality  tertiaryNationality gender  \\\n",
       "0                NaN                  NaN                  NaN    NaN   \n",
       "1                NaN                  NaN                  NaN    NaN   \n",
       "2                NaN                  NaN                  NaN    NaN   \n",
       "3                NaN                  NaN                  NaN    NaN   \n",
       "4        Afghanistan                  NaN                  NaN   Male   \n",
       "\n",
       "  photoUrl photoCredit  ... threatened charges motive lengthOfSentence  \\\n",
       "0      NaN         NaN  ...        NaN     NaN    NaN              NaN   \n",
       "1      NaN         NaN  ...        NaN     NaN    NaN              NaN   \n",
       "2      NaN         NaN  ...        NaN     NaN    NaN              NaN   \n",
       "3      NaN         NaN  ...        NaN     NaN    NaN              NaN   \n",
       "4      NaN         NaN  ...         No     NaN    NaN              NaN   \n",
       "\n",
       "  healthProblems impCountry entry sentenceDate sentence locationImprisoned  \n",
       "0            NaN        NaN   NaN          NaN      NaN                NaN  \n",
       "1            NaN        NaN   NaN          NaN      NaN                NaN  \n",
       "2            NaN        NaN   NaN          NaN      NaN                NaN  \n",
       "3            NaN        NaN   NaN          NaN      NaN                NaN  \n",
       "4            NaN        NaN   NaN          NaN      NaN                NaN  \n",
       "\n",
       "[5 rows x 43 columns]"
      ]
     },
     "execution_count": 2,
     "metadata": {},
     "output_type": "execute_result"
    }
   ],
   "source": [
    "cpj = pd.read_csv('../data/Journalists Killed between 1992 and 2020.csv')\n",
    "cpj.head()"
   ]
  },
  {
   "cell_type": "code",
   "execution_count": 3,
   "metadata": {},
   "outputs": [
    {
     "name": "stdout",
     "output_type": "stream",
     "text": [
      "<class 'pandas.core.frame.DataFrame'>\n",
      "RangeIndex: 2033 entries, 0 to 2032\n",
      "Data columns (total 43 columns):\n",
      " #   Column                    Non-Null Count  Dtype  \n",
      "---  ------                    --------------  -----  \n",
      " 0   year                      2033 non-null   int64  \n",
      " 1   combinedStatus            2033 non-null   object \n",
      " 2   fullName                  2033 non-null   object \n",
      " 3   sortName                  0 non-null      float64\n",
      " 4   primaryNationality        1313 non-null   object \n",
      " 5   secondaryNationality      4 non-null      object \n",
      " 6   tertiaryNationality       0 non-null      float64\n",
      " 7   gender                    1459 non-null   object \n",
      " 8   photoUrl                  431 non-null    object \n",
      " 9   photoCredit               267 non-null    object \n",
      " 10  type                      2033 non-null   object \n",
      " 11  lastStatus                231 non-null    object \n",
      " 12  typeOfDeath               1369 non-null   object \n",
      " 13  status                    2033 non-null   object \n",
      " 14  employedAs                2025 non-null   object \n",
      " 15  organizations             2032 non-null   object \n",
      " 16  jobs                      1398 non-null   object \n",
      " 17  coverage                  1348 non-null   object \n",
      " 18  mediums                   1395 non-null   object \n",
      " 19  country                   2033 non-null   object \n",
      " 20  location                  2019 non-null   object \n",
      " 21  region                    14 non-null     object \n",
      " 22  state                     76 non-null     object \n",
      " 23  locality                  2009 non-null   object \n",
      " 24  province                  90 non-null     object \n",
      " 25  localOrForeign            1469 non-null   object \n",
      " 26  sourcesOfFire             1187 non-null   object \n",
      " 27  motiveConfirmed           1919 non-null   object \n",
      " 28  accountabilityCrossfire   43 non-null     object \n",
      " 29  accountabilityAssignment  32 non-null     object \n",
      " 30  impunityMurder            876 non-null    object \n",
      " 31  tortured                  873 non-null    object \n",
      " 32  captive                   873 non-null    object \n",
      " 33  threatened                873 non-null    object \n",
      " 34  charges                   0 non-null      float64\n",
      " 35  motive                    0 non-null      float64\n",
      " 36  lengthOfSentence          0 non-null      float64\n",
      " 37  healthProblems            0 non-null      float64\n",
      " 38  impCountry                0 non-null      float64\n",
      " 39  entry                     0 non-null      float64\n",
      " 40  sentenceDate              0 non-null      float64\n",
      " 41  sentence                  0 non-null      float64\n",
      " 42  locationImprisoned        0 non-null      float64\n",
      "dtypes: float64(11), int64(1), object(31)\n",
      "memory usage: 683.1+ KB\n"
     ]
    }
   ],
   "source": [
    "cpj.info()"
   ]
  },
  {
   "cell_type": "code",
   "execution_count": 4,
   "metadata": {},
   "outputs": [
    {
     "name": "stdout",
     "output_type": "stream",
     "text": [
      "<class 'pandas.core.frame.DataFrame'>\n",
      "RangeIndex: 2033 entries, 0 to 2032\n",
      "Data columns (total 31 columns):\n",
      " #   Column                    Non-Null Count  Dtype \n",
      "---  ------                    --------------  ----- \n",
      " 0   year                      2033 non-null   int64 \n",
      " 1   combinedStatus            2033 non-null   object\n",
      " 2   fullName                  2033 non-null   object\n",
      " 3   primaryNationality        1313 non-null   object\n",
      " 4   gender                    1459 non-null   object\n",
      " 5   photoUrl                  431 non-null    object\n",
      " 6   photoCredit               267 non-null    object\n",
      " 7   type                      2033 non-null   object\n",
      " 8   lastStatus                231 non-null    object\n",
      " 9   typeOfDeath               1369 non-null   object\n",
      " 10  status                    2033 non-null   object\n",
      " 11  employedAs                2025 non-null   object\n",
      " 12  organizations             2032 non-null   object\n",
      " 13  jobs                      1398 non-null   object\n",
      " 14  coverage                  1348 non-null   object\n",
      " 15  mediums                   1395 non-null   object\n",
      " 16  country                   2033 non-null   object\n",
      " 17  location                  2019 non-null   object\n",
      " 18  region                    14 non-null     object\n",
      " 19  state                     76 non-null     object\n",
      " 20  locality                  2009 non-null   object\n",
      " 21  province                  90 non-null     object\n",
      " 22  localOrForeign            1469 non-null   object\n",
      " 23  sourcesOfFire             1187 non-null   object\n",
      " 24  motiveConfirmed           1919 non-null   object\n",
      " 25  accountabilityCrossfire   43 non-null     object\n",
      " 26  accountabilityAssignment  32 non-null     object\n",
      " 27  impunityMurder            876 non-null    object\n",
      " 28  tortured                  873 non-null    object\n",
      " 29  captive                   873 non-null    object\n",
      " 30  threatened                873 non-null    object\n",
      "dtypes: int64(1), object(30)\n",
      "memory usage: 492.5+ KB\n"
     ]
    }
   ],
   "source": [
    "# drop columns with all nulls\n",
    "drop_cols=['sortName','secondaryNationality','tertiaryNationality','charges','motive','lengthOfSentence','healthProblems','impCountry','entry','sentenceDate','sentence','locationImprisoned']\n",
    "cpj.drop(drop_cols,axis=1,inplace=True)\n",
    "cpj.info()"
   ]
  },
  {
   "cell_type": "markdown",
   "metadata": {},
   "source": [
    "What is difference between 'combinedStatus','status', and 'lastStatus?"
   ]
  },
  {
   "cell_type": "code",
   "execution_count": 5,
   "metadata": {},
   "outputs": [
    {
     "data": {
      "text/plain": [
       "Confirmed      1473\n",
       "Unconfirmed     550\n",
       "Killed           10\n",
       "Name: combinedStatus, dtype: int64"
      ]
     },
     "execution_count": 5,
     "metadata": {},
     "output_type": "execute_result"
    }
   ],
   "source": [
    "cpj['combinedStatus'].value_counts()"
   ]
  },
  {
   "cell_type": "code",
   "execution_count": 6,
   "metadata": {},
   "outputs": [
    {
     "data": {
      "text/plain": [
       "Killed    2033\n",
       "Name: status, dtype: int64"
      ]
     },
     "execution_count": 6,
     "metadata": {},
     "output_type": "execute_result"
    }
   ],
   "source": [
    "cpj['status'].value_counts()"
   ]
  },
  {
   "cell_type": "code",
   "execution_count": 7,
   "metadata": {},
   "outputs": [
    {
     "data": {
      "text/plain": [
       "Killed    231\n",
       "Name: lastStatus, dtype: int64"
      ]
     },
     "execution_count": 7,
     "metadata": {},
     "output_type": "execute_result"
    }
   ],
   "source": [
    "cpj['lastStatus'].value_counts()"
   ]
  },
  {
   "cell_type": "markdown",
   "metadata": {},
   "source": [
    "Status and lastStatus don't seem to contain any useful information, so drop those columns."
   ]
  },
  {
   "cell_type": "code",
   "execution_count": 8,
   "metadata": {},
   "outputs": [
    {
     "name": "stdout",
     "output_type": "stream",
     "text": [
      "<class 'pandas.core.frame.DataFrame'>\n",
      "RangeIndex: 2033 entries, 0 to 2032\n",
      "Data columns (total 29 columns):\n",
      " #   Column                    Non-Null Count  Dtype \n",
      "---  ------                    --------------  ----- \n",
      " 0   year                      2033 non-null   int64 \n",
      " 1   combinedStatus            2033 non-null   object\n",
      " 2   fullName                  2033 non-null   object\n",
      " 3   primaryNationality        1313 non-null   object\n",
      " 4   gender                    1459 non-null   object\n",
      " 5   photoUrl                  431 non-null    object\n",
      " 6   photoCredit               267 non-null    object\n",
      " 7   type                      2033 non-null   object\n",
      " 8   typeOfDeath               1369 non-null   object\n",
      " 9   employedAs                2025 non-null   object\n",
      " 10  organizations             2032 non-null   object\n",
      " 11  jobs                      1398 non-null   object\n",
      " 12  coverage                  1348 non-null   object\n",
      " 13  mediums                   1395 non-null   object\n",
      " 14  country                   2033 non-null   object\n",
      " 15  location                  2019 non-null   object\n",
      " 16  region                    14 non-null     object\n",
      " 17  state                     76 non-null     object\n",
      " 18  locality                  2009 non-null   object\n",
      " 19  province                  90 non-null     object\n",
      " 20  localOrForeign            1469 non-null   object\n",
      " 21  sourcesOfFire             1187 non-null   object\n",
      " 22  motiveConfirmed           1919 non-null   object\n",
      " 23  accountabilityCrossfire   43 non-null     object\n",
      " 24  accountabilityAssignment  32 non-null     object\n",
      " 25  impunityMurder            876 non-null    object\n",
      " 26  tortured                  873 non-null    object\n",
      " 27  captive                   873 non-null    object\n",
      " 28  threatened                873 non-null    object\n",
      "dtypes: int64(1), object(28)\n",
      "memory usage: 460.7+ KB\n"
     ]
    }
   ],
   "source": [
    "cpj.drop(['status','lastStatus'],axis=1,inplace=True)\n",
    "cpj.info()"
   ]
  },
  {
   "cell_type": "markdown",
   "metadata": {},
   "source": [
    "Comparing combinedStatus wiht motiveConfirmed..."
   ]
  },
  {
   "cell_type": "code",
   "execution_count": 9,
   "metadata": {},
   "outputs": [
    {
     "data": {
      "text/plain": [
       "Confirmed      1473\n",
       "Unconfirmed     550\n",
       "Killed           10\n",
       "Name: combinedStatus, dtype: int64"
      ]
     },
     "execution_count": 9,
     "metadata": {},
     "output_type": "execute_result"
    }
   ],
   "source": [
    "cpj['combinedStatus'].value_counts()"
   ]
  },
  {
   "cell_type": "code",
   "execution_count": 10,
   "metadata": {},
   "outputs": [
    {
     "data": {
      "text/plain": [
       "Confirmed      1369\n",
       "Unconfirmed     550\n",
       "Name: motiveConfirmed, dtype: int64"
      ]
     },
     "execution_count": 10,
     "metadata": {},
     "output_type": "execute_result"
    }
   ],
   "source": [
    "cpj['motiveConfirmed'].value_counts()"
   ]
  },
  {
   "cell_type": "code",
   "execution_count": 11,
   "metadata": {},
   "outputs": [
    {
     "data": {
      "text/html": [
       "<div>\n",
       "<style scoped>\n",
       "    .dataframe tbody tr th:only-of-type {\n",
       "        vertical-align: middle;\n",
       "    }\n",
       "\n",
       "    .dataframe tbody tr th {\n",
       "        vertical-align: top;\n",
       "    }\n",
       "\n",
       "    .dataframe thead th {\n",
       "        text-align: right;\n",
       "    }\n",
       "</style>\n",
       "<table border=\"1\" class=\"dataframe\">\n",
       "  <thead>\n",
       "    <tr style=\"text-align: right;\">\n",
       "      <th></th>\n",
       "      <th>year</th>\n",
       "      <th>combinedStatus</th>\n",
       "      <th>fullName</th>\n",
       "      <th>primaryNationality</th>\n",
       "      <th>gender</th>\n",
       "      <th>photoUrl</th>\n",
       "      <th>photoCredit</th>\n",
       "      <th>type</th>\n",
       "      <th>typeOfDeath</th>\n",
       "      <th>employedAs</th>\n",
       "      <th>...</th>\n",
       "      <th>province</th>\n",
       "      <th>localOrForeign</th>\n",
       "      <th>sourcesOfFire</th>\n",
       "      <th>motiveConfirmed</th>\n",
       "      <th>accountabilityCrossfire</th>\n",
       "      <th>accountabilityAssignment</th>\n",
       "      <th>impunityMurder</th>\n",
       "      <th>tortured</th>\n",
       "      <th>captive</th>\n",
       "      <th>threatened</th>\n",
       "    </tr>\n",
       "  </thead>\n",
       "  <tbody>\n",
       "    <tr>\n",
       "      <th>0</th>\n",
       "      <td>2006</td>\n",
       "      <td>Confirmed</td>\n",
       "      <td>Ahmad [full name unavailable]</td>\n",
       "      <td>NaN</td>\n",
       "      <td>NaN</td>\n",
       "      <td>NaN</td>\n",
       "      <td>NaN</td>\n",
       "      <td>Media Worker</td>\n",
       "      <td>NaN</td>\n",
       "      <td>Staff</td>\n",
       "      <td>...</td>\n",
       "      <td>NaN</td>\n",
       "      <td>NaN</td>\n",
       "      <td>NaN</td>\n",
       "      <td>NaN</td>\n",
       "      <td>NaN</td>\n",
       "      <td>NaN</td>\n",
       "      <td>NaN</td>\n",
       "      <td>NaN</td>\n",
       "      <td>NaN</td>\n",
       "      <td>NaN</td>\n",
       "    </tr>\n",
       "    <tr>\n",
       "      <th>1</th>\n",
       "      <td>2007</td>\n",
       "      <td>Confirmed</td>\n",
       "      <td>Khaled Mohammad Nofan</td>\n",
       "      <td>NaN</td>\n",
       "      <td>NaN</td>\n",
       "      <td>NaN</td>\n",
       "      <td>NaN</td>\n",
       "      <td>Media Worker</td>\n",
       "      <td>NaN</td>\n",
       "      <td>Staff</td>\n",
       "      <td>...</td>\n",
       "      <td>NaN</td>\n",
       "      <td>NaN</td>\n",
       "      <td>NaN</td>\n",
       "      <td>NaN</td>\n",
       "      <td>NaN</td>\n",
       "      <td>NaN</td>\n",
       "      <td>NaN</td>\n",
       "      <td>NaN</td>\n",
       "      <td>NaN</td>\n",
       "      <td>NaN</td>\n",
       "    </tr>\n",
       "    <tr>\n",
       "      <th>2</th>\n",
       "      <td>2007</td>\n",
       "      <td>Confirmed</td>\n",
       "      <td>Sabah Salman</td>\n",
       "      <td>NaN</td>\n",
       "      <td>NaN</td>\n",
       "      <td>NaN</td>\n",
       "      <td>NaN</td>\n",
       "      <td>Media Worker</td>\n",
       "      <td>NaN</td>\n",
       "      <td>Staff</td>\n",
       "      <td>...</td>\n",
       "      <td>NaN</td>\n",
       "      <td>NaN</td>\n",
       "      <td>NaN</td>\n",
       "      <td>NaN</td>\n",
       "      <td>NaN</td>\n",
       "      <td>NaN</td>\n",
       "      <td>NaN</td>\n",
       "      <td>NaN</td>\n",
       "      <td>NaN</td>\n",
       "      <td>NaN</td>\n",
       "    </tr>\n",
       "    <tr>\n",
       "      <th>3</th>\n",
       "      <td>2005</td>\n",
       "      <td>Confirmed</td>\n",
       "      <td>Unidentified</td>\n",
       "      <td>NaN</td>\n",
       "      <td>NaN</td>\n",
       "      <td>NaN</td>\n",
       "      <td>NaN</td>\n",
       "      <td>Media Worker</td>\n",
       "      <td>NaN</td>\n",
       "      <td>Staff</td>\n",
       "      <td>...</td>\n",
       "      <td>NaN</td>\n",
       "      <td>NaN</td>\n",
       "      <td>NaN</td>\n",
       "      <td>NaN</td>\n",
       "      <td>NaN</td>\n",
       "      <td>NaN</td>\n",
       "      <td>NaN</td>\n",
       "      <td>NaN</td>\n",
       "      <td>NaN</td>\n",
       "      <td>NaN</td>\n",
       "    </tr>\n",
       "    <tr>\n",
       "      <th>4</th>\n",
       "      <td>2018</td>\n",
       "      <td>Confirmed</td>\n",
       "      <td>Abadullah Hananzai</td>\n",
       "      <td>Afghanistan</td>\n",
       "      <td>Male</td>\n",
       "      <td>NaN</td>\n",
       "      <td>NaN</td>\n",
       "      <td>Journalist</td>\n",
       "      <td>Murder</td>\n",
       "      <td>Staff</td>\n",
       "      <td>...</td>\n",
       "      <td>NaN</td>\n",
       "      <td>Local</td>\n",
       "      <td>Political Group</td>\n",
       "      <td>Confirmed</td>\n",
       "      <td>NaN</td>\n",
       "      <td>NaN</td>\n",
       "      <td>Complete Impunity</td>\n",
       "      <td>No</td>\n",
       "      <td>No</td>\n",
       "      <td>No</td>\n",
       "    </tr>\n",
       "  </tbody>\n",
       "</table>\n",
       "<p>5 rows × 29 columns</p>\n",
       "</div>"
      ],
      "text/plain": [
       "   year combinedStatus                        fullName primaryNationality  \\\n",
       "0  2006      Confirmed   Ahmad [full name unavailable]                NaN   \n",
       "1  2007      Confirmed           Khaled Mohammad Nofan                NaN   \n",
       "2  2007      Confirmed                    Sabah Salman                NaN   \n",
       "3  2005      Confirmed                    Unidentified                NaN   \n",
       "4  2018      Confirmed              Abadullah Hananzai        Afghanistan   \n",
       "\n",
       "  gender photoUrl photoCredit          type typeOfDeath employedAs  ...  \\\n",
       "0    NaN      NaN         NaN  Media Worker         NaN      Staff  ...   \n",
       "1    NaN      NaN         NaN  Media Worker         NaN      Staff  ...   \n",
       "2    NaN      NaN         NaN  Media Worker         NaN      Staff  ...   \n",
       "3    NaN      NaN         NaN  Media Worker         NaN      Staff  ...   \n",
       "4   Male      NaN         NaN    Journalist      Murder      Staff  ...   \n",
       "\n",
       "  province localOrForeign    sourcesOfFire motiveConfirmed  \\\n",
       "0      NaN            NaN              NaN             NaN   \n",
       "1      NaN            NaN              NaN             NaN   \n",
       "2      NaN            NaN              NaN             NaN   \n",
       "3      NaN            NaN              NaN             NaN   \n",
       "4      NaN          Local  Political Group       Confirmed   \n",
       "\n",
       "  accountabilityCrossfire accountabilityAssignment     impunityMurder  \\\n",
       "0                     NaN                      NaN                NaN   \n",
       "1                     NaN                      NaN                NaN   \n",
       "2                     NaN                      NaN                NaN   \n",
       "3                     NaN                      NaN                NaN   \n",
       "4                     NaN                      NaN  Complete Impunity   \n",
       "\n",
       "  tortured captive threatened  \n",
       "0      NaN     NaN        NaN  \n",
       "1      NaN     NaN        NaN  \n",
       "2      NaN     NaN        NaN  \n",
       "3      NaN     NaN        NaN  \n",
       "4       No      No         No  \n",
       "\n",
       "[5 rows x 29 columns]"
      ]
     },
     "execution_count": 11,
     "metadata": {},
     "output_type": "execute_result"
    }
   ],
   "source": [
    "cpj.head()"
   ]
  },
  {
   "cell_type": "code",
   "execution_count": 12,
   "metadata": {},
   "outputs": [],
   "source": [
    "## Might want to limit analysis to only confirmed motives??"
   ]
  },
  {
   "cell_type": "code",
   "execution_count": null,
   "metadata": {},
   "outputs": [],
   "source": []
  },
  {
   "cell_type": "markdown",
   "metadata": {},
   "source": [
    "Don't need photoUrl or photoCredit columns"
   ]
  },
  {
   "cell_type": "code",
   "execution_count": 13,
   "metadata": {},
   "outputs": [
    {
     "name": "stdout",
     "output_type": "stream",
     "text": [
      "<class 'pandas.core.frame.DataFrame'>\n",
      "RangeIndex: 2033 entries, 0 to 2032\n",
      "Data columns (total 27 columns):\n",
      " #   Column                    Non-Null Count  Dtype \n",
      "---  ------                    --------------  ----- \n",
      " 0   year                      2033 non-null   int64 \n",
      " 1   combinedStatus            2033 non-null   object\n",
      " 2   fullName                  2033 non-null   object\n",
      " 3   primaryNationality        1313 non-null   object\n",
      " 4   gender                    1459 non-null   object\n",
      " 5   type                      2033 non-null   object\n",
      " 6   typeOfDeath               1369 non-null   object\n",
      " 7   employedAs                2025 non-null   object\n",
      " 8   organizations             2032 non-null   object\n",
      " 9   jobs                      1398 non-null   object\n",
      " 10  coverage                  1348 non-null   object\n",
      " 11  mediums                   1395 non-null   object\n",
      " 12  country                   2033 non-null   object\n",
      " 13  location                  2019 non-null   object\n",
      " 14  region                    14 non-null     object\n",
      " 15  state                     76 non-null     object\n",
      " 16  locality                  2009 non-null   object\n",
      " 17  province                  90 non-null     object\n",
      " 18  localOrForeign            1469 non-null   object\n",
      " 19  sourcesOfFire             1187 non-null   object\n",
      " 20  motiveConfirmed           1919 non-null   object\n",
      " 21  accountabilityCrossfire   43 non-null     object\n",
      " 22  accountabilityAssignment  32 non-null     object\n",
      " 23  impunityMurder            876 non-null    object\n",
      " 24  tortured                  873 non-null    object\n",
      " 25  captive                   873 non-null    object\n",
      " 26  threatened                873 non-null    object\n",
      "dtypes: int64(1), object(26)\n",
      "memory usage: 429.0+ KB\n"
     ]
    }
   ],
   "source": [
    "cpj.drop(['photoUrl','photoCredit'],axis=1,inplace=True)\n",
    "cpj.info()"
   ]
  },
  {
   "cell_type": "markdown",
   "metadata": {},
   "source": [
    "Note we only have gender info for 1459 out of 2033 rows."
   ]
  },
  {
   "cell_type": "code",
   "execution_count": 14,
   "metadata": {},
   "outputs": [
    {
     "data": {
      "text/plain": [
       "Male      1357\n",
       "Female     102\n",
       "Name: gender, dtype: int64"
      ]
     },
     "execution_count": 14,
     "metadata": {},
     "output_type": "execute_result"
    }
   ],
   "source": [
    "cpj['gender'].value_counts()"
   ]
  },
  {
   "cell_type": "code",
   "execution_count": 15,
   "metadata": {},
   "outputs": [
    {
     "data": {
      "text/plain": [
       "Iraq                 166\n",
       "Syria                124\n",
       "Philippines           88\n",
       "Mexico                64\n",
       "Somalia               63\n",
       "                    ... \n",
       "Canada                 1\n",
       "Japan                  1\n",
       "Republic of Congo      1\n",
       "Costa Rica             1\n",
       "Panama                 1\n",
       "Name: primaryNationality, Length: 102, dtype: int64"
      ]
     },
     "execution_count": 15,
     "metadata": {},
     "output_type": "execute_result"
    }
   ],
   "source": [
    "cpj['primaryNationality'].value_counts()"
   ]
  },
  {
   "cell_type": "markdown",
   "metadata": {},
   "source": [
    "## What does the 'type' field represent?\n"
   ]
  },
  {
   "cell_type": "code",
   "execution_count": 16,
   "metadata": {},
   "outputs": [
    {
     "data": {
      "text/plain": [
       "Journalist      1919\n",
       "Media Worker     114\n",
       "Name: type, dtype: int64"
      ]
     },
     "execution_count": 16,
     "metadata": {},
     "output_type": "execute_result"
    }
   ],
   "source": [
    "cpj['type'].value_counts()"
   ]
  },
  {
   "cell_type": "code",
   "execution_count": 17,
   "metadata": {},
   "outputs": [
    {
     "data": {
      "text/plain": [
       "Staff        1706\n",
       "Freelance     319\n",
       "Name: employedAs, dtype: int64"
      ]
     },
     "execution_count": 17,
     "metadata": {},
     "output_type": "execute_result"
    }
   ],
   "source": [
    "cpj['employedAs'].value_counts()"
   ]
  },
  {
   "cell_type": "code",
   "execution_count": 18,
   "metadata": {},
   "outputs": [
    {
     "data": {
      "text/plain": [
       "Freelance            115\n",
       "freelance             73\n",
       "Freelancer            31\n",
       "Al-Arabiya            15\n",
       "Reuters               14\n",
       "                    ... \n",
       "Jornal do Estado       1\n",
       "DZMS Radio             1\n",
       "Japan Press            1\n",
       "TG3                    1\n",
       "El Sol de Orizaba      1\n",
       "Name: organizations, Length: 1378, dtype: int64"
      ]
     },
     "execution_count": 18,
     "metadata": {},
     "output_type": "execute_result"
    }
   ],
   "source": [
    "cpj['organizations'].value_counts()"
   ]
  },
  {
   "cell_type": "code",
   "execution_count": 19,
   "metadata": {},
   "outputs": [
    {
     "data": {
      "text/plain": [
       "Print Reporter                           278\n",
       "Broadcast Reporter                       258\n",
       "Camera Operator                          155\n",
       "Editor                                   127\n",
       "Photographer                              94\n",
       "                                        ... \n",
       "Publisher/Owner,Print Reporter             1\n",
       "Broadcast reporter                         1\n",
       "Camera Operator,Broadcast Reporter         1\n",
       "Publisher/Owner,Columnist/Commentator      1\n",
       "Internet Reporter,Camera Operator          1\n",
       "Name: jobs, Length: 88, dtype: int64"
      ]
     },
     "execution_count": 19,
     "metadata": {},
     "output_type": "execute_result"
    }
   ],
   "source": [
    "cpj['jobs'].value_counts()"
   ]
  },
  {
   "cell_type": "code",
   "execution_count": 20,
   "metadata": {},
   "outputs": [
    {
     "data": {
      "text/plain": [
       "War                                                            298\n",
       "Politics                                                       194\n",
       "Politics,War                                                   105\n",
       "Crime                                                           62\n",
       "Human Rights,Politics,War                                       60\n",
       "                                                              ... \n",
       "Business,Culture,Politics,War                                    1\n",
       "Politics,Culture                                                 1\n",
       "Politics,Crime                                                   1\n",
       "Business,Corruption,Crime,Culture,Human Rights,Politics,War      1\n",
       "Culture,Human Rights,Politics,Sports                             1\n",
       "Name: coverage, Length: 99, dtype: int64"
      ]
     },
     "execution_count": 20,
     "metadata": {},
     "output_type": "execute_result"
    }
   ],
   "source": [
    "cpj['coverage'].value_counts()"
   ]
  },
  {
   "cell_type": "code",
   "execution_count": 21,
   "metadata": {},
   "outputs": [
    {
     "data": {
      "text/plain": [
       "Print                              520\n",
       "Television                         344\n",
       "Radio                              202\n",
       "Internet                           119\n",
       "Print,Internet                      65\n",
       "Television,Internet                 31\n",
       "Radio,Television                    27\n",
       "Print,Radio                         23\n",
       "Print,Television                    18\n",
       "Radio,Internet                      14\n",
       "Internet,Television                 14\n",
       "Internet,Print                       5\n",
       "Documentary Film                     3\n",
       "Print,Radio,Television               3\n",
       "Print,Radio,Internet                 2\n",
       "Print,Television,Internet            2\n",
       "Print,Radio,Internet,Television      1\n",
       "Radio,Television,Internet            1\n",
       "Radio,Print                          1\n",
       "Name: mediums, dtype: int64"
      ]
     },
     "execution_count": 21,
     "metadata": {},
     "output_type": "execute_result"
    }
   ],
   "source": [
    "cpj['mediums'].value_counts()"
   ]
  },
  {
   "cell_type": "code",
   "execution_count": 22,
   "metadata": {},
   "outputs": [
    {
     "data": {
      "text/plain": [
       "Baghdad           114\n",
       "Mogadishu          50\n",
       "Mosul              48\n",
       "Algiers            33\n",
       "Ampatuan           32\n",
       "                 ... \n",
       "Ponta Porá          1\n",
       "Dopemu              1\n",
       "north of Mosul      1\n",
       "Krasnoyarsk         1\n",
       "Ariha               1\n",
       "Name: location, Length: 1072, dtype: int64"
      ]
     },
     "execution_count": 22,
     "metadata": {},
     "output_type": "execute_result"
    }
   ],
   "source": [
    "cpj['location'].value_counts()"
   ]
  },
  {
   "cell_type": "code",
   "execution_count": 23,
   "metadata": {},
   "outputs": [
    {
     "data": {
      "text/plain": [
       "Hodeidah Governorate            3\n",
       "Bouar Region                    1\n",
       "Reftinsky, Sverdlovsk Region    1\n",
       "Puntland                        1\n",
       "Galashki Region, Ingushetia     1\n",
       "Siberia                         1\n",
       "Salahuddin Governorate          1\n",
       "Homs Governorate                1\n",
       "Valle                           1\n",
       "County Derry                    1\n",
       "Negros Island                   1\n",
       "Jubbaland                       1\n",
       "Name: region, dtype: int64"
      ]
     },
     "execution_count": 23,
     "metadata": {},
     "output_type": "execute_result"
    }
   ],
   "source": [
    "cpj['region'].value_counts()"
   ]
  },
  {
   "cell_type": "code",
   "execution_count": 24,
   "metadata": {},
   "outputs": [
    {
     "data": {
      "text/plain": [
       "Western Bahr al Ghazal state    5\n",
       "Maryland                        5\n",
       "Veracruz                        4\n",
       "Quintana Roo                    3\n",
       "Rio de Janeiro                  2\n",
       "Jos, Plateau State              2\n",
       "Michoacán                       2\n",
       "Tamaulipas                      2\n",
       "Guerrero                        2\n",
       "Tabasco                         2\n",
       "Uttar Pradesh                   2\n",
       "Andhra Pradesh                  1\n",
       "Akobo, Jonglei State            1\n",
       "Bihar                           1\n",
       "Aleppo Governorate              1\n",
       "Nayarit                         1\n",
       "Baja California Sur             1\n",
       "Taiz                            1\n",
       "Hais area                       1\n",
       "Sinaloa                         1\n",
       "San Luis Potosí                 1\n",
       "Anambra state                   1\n",
       "Manipur State                   1\n",
       "Chhattisgarh                    1\n",
       "Caquetá                         1\n",
       "Texas                           1\n",
       "Hiraan                          1\n",
       "Jharkhand                       1\n",
       "Estado de México                1\n",
       "Ceará                           1\n",
       "Taiz Governorate                1\n",
       "Carpina, Pernambuco state       1\n",
       "Tripura                         1\n",
       "Tripura state                   1\n",
       "Yei River                       1\n",
       "Oaxaca                          1\n",
       "Morelos                         1\n",
       "Karnataka                       1\n",
       "Pará                            1\n",
       "Sonora                          1\n",
       "Goiás                           1\n",
       "Rondonia                        1\n",
       "Cortés department               1\n",
       "Taxco, Guerrero state           1\n",
       "Oromia                          1\n",
       "Ghazipur district               1\n",
       "Kashmir                         1\n",
       "Gaza Strip                      1\n",
       "Illinois                        1\n",
       "eastern Ghouta                  1\n",
       "Chiapas                         1\n",
       "Albay                           1\n",
       "Anambra                         1\n",
       "Adamawa State                   1\n",
       "Adamawa                         1\n",
       "Jammu and Kashmir               1\n",
       "Name: state, dtype: int64"
      ]
     },
     "execution_count": 24,
     "metadata": {},
     "output_type": "execute_result"
    }
   ],
   "source": [
    "cpj['state'].value_counts()"
   ]
  },
  {
   "cell_type": "code",
   "execution_count": 25,
   "metadata": {},
   "outputs": [
    {
     "data": {
      "text/plain": [
       "Baghdad             114\n",
       "Mogadishu            50\n",
       "Mosul                48\n",
       "Algiers              33\n",
       "Ampatuan             32\n",
       "                   ... \n",
       "Qalat                 1\n",
       "Mendoza               1\n",
       "Velká Mača            1\n",
       "southern Lebanon      1\n",
       "Ariha                 1\n",
       "Name: locality, Length: 1068, dtype: int64"
      ]
     },
     "execution_count": 25,
     "metadata": {},
     "output_type": "execute_result"
    }
   ],
   "source": [
    "cpj['locality'].value_counts()"
   ]
  },
  {
   "cell_type": "code",
   "execution_count": 26,
   "metadata": {},
   "outputs": [
    {
     "data": {
      "text/plain": [
       "Idlib                             6\n",
       "Sheikh Miskeen, Daraa province    4\n",
       "Nangarhar Province                4\n",
       "Kémo                              3\n",
       "Takhar Province                   3\n",
       "                                 ..\n",
       "Qalat, Zabul Province             1\n",
       "Arauca                            1\n",
       "Paktia                            1\n",
       "Hama province                     1\n",
       "Santa Cruz, Laguna Province       1\n",
       "Name: province, Length: 65, dtype: int64"
      ]
     },
     "execution_count": 26,
     "metadata": {},
     "output_type": "execute_result"
    }
   ],
   "source": [
    "cpj['province'].value_counts()"
   ]
  },
  {
   "cell_type": "code",
   "execution_count": 27,
   "metadata": {},
   "outputs": [
    {
     "name": "stdout",
     "output_type": "stream",
     "text": [
      "<class 'pandas.core.frame.DataFrame'>\n",
      "RangeIndex: 2033 entries, 0 to 2032\n",
      "Data columns (total 24 columns):\n",
      " #   Column                    Non-Null Count  Dtype \n",
      "---  ------                    --------------  ----- \n",
      " 0   year                      2033 non-null   int64 \n",
      " 1   combinedStatus            2033 non-null   object\n",
      " 2   fullName                  2033 non-null   object\n",
      " 3   primaryNationality        1313 non-null   object\n",
      " 4   gender                    1459 non-null   object\n",
      " 5   type                      2033 non-null   object\n",
      " 6   typeOfDeath               1369 non-null   object\n",
      " 7   employedAs                2025 non-null   object\n",
      " 8   organizations             2032 non-null   object\n",
      " 9   jobs                      1398 non-null   object\n",
      " 10  coverage                  1348 non-null   object\n",
      " 11  mediums                   1395 non-null   object\n",
      " 12  country                   2033 non-null   object\n",
      " 13  location                  2019 non-null   object\n",
      " 14  locality                  2009 non-null   object\n",
      " 15  localOrForeign            1469 non-null   object\n",
      " 16  sourcesOfFire             1187 non-null   object\n",
      " 17  motiveConfirmed           1919 non-null   object\n",
      " 18  accountabilityCrossfire   43 non-null     object\n",
      " 19  accountabilityAssignment  32 non-null     object\n",
      " 20  impunityMurder            876 non-null    object\n",
      " 21  tortured                  873 non-null    object\n",
      " 22  captive                   873 non-null    object\n",
      " 23  threatened                873 non-null    object\n",
      "dtypes: int64(1), object(23)\n",
      "memory usage: 381.3+ KB\n"
     ]
    }
   ],
   "source": [
    "cpj.drop(['region','state','province'],axis=1,inplace=True)\n",
    "cpj.info()"
   ]
  },
  {
   "cell_type": "code",
   "execution_count": 28,
   "metadata": {},
   "outputs": [
    {
     "data": {
      "text/plain": [
       "Murder                  872\n",
       "Crossfire               308\n",
       "Dangerous Assignment    180\n",
       "Unknown                   9\n",
       "Name: typeOfDeath, dtype: int64"
      ]
     },
     "execution_count": 28,
     "metadata": {},
     "output_type": "execute_result"
    }
   ],
   "source": [
    "cpj['typeOfDeath'].value_counts()"
   ]
  },
  {
   "cell_type": "code",
   "execution_count": 29,
   "metadata": {},
   "outputs": [
    {
     "data": {
      "text/plain": [
       "Local      1301\n",
       "Foreign     168\n",
       "Name: localOrForeign, dtype: int64"
      ]
     },
     "execution_count": 29,
     "metadata": {},
     "output_type": "execute_result"
    }
   ],
   "source": [
    "cpj['localOrForeign'].value_counts()"
   ]
  },
  {
   "cell_type": "code",
   "execution_count": 30,
   "metadata": {},
   "outputs": [
    {
     "data": {
      "text/plain": [
       "Political Group                                                                         449\n",
       "Military Officials                                                                      251\n",
       "Government Officials                                                                    200\n",
       "Criminal Group                                                                          123\n",
       "Paramilitary Group                                                                       61\n",
       "Local Residents                                                                          31\n",
       "Mob Violence                                                                             14\n",
       "Unknown Fire                                                                              8\n",
       "Military Officials, Political Group                                                       5\n",
       "Unknown                                                                                   5\n",
       "Criminal Group,Government Officials                                                       5\n",
       "Criminal Group, Government Officials                                                      4\n",
       "Government Officials,Criminal Group                                                       4\n",
       "Criminal Group,Local Residents,Military Officials,Paramilitary Group,Political Group      3\n",
       "Government Officials, Military Officials                                                  2\n",
       "Government Officials,Military Officials                                                   2\n",
       "Political Group,Paramilitary Group                                                        2\n",
       "Local Residents,Military Officials                                                        1\n",
       "Government Officials,Mob Violence                                                         1\n",
       "Criminal Group,Political Group,Government Officials                                       1\n",
       "Government Officials, Paramilitary Group                                                  1\n",
       "Paramilitary Group,Political Group                                                        1\n",
       "Criminal Group, Political Group                                                           1\n",
       "Criminal Group, Local Residents                                                           1\n",
       "Military Officials,Paramilitary Group                                                     1\n",
       "Criminal Group, Military Officials                                                        1\n",
       "Government Officials,Local Residents                                                      1\n",
       "Paramilitary Group, Political Group                                                       1\n",
       "Government Officials, Local Residents                                                     1\n",
       "Criminal Group, Mob Violence                                                              1\n",
       "Criminal Group,Local Residents                                                            1\n",
       "Criminal Group,Paramilitary Group                                                         1\n",
       "Government Officials,Political Group                                                      1\n",
       "Local Residents, Political Group                                                          1\n",
       "Political Group,Criminal Group                                                            1\n",
       "Name: sourcesOfFire, dtype: int64"
      ]
     },
     "execution_count": 30,
     "metadata": {},
     "output_type": "execute_result"
    }
   ],
   "source": [
    "cpj['sourcesOfFire'].value_counts()"
   ]
  },
  {
   "cell_type": "code",
   "execution_count": 34,
   "metadata": {},
   "outputs": [
    {
     "data": {
      "text/plain": [
       "No     41\n",
       "Yes     2\n",
       "Name: accountabilityCrossfire, dtype: int64"
      ]
     },
     "execution_count": 34,
     "metadata": {},
     "output_type": "execute_result"
    }
   ],
   "source": [
    "cpj['accountabilityCrossfire'].value_counts()"
   ]
  },
  {
   "cell_type": "code",
   "execution_count": 35,
   "metadata": {},
   "outputs": [
    {
     "data": {
      "text/plain": [
       "No     29\n",
       "Yes     3\n",
       "Name: accountabilityAssignment, dtype: int64"
      ]
     },
     "execution_count": 35,
     "metadata": {},
     "output_type": "execute_result"
    }
   ],
   "source": [
    "cpj['accountabilityAssignment'].value_counts()"
   ]
  },
  {
   "cell_type": "code",
   "execution_count": 36,
   "metadata": {},
   "outputs": [
    {
     "data": {
      "text/plain": [
       "Complete Impunity    713\n",
       "Partial Impunity     122\n",
       "Full Justice          41\n",
       "Name: impunityMurder, dtype: int64"
      ]
     },
     "execution_count": 36,
     "metadata": {},
     "output_type": "execute_result"
    }
   ],
   "source": [
    "cpj['impunityMurder'].value_counts()"
   ]
  },
  {
   "cell_type": "code",
   "execution_count": 37,
   "metadata": {},
   "outputs": [
    {
     "data": {
      "text/plain": [
       "No     772\n",
       "Yes    101\n",
       "Name: tortured, dtype: int64"
      ]
     },
     "execution_count": 37,
     "metadata": {},
     "output_type": "execute_result"
    }
   ],
   "source": [
    "cpj['tortured'].value_counts()"
   ]
  },
  {
   "cell_type": "code",
   "execution_count": 38,
   "metadata": {},
   "outputs": [
    {
     "data": {
      "text/plain": [
       "No     684\n",
       "Yes    189\n",
       "Name: captive, dtype: int64"
      ]
     },
     "execution_count": 38,
     "metadata": {},
     "output_type": "execute_result"
    }
   ],
   "source": [
    "cpj['captive'].value_counts()"
   ]
  },
  {
   "cell_type": "code",
   "execution_count": 39,
   "metadata": {},
   "outputs": [
    {
     "data": {
      "text/plain": [
       "No     507\n",
       "Yes    366\n",
       "Name: threatened, dtype: int64"
      ]
     },
     "execution_count": 39,
     "metadata": {},
     "output_type": "execute_result"
    }
   ],
   "source": [
    "cpj['threatened'].value_counts()"
   ]
  },
  {
   "cell_type": "code",
   "execution_count": 54,
   "metadata": {},
   "outputs": [
    {
     "data": {
      "image/png": "[encoded data removed]",
      "text/plain": [
       "<Figure size 864x288 with 1 Axes>"
      ]
     },
     "metadata": {
      "needs_background": "light"
     },
     "output_type": "display_data"
    }
   ],
   "source": [
    "cpj_GB_year_count = cpj.groupby('year').count().reset_index().loc[:,['year','combinedStatus']]\n",
    "cpj_GB_year_count.rename(columns={'combinedStatus':'Count'},inplace=True)\n",
    "cpj_GB_year_count.head()\n",
    "\n",
    "fig, ax = plt.subplots(1,figsize=(12,4))\n",
    "ax.bar(cpj_GB_year_count['year'],cpj_GB_year_count['Count'])\n",
    "ax.set_xlabel('Year')\n",
    "ax.set_ylabel('# Journalists Killed')\n",
    "ax.set_title('# Journalists Killed Per Year')\n",
    "\n",
    "plt.savefig('../images/TotalDeathsVsYear.png',bbox_inches='tight')"
   ]
  },
  {
   "cell_type": "code",
   "execution_count": 63,
   "metadata": {},
   "outputs": [
    {
     "data": {
      "image/png": "[encoded data removed]",
      "text/plain": [
       "<Figure size 864x288 with 1 Axes>"
      ]
     },
     "metadata": {
      "needs_background": "light"
     },
     "output_type": "display_data"
    }
   ],
   "source": [
    "cpj_GB_country_count = cpj.groupby('country').count().reset_index().loc[:,['country','year']].sort_values('year',ascending=False).head(15)\n",
    "cpj_GB_country_count.rename(columns={'year':'Count'},inplace=True)\n",
    "\n",
    "\n",
    "fig, ax = plt.subplots(1,figsize=(12,4))\n",
    "ax.bar(cpj_GB_country_count['country'],cpj_GB_country_count['Count'])\n",
    "ax.set_xlabel('Country')\n",
    "ax.set_ylabel('# Journalists Killed')\n",
    "ax.set_title('# Journalists Killed Per Country')\n",
    "plt.xticks(rotation=65)\n",
    "\n",
    "plt.savefig('../images/TotalDeathsByCountry.png',bbox_inches='tight')"
   ]
  },
  {
   "cell_type": "code",
   "execution_count": null,
   "metadata": {},
   "outputs": [],
   "source": []
  }
 ],
 "metadata": {
  "kernelspec": {
   "display_name": "Python 3",
   "language": "python",
   "name": "python3"
  },
  "language_info": {
   "codemirror_mode": {
    "name": "ipython",
    "version": 3
   },
   "file_extension": ".py",
   "mimetype": "text/x-python",
   "name": "python",
   "nbconvert_exporter": "python",
   "pygments_lexer": "ipython3",
   "version": "3.7.6"
  }
 },
 "nbformat": 4,
 "nbformat_minor": 4
}
