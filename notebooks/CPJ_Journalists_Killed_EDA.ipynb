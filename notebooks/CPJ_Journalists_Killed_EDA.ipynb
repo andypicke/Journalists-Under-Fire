{
 "cells": [
  {
   "cell_type": "markdown",
   "metadata": {},
   "source": [
    "# EDA of CPJ Data on Journalists Killed since 1992"
   ]
  },
  {
   "cell_type": "code",
   "execution_count": 1,
   "metadata": {},
   "outputs": [],
   "source": [
    "# %load ~/jupyter_imports.py\n",
    "import pandas as pd\n",
    "import numpy as np\n",
    "import matplotlib.pyplot as plt\n",
    "%matplotlib inline\n",
    "\n",
    "# make plots look nice\n",
    "plt.rcParams['font.size'] = 14\n",
    "plt.rcParams['axes.labelsize'] = 'large'\n",
    "plt.rcParams['xtick.labelsize'] = 'large'\n",
    "plt.rcParams['ytick.labelsize'] = 'large'\n",
    "plt.rcParams['lines.linewidth'] = 3\n"
   ]
  },
  {
   "cell_type": "code",
   "execution_count": 2,
   "metadata": {},
   "outputs": [
    {
     "data": {
      "text/html": [
       "<div>\n",
       "<style scoped>\n",
       "    .dataframe tbody tr th:only-of-type {\n",
       "        vertical-align: middle;\n",
       "    }\n",
       "\n",
       "    .dataframe tbody tr th {\n",
       "        vertical-align: top;\n",
       "    }\n",
       "\n",
       "    .dataframe thead th {\n",
       "        text-align: right;\n",
       "    }\n",
       "</style>\n",
       "<table border=\"1\" class=\"dataframe\">\n",
       "  <thead>\n",
       "    <tr style=\"text-align: right;\">\n",
       "      <th></th>\n",
       "      <th>year</th>\n",
       "      <th>combinedStatus</th>\n",
       "      <th>fullName</th>\n",
       "      <th>sortName</th>\n",
       "      <th>primaryNationality</th>\n",
       "      <th>secondaryNationality</th>\n",
       "      <th>tertiaryNationality</th>\n",
       "      <th>gender</th>\n",
       "      <th>photoUrl</th>\n",
       "      <th>photoCredit</th>\n",
       "      <th>...</th>\n",
       "      <th>threatened</th>\n",
       "      <th>charges</th>\n",
       "      <th>motive</th>\n",
       "      <th>lengthOfSentence</th>\n",
       "      <th>healthProblems</th>\n",
       "      <th>impCountry</th>\n",
       "      <th>entry</th>\n",
       "      <th>sentenceDate</th>\n",
       "      <th>sentence</th>\n",
       "      <th>locationImprisoned</th>\n",
       "    </tr>\n",
       "  </thead>\n",
       "  <tbody>\n",
       "    <tr>\n",
       "      <th>0</th>\n",
       "      <td>2006</td>\n",
       "      <td>Confirmed</td>\n",
       "      <td>Ahmad [full name unavailable]</td>\n",
       "      <td>NaN</td>\n",
       "      <td>NaN</td>\n",
       "      <td>NaN</td>\n",
       "      <td>NaN</td>\n",
       "      <td>NaN</td>\n",
       "      <td>NaN</td>\n",
       "      <td>NaN</td>\n",
       "      <td>...</td>\n",
       "      <td>NaN</td>\n",
       "      <td>NaN</td>\n",
       "      <td>NaN</td>\n",
       "      <td>NaN</td>\n",
       "      <td>NaN</td>\n",
       "      <td>NaN</td>\n",
       "      <td>NaN</td>\n",
       "      <td>NaN</td>\n",
       "      <td>NaN</td>\n",
       "      <td>NaN</td>\n",
       "    </tr>\n",
       "    <tr>\n",
       "      <th>1</th>\n",
       "      <td>2007</td>\n",
       "      <td>Confirmed</td>\n",
       "      <td>Khaled Mohammad Nofan</td>\n",
       "      <td>NaN</td>\n",
       "      <td>NaN</td>\n",
       "      <td>NaN</td>\n",
       "      <td>NaN</td>\n",
       "      <td>NaN</td>\n",
       "      <td>NaN</td>\n",
       "      <td>NaN</td>\n",
       "      <td>...</td>\n",
       "      <td>NaN</td>\n",
       "      <td>NaN</td>\n",
       "      <td>NaN</td>\n",
       "      <td>NaN</td>\n",
       "      <td>NaN</td>\n",
       "      <td>NaN</td>\n",
       "      <td>NaN</td>\n",
       "      <td>NaN</td>\n",
       "      <td>NaN</td>\n",
       "      <td>NaN</td>\n",
       "    </tr>\n",
       "    <tr>\n",
       "      <th>2</th>\n",
       "      <td>2007</td>\n",
       "      <td>Confirmed</td>\n",
       "      <td>Sabah Salman</td>\n",
       "      <td>NaN</td>\n",
       "      <td>NaN</td>\n",
       "      <td>NaN</td>\n",
       "      <td>NaN</td>\n",
       "      <td>NaN</td>\n",
       "      <td>NaN</td>\n",
       "      <td>NaN</td>\n",
       "      <td>...</td>\n",
       "      <td>NaN</td>\n",
       "      <td>NaN</td>\n",
       "      <td>NaN</td>\n",
       "      <td>NaN</td>\n",
       "      <td>NaN</td>\n",
       "      <td>NaN</td>\n",
       "      <td>NaN</td>\n",
       "      <td>NaN</td>\n",
       "      <td>NaN</td>\n",
       "      <td>NaN</td>\n",
       "    </tr>\n",
       "    <tr>\n",
       "      <th>3</th>\n",
       "      <td>2005</td>\n",
       "      <td>Confirmed</td>\n",
       "      <td>Unidentified</td>\n",
       "      <td>NaN</td>\n",
       "      <td>NaN</td>\n",
       "      <td>NaN</td>\n",
       "      <td>NaN</td>\n",
       "      <td>NaN</td>\n",
       "      <td>NaN</td>\n",
       "      <td>NaN</td>\n",
       "      <td>...</td>\n",
       "      <td>NaN</td>\n",
       "      <td>NaN</td>\n",
       "      <td>NaN</td>\n",
       "      <td>NaN</td>\n",
       "      <td>NaN</td>\n",
       "      <td>NaN</td>\n",
       "      <td>NaN</td>\n",
       "      <td>NaN</td>\n",
       "      <td>NaN</td>\n",
       "      <td>NaN</td>\n",
       "    </tr>\n",
       "    <tr>\n",
       "      <th>4</th>\n",
       "      <td>2018</td>\n",
       "      <td>Confirmed</td>\n",
       "      <td>Abadullah Hananzai</td>\n",
       "      <td>NaN</td>\n",
       "      <td>Afghanistan</td>\n",
       "      <td>NaN</td>\n",
       "      <td>NaN</td>\n",
       "      <td>Male</td>\n",
       "      <td>NaN</td>\n",
       "      <td>NaN</td>\n",
       "      <td>...</td>\n",
       "      <td>No</td>\n",
       "      <td>NaN</td>\n",
       "      <td>NaN</td>\n",
       "      <td>NaN</td>\n",
       "      <td>NaN</td>\n",
       "      <td>NaN</td>\n",
       "      <td>NaN</td>\n",
       "      <td>NaN</td>\n",
       "      <td>NaN</td>\n",
       "      <td>NaN</td>\n",
       "    </tr>\n",
       "  </tbody>\n",
       "</table>\n",
       "<p>5 rows × 43 columns</p>\n",
       "</div>"
      ],
      "text/plain": [
       "   year combinedStatus                        fullName  sortName  \\\n",
       "0  2006      Confirmed   Ahmad [full name unavailable]       NaN   \n",
       "1  2007      Confirmed           Khaled Mohammad Nofan       NaN   \n",
       "2  2007      Confirmed                    Sabah Salman       NaN   \n",
       "3  2005      Confirmed                    Unidentified       NaN   \n",
       "4  2018      Confirmed              Abadullah Hananzai       NaN   \n",
       "\n",
       "  primaryNationality secondaryNationality  tertiaryNationality gender  \\\n",
       "0                NaN                  NaN                  NaN    NaN   \n",
       "1                NaN                  NaN                  NaN    NaN   \n",
       "2                NaN                  NaN                  NaN    NaN   \n",
       "3                NaN                  NaN                  NaN    NaN   \n",
       "4        Afghanistan                  NaN                  NaN   Male   \n",
       "\n",
       "  photoUrl photoCredit  ... threatened charges motive lengthOfSentence  \\\n",
       "0      NaN         NaN  ...        NaN     NaN    NaN              NaN   \n",
       "1      NaN         NaN  ...        NaN     NaN    NaN              NaN   \n",
       "2      NaN         NaN  ...        NaN     NaN    NaN              NaN   \n",
       "3      NaN         NaN  ...        NaN     NaN    NaN              NaN   \n",
       "4      NaN         NaN  ...         No     NaN    NaN              NaN   \n",
       "\n",
       "  healthProblems impCountry entry sentenceDate sentence locationImprisoned  \n",
       "0            NaN        NaN   NaN          NaN      NaN                NaN  \n",
       "1            NaN        NaN   NaN          NaN      NaN                NaN  \n",
       "2            NaN        NaN   NaN          NaN      NaN                NaN  \n",
       "3            NaN        NaN   NaN          NaN      NaN                NaN  \n",
       "4            NaN        NaN   NaN          NaN      NaN                NaN  \n",
       "\n",
       "[5 rows x 43 columns]"
      ]
     },
     "execution_count": 2,
     "metadata": {},
     "output_type": "execute_result"
    }
   ],
   "source": [
    "cpj = pd.read_csv('../data/Journalists Killed between 1992 and 2020.csv')\n",
    "cpj.head()"
   ]
  },
  {
   "cell_type": "code",
   "execution_count": 3,
   "metadata": {},
   "outputs": [
    {
     "name": "stdout",
     "output_type": "stream",
     "text": [
      "<class 'pandas.core.frame.DataFrame'>\n",
      "RangeIndex: 2033 entries, 0 to 2032\n",
      "Data columns (total 43 columns):\n",
      " #   Column                    Non-Null Count  Dtype  \n",
      "---  ------                    --------------  -----  \n",
      " 0   year                      2033 non-null   int64  \n",
      " 1   combinedStatus            2033 non-null   object \n",
      " 2   fullName                  2033 non-null   object \n",
      " 3   sortName                  0 non-null      float64\n",
      " 4   primaryNationality        1313 non-null   object \n",
      " 5   secondaryNationality      4 non-null      object \n",
      " 6   tertiaryNationality       0 non-null      float64\n",
      " 7   gender                    1459 non-null   object \n",
      " 8   photoUrl                  431 non-null    object \n",
      " 9   photoCredit               267 non-null    object \n",
      " 10  type                      2033 non-null   object \n",
      " 11  lastStatus                231 non-null    object \n",
      " 12  typeOfDeath               1369 non-null   object \n",
      " 13  status                    2033 non-null   object \n",
      " 14  employedAs                2025 non-null   object \n",
      " 15  organizations             2032 non-null   object \n",
      " 16  jobs                      1398 non-null   object \n",
      " 17  coverage                  1348 non-null   object \n",
      " 18  mediums                   1395 non-null   object \n",
      " 19  country                   2033 non-null   object \n",
      " 20  location                  2019 non-null   object \n",
      " 21  region                    14 non-null     object \n",
      " 22  state                     76 non-null     object \n",
      " 23  locality                  2009 non-null   object \n",
      " 24  province                  90 non-null     object \n",
      " 25  localOrForeign            1469 non-null   object \n",
      " 26  sourcesOfFire             1187 non-null   object \n",
      " 27  motiveConfirmed           1919 non-null   object \n",
      " 28  accountabilityCrossfire   43 non-null     object \n",
      " 29  accountabilityAssignment  32 non-null     object \n",
      " 30  impunityMurder            876 non-null    object \n",
      " 31  tortured                  873 non-null    object \n",
      " 32  captive                   873 non-null    object \n",
      " 33  threatened                873 non-null    object \n",
      " 34  charges                   0 non-null      float64\n",
      " 35  motive                    0 non-null      float64\n",
      " 36  lengthOfSentence          0 non-null      float64\n",
      " 37  healthProblems            0 non-null      float64\n",
      " 38  impCountry                0 non-null      float64\n",
      " 39  entry                     0 non-null      float64\n",
      " 40  sentenceDate              0 non-null      float64\n",
      " 41  sentence                  0 non-null      float64\n",
      " 42  locationImprisoned        0 non-null      float64\n",
      "dtypes: float64(11), int64(1), object(31)\n",
      "memory usage: 683.1+ KB\n"
     ]
    }
   ],
   "source": [
    "cpj.info()"
   ]
  },
  {
   "cell_type": "code",
   "execution_count": 4,
   "metadata": {},
   "outputs": [
    {
     "name": "stdout",
     "output_type": "stream",
     "text": [
      "<class 'pandas.core.frame.DataFrame'>\n",
      "RangeIndex: 2033 entries, 0 to 2032\n",
      "Data columns (total 32 columns):\n",
      " #   Column                    Non-Null Count  Dtype \n",
      "---  ------                    --------------  ----- \n",
      " 0   year                      2033 non-null   int64 \n",
      " 1   combinedStatus            2033 non-null   object\n",
      " 2   fullName                  2033 non-null   object\n",
      " 3   primaryNationality        1313 non-null   object\n",
      " 4   secondaryNationality      4 non-null      object\n",
      " 5   gender                    1459 non-null   object\n",
      " 6   photoUrl                  431 non-null    object\n",
      " 7   photoCredit               267 non-null    object\n",
      " 8   type                      2033 non-null   object\n",
      " 9   lastStatus                231 non-null    object\n",
      " 10  typeOfDeath               1369 non-null   object\n",
      " 11  status                    2033 non-null   object\n",
      " 12  employedAs                2025 non-null   object\n",
      " 13  organizations             2032 non-null   object\n",
      " 14  jobs                      1398 non-null   object\n",
      " 15  coverage                  1348 non-null   object\n",
      " 16  mediums                   1395 non-null   object\n",
      " 17  country                   2033 non-null   object\n",
      " 18  location                  2019 non-null   object\n",
      " 19  region                    14 non-null     object\n",
      " 20  state                     76 non-null     object\n",
      " 21  locality                  2009 non-null   object\n",
      " 22  province                  90 non-null     object\n",
      " 23  localOrForeign            1469 non-null   object\n",
      " 24  sourcesOfFire             1187 non-null   object\n",
      " 25  motiveConfirmed           1919 non-null   object\n",
      " 26  accountabilityCrossfire   43 non-null     object\n",
      " 27  accountabilityAssignment  32 non-null     object\n",
      " 28  impunityMurder            876 non-null    object\n",
      " 29  tortured                  873 non-null    object\n",
      " 30  captive                   873 non-null    object\n",
      " 31  threatened                873 non-null    object\n",
      "dtypes: int64(1), object(31)\n",
      "memory usage: 508.4+ KB\n"
     ]
    }
   ],
   "source": [
    "# drop columns with all nulls\n",
    "cpj.dropna(axis=1, how='all', inplace=True)\n",
    "cpj.info()"
   ]
  },
  {
   "cell_type": "markdown",
   "metadata": {},
   "source": [
    "What is difference between 'combinedStatus','status', and 'lastStatus?"
   ]
  },
  {
   "cell_type": "code",
   "execution_count": 5,
   "metadata": {},
   "outputs": [
    {
     "data": {
      "text/plain": [
       "Confirmed      1473\n",
       "Unconfirmed     550\n",
       "Killed           10\n",
       "Name: combinedStatus, dtype: int64"
      ]
     },
     "execution_count": 5,
     "metadata": {},
     "output_type": "execute_result"
    }
   ],
   "source": [
    "cpj['combinedStatus'].value_counts()"
   ]
  },
  {
   "cell_type": "code",
   "execution_count": 6,
   "metadata": {},
   "outputs": [
    {
     "data": {
      "text/plain": [
       "Killed    2033\n",
       "Name: status, dtype: int64"
      ]
     },
     "execution_count": 6,
     "metadata": {},
     "output_type": "execute_result"
    }
   ],
   "source": [
    "cpj['status'].value_counts()"
   ]
  },
  {
   "cell_type": "code",
   "execution_count": 7,
   "metadata": {},
   "outputs": [
    {
     "data": {
      "text/plain": [
       "Killed    231\n",
       "Name: lastStatus, dtype: int64"
      ]
     },
     "execution_count": 7,
     "metadata": {},
     "output_type": "execute_result"
    }
   ],
   "source": [
    "cpj['lastStatus'].value_counts()"
   ]
  },
  {
   "cell_type": "markdown",
   "metadata": {},
   "source": [
    "Status and lastStatus don't seem to contain any useful information, so drop those columns."
   ]
  },
  {
   "cell_type": "code",
   "execution_count": 8,
   "metadata": {},
   "outputs": [
    {
     "name": "stdout",
     "output_type": "stream",
     "text": [
      "<class 'pandas.core.frame.DataFrame'>\n",
      "RangeIndex: 2033 entries, 0 to 2032\n",
      "Data columns (total 30 columns):\n",
      " #   Column                    Non-Null Count  Dtype \n",
      "---  ------                    --------------  ----- \n",
      " 0   year                      2033 non-null   int64 \n",
      " 1   combinedStatus            2033 non-null   object\n",
      " 2   fullName                  2033 non-null   object\n",
      " 3   primaryNationality        1313 non-null   object\n",
      " 4   secondaryNationality      4 non-null      object\n",
      " 5   gender                    1459 non-null   object\n",
      " 6   photoUrl                  431 non-null    object\n",
      " 7   photoCredit               267 non-null    object\n",
      " 8   type                      2033 non-null   object\n",
      " 9   typeOfDeath               1369 non-null   object\n",
      " 10  employedAs                2025 non-null   object\n",
      " 11  organizations             2032 non-null   object\n",
      " 12  jobs                      1398 non-null   object\n",
      " 13  coverage                  1348 non-null   object\n",
      " 14  mediums                   1395 non-null   object\n",
      " 15  country                   2033 non-null   object\n",
      " 16  location                  2019 non-null   object\n",
      " 17  region                    14 non-null     object\n",
      " 18  state                     76 non-null     object\n",
      " 19  locality                  2009 non-null   object\n",
      " 20  province                  90 non-null     object\n",
      " 21  localOrForeign            1469 non-null   object\n",
      " 22  sourcesOfFire             1187 non-null   object\n",
      " 23  motiveConfirmed           1919 non-null   object\n",
      " 24  accountabilityCrossfire   43 non-null     object\n",
      " 25  accountabilityAssignment  32 non-null     object\n",
      " 26  impunityMurder            876 non-null    object\n",
      " 27  tortured                  873 non-null    object\n",
      " 28  captive                   873 non-null    object\n",
      " 29  threatened                873 non-null    object\n",
      "dtypes: int64(1), object(29)\n",
      "memory usage: 476.6+ KB\n"
     ]
    }
   ],
   "source": [
    "cpj.drop(['status','lastStatus'],axis=1,inplace=True)\n",
    "cpj.info()"
   ]
  },
  {
   "cell_type": "markdown",
   "metadata": {},
   "source": [
    "Comparing combinedStatus wiht motiveConfirmed..."
   ]
  },
  {
   "cell_type": "code",
   "execution_count": 9,
   "metadata": {},
   "outputs": [
    {
     "data": {
      "text/plain": [
       "Confirmed      1473\n",
       "Unconfirmed     550\n",
       "Killed           10\n",
       "Name: combinedStatus, dtype: int64"
      ]
     },
     "execution_count": 9,
     "metadata": {},
     "output_type": "execute_result"
    }
   ],
   "source": [
    "cpj['combinedStatus'].value_counts()"
   ]
  },
  {
   "cell_type": "code",
   "execution_count": 10,
   "metadata": {},
   "outputs": [
    {
     "data": {
      "text/plain": [
       "Confirmed      1369\n",
       "Unconfirmed     550\n",
       "Name: motiveConfirmed, dtype: int64"
      ]
     },
     "execution_count": 10,
     "metadata": {},
     "output_type": "execute_result"
    }
   ],
   "source": [
    "cpj['motiveConfirmed'].value_counts()"
   ]
  },
  {
   "cell_type": "code",
   "execution_count": 11,
   "metadata": {},
   "outputs": [
    {
     "data": {
      "text/html": [
       "<div>\n",
       "<style scoped>\n",
       "    .dataframe tbody tr th:only-of-type {\n",
       "        vertical-align: middle;\n",
       "    }\n",
       "\n",
       "    .dataframe tbody tr th {\n",
       "        vertical-align: top;\n",
       "    }\n",
       "\n",
       "    .dataframe thead th {\n",
       "        text-align: right;\n",
       "    }\n",
       "</style>\n",
       "<table border=\"1\" class=\"dataframe\">\n",
       "  <thead>\n",
       "    <tr style=\"text-align: right;\">\n",
       "      <th></th>\n",
       "      <th>year</th>\n",
       "      <th>combinedStatus</th>\n",
       "      <th>fullName</th>\n",
       "      <th>primaryNationality</th>\n",
       "      <th>secondaryNationality</th>\n",
       "      <th>gender</th>\n",
       "      <th>photoUrl</th>\n",
       "      <th>photoCredit</th>\n",
       "      <th>type</th>\n",
       "      <th>typeOfDeath</th>\n",
       "      <th>...</th>\n",
       "      <th>province</th>\n",
       "      <th>localOrForeign</th>\n",
       "      <th>sourcesOfFire</th>\n",
       "      <th>motiveConfirmed</th>\n",
       "      <th>accountabilityCrossfire</th>\n",
       "      <th>accountabilityAssignment</th>\n",
       "      <th>impunityMurder</th>\n",
       "      <th>tortured</th>\n",
       "      <th>captive</th>\n",
       "      <th>threatened</th>\n",
       "    </tr>\n",
       "  </thead>\n",
       "  <tbody>\n",
       "    <tr>\n",
       "      <th>0</th>\n",
       "      <td>2006</td>\n",
       "      <td>Confirmed</td>\n",
       "      <td>Ahmad [full name unavailable]</td>\n",
       "      <td>NaN</td>\n",
       "      <td>NaN</td>\n",
       "      <td>NaN</td>\n",
       "      <td>NaN</td>\n",
       "      <td>NaN</td>\n",
       "      <td>Media Worker</td>\n",
       "      <td>NaN</td>\n",
       "      <td>...</td>\n",
       "      <td>NaN</td>\n",
       "      <td>NaN</td>\n",
       "      <td>NaN</td>\n",
       "      <td>NaN</td>\n",
       "      <td>NaN</td>\n",
       "      <td>NaN</td>\n",
       "      <td>NaN</td>\n",
       "      <td>NaN</td>\n",
       "      <td>NaN</td>\n",
       "      <td>NaN</td>\n",
       "    </tr>\n",
       "    <tr>\n",
       "      <th>1</th>\n",
       "      <td>2007</td>\n",
       "      <td>Confirmed</td>\n",
       "      <td>Khaled Mohammad Nofan</td>\n",
       "      <td>NaN</td>\n",
       "      <td>NaN</td>\n",
       "      <td>NaN</td>\n",
       "      <td>NaN</td>\n",
       "      <td>NaN</td>\n",
       "      <td>Media Worker</td>\n",
       "      <td>NaN</td>\n",
       "      <td>...</td>\n",
       "      <td>NaN</td>\n",
       "      <td>NaN</td>\n",
       "      <td>NaN</td>\n",
       "      <td>NaN</td>\n",
       "      <td>NaN</td>\n",
       "      <td>NaN</td>\n",
       "      <td>NaN</td>\n",
       "      <td>NaN</td>\n",
       "      <td>NaN</td>\n",
       "      <td>NaN</td>\n",
       "    </tr>\n",
       "    <tr>\n",
       "      <th>2</th>\n",
       "      <td>2007</td>\n",
       "      <td>Confirmed</td>\n",
       "      <td>Sabah Salman</td>\n",
       "      <td>NaN</td>\n",
       "      <td>NaN</td>\n",
       "      <td>NaN</td>\n",
       "      <td>NaN</td>\n",
       "      <td>NaN</td>\n",
       "      <td>Media Worker</td>\n",
       "      <td>NaN</td>\n",
       "      <td>...</td>\n",
       "      <td>NaN</td>\n",
       "      <td>NaN</td>\n",
       "      <td>NaN</td>\n",
       "      <td>NaN</td>\n",
       "      <td>NaN</td>\n",
       "      <td>NaN</td>\n",
       "      <td>NaN</td>\n",
       "      <td>NaN</td>\n",
       "      <td>NaN</td>\n",
       "      <td>NaN</td>\n",
       "    </tr>\n",
       "    <tr>\n",
       "      <th>3</th>\n",
       "      <td>2005</td>\n",
       "      <td>Confirmed</td>\n",
       "      <td>Unidentified</td>\n",
       "      <td>NaN</td>\n",
       "      <td>NaN</td>\n",
       "      <td>NaN</td>\n",
       "      <td>NaN</td>\n",
       "      <td>NaN</td>\n",
       "      <td>Media Worker</td>\n",
       "      <td>NaN</td>\n",
       "      <td>...</td>\n",
       "      <td>NaN</td>\n",
       "      <td>NaN</td>\n",
       "      <td>NaN</td>\n",
       "      <td>NaN</td>\n",
       "      <td>NaN</td>\n",
       "      <td>NaN</td>\n",
       "      <td>NaN</td>\n",
       "      <td>NaN</td>\n",
       "      <td>NaN</td>\n",
       "      <td>NaN</td>\n",
       "    </tr>\n",
       "    <tr>\n",
       "      <th>4</th>\n",
       "      <td>2018</td>\n",
       "      <td>Confirmed</td>\n",
       "      <td>Abadullah Hananzai</td>\n",
       "      <td>Afghanistan</td>\n",
       "      <td>NaN</td>\n",
       "      <td>Male</td>\n",
       "      <td>NaN</td>\n",
       "      <td>NaN</td>\n",
       "      <td>Journalist</td>\n",
       "      <td>Murder</td>\n",
       "      <td>...</td>\n",
       "      <td>NaN</td>\n",
       "      <td>Local</td>\n",
       "      <td>Political Group</td>\n",
       "      <td>Confirmed</td>\n",
       "      <td>NaN</td>\n",
       "      <td>NaN</td>\n",
       "      <td>Complete Impunity</td>\n",
       "      <td>No</td>\n",
       "      <td>No</td>\n",
       "      <td>No</td>\n",
       "    </tr>\n",
       "  </tbody>\n",
       "</table>\n",
       "<p>5 rows × 30 columns</p>\n",
       "</div>"
      ],
      "text/plain": [
       "   year combinedStatus                        fullName primaryNationality  \\\n",
       "0  2006      Confirmed   Ahmad [full name unavailable]                NaN   \n",
       "1  2007      Confirmed           Khaled Mohammad Nofan                NaN   \n",
       "2  2007      Confirmed                    Sabah Salman                NaN   \n",
       "3  2005      Confirmed                    Unidentified                NaN   \n",
       "4  2018      Confirmed              Abadullah Hananzai        Afghanistan   \n",
       "\n",
       "  secondaryNationality gender photoUrl photoCredit          type typeOfDeath  \\\n",
       "0                  NaN    NaN      NaN         NaN  Media Worker         NaN   \n",
       "1                  NaN    NaN      NaN         NaN  Media Worker         NaN   \n",
       "2                  NaN    NaN      NaN         NaN  Media Worker         NaN   \n",
       "3                  NaN    NaN      NaN         NaN  Media Worker         NaN   \n",
       "4                  NaN   Male      NaN         NaN    Journalist      Murder   \n",
       "\n",
       "   ... province localOrForeign    sourcesOfFire motiveConfirmed  \\\n",
       "0  ...      NaN            NaN              NaN             NaN   \n",
       "1  ...      NaN            NaN              NaN             NaN   \n",
       "2  ...      NaN            NaN              NaN             NaN   \n",
       "3  ...      NaN            NaN              NaN             NaN   \n",
       "4  ...      NaN          Local  Political Group       Confirmed   \n",
       "\n",
       "  accountabilityCrossfire accountabilityAssignment     impunityMurder  \\\n",
       "0                     NaN                      NaN                NaN   \n",
       "1                     NaN                      NaN                NaN   \n",
       "2                     NaN                      NaN                NaN   \n",
       "3                     NaN                      NaN                NaN   \n",
       "4                     NaN                      NaN  Complete Impunity   \n",
       "\n",
       "  tortured captive threatened  \n",
       "0      NaN     NaN        NaN  \n",
       "1      NaN     NaN        NaN  \n",
       "2      NaN     NaN        NaN  \n",
       "3      NaN     NaN        NaN  \n",
       "4       No      No         No  \n",
       "\n",
       "[5 rows x 30 columns]"
      ]
     },
     "execution_count": 11,
     "metadata": {},
     "output_type": "execute_result"
    }
   ],
   "source": [
    "cpj.head()"
   ]
  },
  {
   "cell_type": "code",
   "execution_count": 12,
   "metadata": {},
   "outputs": [],
   "source": [
    "## Might want to limit analysis to only confirmed motives??"
   ]
  },
  {
   "cell_type": "code",
   "execution_count": null,
   "metadata": {},
   "outputs": [],
   "source": []
  },
  {
   "cell_type": "markdown",
   "metadata": {},
   "source": [
    "Don't need photoUrl or photoCredit columns"
   ]
  },
  {
   "cell_type": "code",
   "execution_count": 13,
   "metadata": {},
   "outputs": [
    {
     "name": "stdout",
     "output_type": "stream",
     "text": [
      "<class 'pandas.core.frame.DataFrame'>\n",
      "RangeIndex: 2033 entries, 0 to 2032\n",
      "Data columns (total 28 columns):\n",
      " #   Column                    Non-Null Count  Dtype \n",
      "---  ------                    --------------  ----- \n",
      " 0   year                      2033 non-null   int64 \n",
      " 1   combinedStatus            2033 non-null   object\n",
      " 2   fullName                  2033 non-null   object\n",
      " 3   primaryNationality        1313 non-null   object\n",
      " 4   secondaryNationality      4 non-null      object\n",
      " 5   gender                    1459 non-null   object\n",
      " 6   type                      2033 non-null   object\n",
      " 7   typeOfDeath               1369 non-null   object\n",
      " 8   employedAs                2025 non-null   object\n",
      " 9   organizations             2032 non-null   object\n",
      " 10  jobs                      1398 non-null   object\n",
      " 11  coverage                  1348 non-null   object\n",
      " 12  mediums                   1395 non-null   object\n",
      " 13  country                   2033 non-null   object\n",
      " 14  location                  2019 non-null   object\n",
      " 15  region                    14 non-null     object\n",
      " 16  state                     76 non-null     object\n",
      " 17  locality                  2009 non-null   object\n",
      " 18  province                  90 non-null     object\n",
      " 19  localOrForeign            1469 non-null   object\n",
      " 20  sourcesOfFire             1187 non-null   object\n",
      " 21  motiveConfirmed           1919 non-null   object\n",
      " 22  accountabilityCrossfire   43 non-null     object\n",
      " 23  accountabilityAssignment  32 non-null     object\n",
      " 24  impunityMurder            876 non-null    object\n",
      " 25  tortured                  873 non-null    object\n",
      " 26  captive                   873 non-null    object\n",
      " 27  threatened                873 non-null    object\n",
      "dtypes: int64(1), object(27)\n",
      "memory usage: 444.8+ KB\n"
     ]
    }
   ],
   "source": [
    "cpj.drop(['photoUrl','photoCredit'],axis=1,inplace=True)\n",
    "cpj.info()"
   ]
  },
  {
   "cell_type": "markdown",
   "metadata": {},
   "source": [
    "Note we only have gender info for 1459 out of 2033 rows."
   ]
  },
  {
   "cell_type": "code",
   "execution_count": 14,
   "metadata": {},
   "outputs": [
    {
     "data": {
      "text/plain": [
       "Male      1357\n",
       "Female     102\n",
       "Name: gender, dtype: int64"
      ]
     },
     "execution_count": 14,
     "metadata": {},
     "output_type": "execute_result"
    }
   ],
   "source": [
    "cpj['gender'].value_counts()"
   ]
  },
  {
   "cell_type": "code",
   "execution_count": 15,
   "metadata": {},
   "outputs": [
    {
     "data": {
      "text/plain": [
       "Iraq                 166\n",
       "Syria                124\n",
       "Philippines           88\n",
       "Mexico                64\n",
       "Pakistan              63\n",
       "                    ... \n",
       "UK                     1\n",
       "Netherlands            1\n",
       "Republic of Congo      1\n",
       "Saudi Arabia           1\n",
       "Turkmenistan           1\n",
       "Name: primaryNationality, Length: 102, dtype: int64"
      ]
     },
     "execution_count": 15,
     "metadata": {},
     "output_type": "execute_result"
    }
   ],
   "source": [
    "cpj['primaryNationality'].value_counts()"
   ]
  },
  {
   "cell_type": "markdown",
   "metadata": {},
   "source": [
    "## What does the 'type' field represent?\n"
   ]
  },
  {
   "cell_type": "code",
   "execution_count": 16,
   "metadata": {},
   "outputs": [
    {
     "data": {
      "text/plain": [
       "Journalist      1919\n",
       "Media Worker     114\n",
       "Name: type, dtype: int64"
      ]
     },
     "execution_count": 16,
     "metadata": {},
     "output_type": "execute_result"
    }
   ],
   "source": [
    "cpj['type'].value_counts()"
   ]
  },
  {
   "cell_type": "code",
   "execution_count": 17,
   "metadata": {},
   "outputs": [
    {
     "data": {
      "text/plain": [
       "Staff        1706\n",
       "Freelance     319\n",
       "Name: employedAs, dtype: int64"
      ]
     },
     "execution_count": 17,
     "metadata": {},
     "output_type": "execute_result"
    }
   ],
   "source": [
    "cpj['employedAs'].value_counts()"
   ]
  },
  {
   "cell_type": "code",
   "execution_count": 18,
   "metadata": {},
   "outputs": [
    {
     "data": {
      "text/plain": [
       "Freelance                            115\n",
       "freelance                             73\n",
       "Freelancer                            31\n",
       "Al-Arabiya                            15\n",
       "Reuters                               14\n",
       "                                    ... \n",
       "National Iraqi News Agency             1\n",
       "Ausaf and Mashriq                      1\n",
       "Rastriya Swabhiman                     1\n",
       "Liberté FM                             1\n",
       "Antena 102.5 FM and Antena 760 AM      1\n",
       "Name: organizations, Length: 1378, dtype: int64"
      ]
     },
     "execution_count": 18,
     "metadata": {},
     "output_type": "execute_result"
    }
   ],
   "source": [
    "cpj['organizations'].value_counts()"
   ]
  },
  {
   "cell_type": "code",
   "execution_count": 19,
   "metadata": {},
   "outputs": [
    {
     "data": {
      "text/plain": [
       "Print Reporter                                  278\n",
       "Broadcast Reporter                              258\n",
       "Camera Operator                                 155\n",
       "Editor                                          127\n",
       "Photographer                                     94\n",
       "                                               ... \n",
       "Internet Reporter,Producer                        1\n",
       "Columnist/Commentator,Editor,Producer             1\n",
       "Camera Operator,Photographer,Publisher/Owner      1\n",
       "Internet Reporter,Columnist/Commentator           1\n",
       "Internet Reporter,Publisher/Owner                 1\n",
       "Name: jobs, Length: 88, dtype: int64"
      ]
     },
     "execution_count": 19,
     "metadata": {},
     "output_type": "execute_result"
    }
   ],
   "source": [
    "cpj['jobs'].value_counts()"
   ]
  },
  {
   "cell_type": "code",
   "execution_count": 49,
   "metadata": {},
   "outputs": [
    {
     "data": {
      "text/html": [
       "<div>\n",
       "<style scoped>\n",
       "    .dataframe tbody tr th:only-of-type {\n",
       "        vertical-align: middle;\n",
       "    }\n",
       "\n",
       "    .dataframe tbody tr th {\n",
       "        vertical-align: top;\n",
       "    }\n",
       "\n",
       "    .dataframe thead th {\n",
       "        text-align: right;\n",
       "    }\n",
       "</style>\n",
       "<table border=\"1\" class=\"dataframe\">\n",
       "  <thead>\n",
       "    <tr style=\"text-align: right;\">\n",
       "      <th></th>\n",
       "      <th>coverage</th>\n",
       "    </tr>\n",
       "  </thead>\n",
       "  <tbody>\n",
       "    <tr>\n",
       "      <th>War</th>\n",
       "      <td>298</td>\n",
       "    </tr>\n",
       "    <tr>\n",
       "      <th>Politics</th>\n",
       "      <td>194</td>\n",
       "    </tr>\n",
       "    <tr>\n",
       "      <th>Politics,War</th>\n",
       "      <td>105</td>\n",
       "    </tr>\n",
       "    <tr>\n",
       "      <th>Crime</th>\n",
       "      <td>62</td>\n",
       "    </tr>\n",
       "    <tr>\n",
       "      <th>Human Rights,Politics,War</th>\n",
       "      <td>60</td>\n",
       "    </tr>\n",
       "    <tr>\n",
       "      <th>Corruption</th>\n",
       "      <td>59</td>\n",
       "    </tr>\n",
       "    <tr>\n",
       "      <th>Corruption,Crime</th>\n",
       "      <td>56</td>\n",
       "    </tr>\n",
       "    <tr>\n",
       "      <th>Corruption,Politics</th>\n",
       "      <td>49</td>\n",
       "    </tr>\n",
       "    <tr>\n",
       "      <th>Human Rights,War</th>\n",
       "      <td>47</td>\n",
       "    </tr>\n",
       "    <tr>\n",
       "      <th>Human Rights,Politics</th>\n",
       "      <td>42</td>\n",
       "    </tr>\n",
       "    <tr>\n",
       "      <th>Human Rights</th>\n",
       "      <td>40</td>\n",
       "    </tr>\n",
       "    <tr>\n",
       "      <th>Culture</th>\n",
       "      <td>31</td>\n",
       "    </tr>\n",
       "    <tr>\n",
       "      <th>Corruption,Crime,Politics</th>\n",
       "      <td>29</td>\n",
       "    </tr>\n",
       "    <tr>\n",
       "      <th>Culture,Politics</th>\n",
       "      <td>25</td>\n",
       "    </tr>\n",
       "    <tr>\n",
       "      <th>Crime,Politics</th>\n",
       "      <td>19</td>\n",
       "    </tr>\n",
       "    <tr>\n",
       "      <th>Culture,Human Rights,Politics</th>\n",
       "      <td>19</td>\n",
       "    </tr>\n",
       "    <tr>\n",
       "      <th>Corruption,Human Rights,Politics</th>\n",
       "      <td>15</td>\n",
       "    </tr>\n",
       "    <tr>\n",
       "      <th>Culture,Sports</th>\n",
       "      <td>13</td>\n",
       "    </tr>\n",
       "    <tr>\n",
       "      <th>Sports</th>\n",
       "      <td>9</td>\n",
       "    </tr>\n",
       "    <tr>\n",
       "      <th>Culture,War</th>\n",
       "      <td>8</td>\n",
       "    </tr>\n",
       "  </tbody>\n",
       "</table>\n",
       "</div>"
      ],
      "text/plain": [
       "                                  coverage\n",
       "War                                    298\n",
       "Politics                               194\n",
       "Politics,War                           105\n",
       "Crime                                   62\n",
       "Human Rights,Politics,War               60\n",
       "Corruption                              59\n",
       "Corruption,Crime                        56\n",
       "Corruption,Politics                     49\n",
       "Human Rights,War                        47\n",
       "Human Rights,Politics                   42\n",
       "Human Rights                            40\n",
       "Culture                                 31\n",
       "Corruption,Crime,Politics               29\n",
       "Culture,Politics                        25\n",
       "Crime,Politics                          19\n",
       "Culture,Human Rights,Politics           19\n",
       "Corruption,Human Rights,Politics        15\n",
       "Culture,Sports                          13\n",
       "Sports                                   9\n",
       "Culture,War                              8"
      ]
     },
     "execution_count": 49,
     "metadata": {},
     "output_type": "execute_result"
    }
   ],
   "source": [
    "cpj['coverage'].value_counts().to_frame().head(20)"
   ]
  },
  {
   "cell_type": "markdown",
   "metadata": {},
   "source": [
    "Some entries have multiple 'coverage' categories listed; need to separate these to get counts for each individual category."
   ]
  },
  {
   "cell_type": "code",
   "execution_count": 116,
   "metadata": {},
   "outputs": [
    {
     "name": "stdout",
     "output_type": "stream",
     "text": [
      "{'Sports', 'Business', 'Corruption', 'Politics', 'Crime', 'War', 'Human Rights', 'nan', 'Culture'}\n"
     ]
    },
    {
     "data": {
      "text/html": [
       "<div>\n",
       "<style scoped>\n",
       "    .dataframe tbody tr th:only-of-type {\n",
       "        vertical-align: middle;\n",
       "    }\n",
       "\n",
       "    .dataframe tbody tr th {\n",
       "        vertical-align: top;\n",
       "    }\n",
       "\n",
       "    .dataframe thead th {\n",
       "        text-align: right;\n",
       "    }\n",
       "</style>\n",
       "<table border=\"1\" class=\"dataframe\">\n",
       "  <thead>\n",
       "    <tr style=\"text-align: right;\">\n",
       "      <th></th>\n",
       "      <th>year</th>\n",
       "      <th>coverage</th>\n",
       "      <th>coverage_War</th>\n",
       "      <th>coverage_Crime</th>\n",
       "    </tr>\n",
       "  </thead>\n",
       "  <tbody>\n",
       "    <tr>\n",
       "      <th>0</th>\n",
       "      <td>2006</td>\n",
       "      <td>NaN</td>\n",
       "      <td>False</td>\n",
       "      <td>False</td>\n",
       "    </tr>\n",
       "    <tr>\n",
       "      <th>1</th>\n",
       "      <td>2007</td>\n",
       "      <td>NaN</td>\n",
       "      <td>False</td>\n",
       "      <td>False</td>\n",
       "    </tr>\n",
       "    <tr>\n",
       "      <th>2</th>\n",
       "      <td>2007</td>\n",
       "      <td>NaN</td>\n",
       "      <td>False</td>\n",
       "      <td>False</td>\n",
       "    </tr>\n",
       "    <tr>\n",
       "      <th>3</th>\n",
       "      <td>2005</td>\n",
       "      <td>NaN</td>\n",
       "      <td>False</td>\n",
       "      <td>False</td>\n",
       "    </tr>\n",
       "    <tr>\n",
       "      <th>4</th>\n",
       "      <td>2018</td>\n",
       "      <td>Crime,Politics,War</td>\n",
       "      <td>True</td>\n",
       "      <td>True</td>\n",
       "    </tr>\n",
       "  </tbody>\n",
       "</table>\n",
       "</div>"
      ],
      "text/plain": [
       "   year            coverage  coverage_War  coverage_Crime\n",
       "0  2006                 NaN         False           False\n",
       "1  2007                 NaN         False           False\n",
       "2  2007                 NaN         False           False\n",
       "3  2005                 NaN         False           False\n",
       "4  2018  Crime,Politics,War          True            True"
      ]
     },
     "execution_count": 116,
     "metadata": {},
     "output_type": "execute_result"
    }
   ],
   "source": [
    "# get the unique values for category\n",
    "col_name = 'coverage'\n",
    "\n",
    "def get_unique_category_vals(df, col_name):\n",
    "    '''\n",
    "    Find unique category values for specified column in a dataframe, where some rows \n",
    "    contain multiple categories separated by commas.\n",
    "    '''\n",
    "    unique_entries = list(cpj[col_name].unique())\n",
    "    unique_entries = list(map(str,unique_entries))\n",
    "    unique_entries_split = list(map(lambda x: x.split(','),unique_entries))\n",
    "    unique_vals = set([val for sublist in unique_entries_split for val in sublist])\n",
    "    return(unique_vals)\n",
    "\n",
    "uvals = get_unique_category_vals(cpj,'coverage')\n",
    "print(uvals)\n",
    "\n",
    "\n",
    "def add_category_counts_to_df(df, col_name):\n",
    "    '''\n",
    "    '''\n",
    "    \n",
    "    unique_vals = get_unique_category_vals(df, col_name)\n",
    "    \n",
    "    for val in unique_vals:\n",
    "        df[col_name + '_' + val] = df[col_name].apply(str).apply(lambda x: val in x)\n",
    "    return df\n",
    "\n",
    "df = cpj.copy()\n",
    "df=add_category_counts_to_df(df,'coverage')\n",
    "\n",
    "df.loc[:,['year','coverage','coverage_War','coverage_Crime']].head()\n",
    "\n"
   ]
  },
  {
   "cell_type": "code",
   "execution_count": 122,
   "metadata": {},
   "outputs": [
    {
     "data": {
      "text/plain": [
       "coverage_Sports           41\n",
       "coverage_Business         71\n",
       "coverage_Corruption      290\n",
       "coverage_Politics        666\n",
       "coverage_Crime           237\n",
       "coverage_War             581\n",
       "coverage_Human Rights    297\n",
       "coverage_nan             685\n",
       "coverage_Culture         164\n",
       "dtype: int64"
      ]
     },
     "execution_count": 122,
     "metadata": {},
     "output_type": "execute_result"
    }
   ],
   "source": [
    "df.filter(regex='^coverage',axis=1).sum()\n"
   ]
  },
  {
   "cell_type": "code",
   "execution_count": 118,
   "metadata": {},
   "outputs": [
    {
     "name": "stdout",
     "output_type": "stream",
     "text": [
      "<class 'pandas.core.frame.DataFrame'>\n",
      "RangeIndex: 2033 entries, 0 to 2032\n",
      "Data columns (total 34 columns):\n",
      " #   Column                    Non-Null Count  Dtype \n",
      "---  ------                    --------------  ----- \n",
      " 0   year                      2033 non-null   int64 \n",
      " 1   combinedStatus            2033 non-null   object\n",
      " 2   fullName                  2033 non-null   object\n",
      " 3   primaryNationality        1313 non-null   object\n",
      " 4   secondaryNationality      4 non-null      object\n",
      " 5   gender                    1459 non-null   object\n",
      " 6   type                      2033 non-null   object\n",
      " 7   typeOfDeath               1369 non-null   object\n",
      " 8   employedAs                2025 non-null   object\n",
      " 9   organizations             2032 non-null   object\n",
      " 10  jobs                      1398 non-null   object\n",
      " 11  coverage                  1348 non-null   object\n",
      " 12  mediums                   1395 non-null   object\n",
      " 13  country                   2033 non-null   object\n",
      " 14  location                  2019 non-null   object\n",
      " 15  locality                  2009 non-null   object\n",
      " 16  localOrForeign            1469 non-null   object\n",
      " 17  sourcesOfFire             1187 non-null   object\n",
      " 18  motiveConfirmed           1919 non-null   object\n",
      " 19  accountabilityCrossfire   43 non-null     object\n",
      " 20  accountabilityAssignment  32 non-null     object\n",
      " 21  impunityMurder            876 non-null    object\n",
      " 22  tortured                  873 non-null    object\n",
      " 23  captive                   873 non-null    object\n",
      " 24  threatened                873 non-null    object\n",
      " 25  coverage_Sports           2033 non-null   bool  \n",
      " 26  coverage_Business         2033 non-null   bool  \n",
      " 27  coverage_Corruption       2033 non-null   bool  \n",
      " 28  coverage_Politics         2033 non-null   bool  \n",
      " 29  coverage_Crime            2033 non-null   bool  \n",
      " 30  coverage_War              2033 non-null   bool  \n",
      " 31  coverage_Human Rights     2033 non-null   bool  \n",
      " 32  coverage_nan              2033 non-null   bool  \n",
      " 33  coverage_Culture          2033 non-null   bool  \n",
      "dtypes: bool(9), int64(1), object(24)\n",
      "memory usage: 415.1+ KB\n"
     ]
    }
   ],
   "source": [
    "df.info()"
   ]
  },
  {
   "cell_type": "code",
   "execution_count": 21,
   "metadata": {},
   "outputs": [
    {
     "data": {
      "text/plain": [
       "Print                              520\n",
       "Television                         344\n",
       "Radio                              202\n",
       "Internet                           119\n",
       "Print,Internet                      65\n",
       "Television,Internet                 31\n",
       "Radio,Television                    27\n",
       "Print,Radio                         23\n",
       "Print,Television                    18\n",
       "Radio,Internet                      14\n",
       "Internet,Television                 14\n",
       "Internet,Print                       5\n",
       "Documentary Film                     3\n",
       "Print,Radio,Television               3\n",
       "Print,Television,Internet            2\n",
       "Print,Radio,Internet                 2\n",
       "Print,Radio,Internet,Television      1\n",
       "Radio,Television,Internet            1\n",
       "Radio,Print                          1\n",
       "Name: mediums, dtype: int64"
      ]
     },
     "execution_count": 21,
     "metadata": {},
     "output_type": "execute_result"
    }
   ],
   "source": [
    "cpj['mediums'].value_counts()"
   ]
  },
  {
   "cell_type": "code",
   "execution_count": 22,
   "metadata": {},
   "outputs": [
    {
     "data": {
      "text/plain": [
       "Baghdad         114\n",
       "Mogadishu        50\n",
       "Mosul            48\n",
       "Algiers          33\n",
       "Ampatuan         32\n",
       "               ... \n",
       "Maicao            1\n",
       "Montemorelos      1\n",
       "Janakpur          1\n",
       "Mulia             1\n",
       "Dipolog City      1\n",
       "Name: location, Length: 1072, dtype: int64"
      ]
     },
     "execution_count": 22,
     "metadata": {},
     "output_type": "execute_result"
    }
   ],
   "source": [
    "cpj['location'].value_counts()"
   ]
  },
  {
   "cell_type": "code",
   "execution_count": 23,
   "metadata": {},
   "outputs": [
    {
     "data": {
      "text/plain": [
       "Hodeidah Governorate            3\n",
       "County Derry                    1\n",
       "Siberia                         1\n",
       "Bouar Region                    1\n",
       "Valle                           1\n",
       "Homs Governorate                1\n",
       "Salahuddin Governorate          1\n",
       "Negros Island                   1\n",
       "Puntland                        1\n",
       "Reftinsky, Sverdlovsk Region    1\n",
       "Galashki Region, Ingushetia     1\n",
       "Jubbaland                       1\n",
       "Name: region, dtype: int64"
      ]
     },
     "execution_count": 23,
     "metadata": {},
     "output_type": "execute_result"
    }
   ],
   "source": [
    "cpj['region'].value_counts()"
   ]
  },
  {
   "cell_type": "code",
   "execution_count": 24,
   "metadata": {},
   "outputs": [
    {
     "data": {
      "text/plain": [
       "Maryland                        5\n",
       "Western Bahr al Ghazal state    5\n",
       "Veracruz                        4\n",
       "Quintana Roo                    3\n",
       "Michoacán                       2\n",
       "Jos, Plateau State              2\n",
       "Guerrero                        2\n",
       "Tamaulipas                      2\n",
       "Tabasco                         2\n",
       "Rio de Janeiro                  2\n",
       "Uttar Pradesh                   2\n",
       "Andhra Pradesh                  1\n",
       "Chiapas                         1\n",
       "Ceará                           1\n",
       "Aleppo Governorate              1\n",
       "Oaxaca                          1\n",
       "Akobo, Jonglei State            1\n",
       "Sonora                          1\n",
       "Baja California Sur             1\n",
       "San Luis Potosí                 1\n",
       "Caquetá                         1\n",
       "Carpina, Pernambuco state       1\n",
       "Morelos                         1\n",
       "Nayarit                         1\n",
       "Illinois                        1\n",
       "Ghazipur district               1\n",
       "Anambra state                   1\n",
       "Taiz                            1\n",
       "Tripura                         1\n",
       "Yei River                       1\n",
       "Tripura state                   1\n",
       "Hais area                       1\n",
       "Chhattisgarh                    1\n",
       "Gaza Strip                      1\n",
       "eastern Ghouta                  1\n",
       "Manipur State                   1\n",
       "Albay                           1\n",
       "Sinaloa                         1\n",
       "Taiz Governorate                1\n",
       "Rondonia                        1\n",
       "Goiás                           1\n",
       "Adamawa                         1\n",
       "Hiraan                          1\n",
       "Adamawa State                   1\n",
       "Jammu and Kashmir               1\n",
       "Texas                           1\n",
       "Estado de México                1\n",
       "Bihar                           1\n",
       "Anambra                         1\n",
       "Taxco, Guerrero state           1\n",
       "Pará                            1\n",
       "Kashmir                         1\n",
       "Oromia                          1\n",
       "Jharkhand                       1\n",
       "Karnataka                       1\n",
       "Cortés department               1\n",
       "Name: state, dtype: int64"
      ]
     },
     "execution_count": 24,
     "metadata": {},
     "output_type": "execute_result"
    }
   ],
   "source": [
    "cpj['state'].value_counts()"
   ]
  },
  {
   "cell_type": "code",
   "execution_count": 25,
   "metadata": {},
   "outputs": [
    {
     "data": {
      "text/plain": [
       "Baghdad                  114\n",
       "Mogadishu                 50\n",
       "Mosul                     48\n",
       "Algiers                   33\n",
       "Ampatuan                  32\n",
       "                        ... \n",
       "Mulia                      1\n",
       "Cancún                     1\n",
       "Mullaitheevu district      1\n",
       "Mława                      1\n",
       "Dipolog City               1\n",
       "Name: locality, Length: 1068, dtype: int64"
      ]
     },
     "execution_count": 25,
     "metadata": {},
     "output_type": "execute_result"
    }
   ],
   "source": [
    "cpj['locality'].value_counts()"
   ]
  },
  {
   "cell_type": "code",
   "execution_count": 26,
   "metadata": {},
   "outputs": [
    {
     "data": {
      "text/plain": [
       "Idlib                             6\n",
       "Sheikh Miskeen, Daraa province    4\n",
       "Nangarhar Province                4\n",
       "Takhar Province                   3\n",
       "Kémo                              3\n",
       "                                 ..\n",
       "Monkoto, Equateur Province        1\n",
       "Lashkar Gah, Helmand Province     1\n",
       "Ituri                             1\n",
       "Qalat, Zabul Province             1\n",
       "Amedi, Duhok province             1\n",
       "Name: province, Length: 65, dtype: int64"
      ]
     },
     "execution_count": 26,
     "metadata": {},
     "output_type": "execute_result"
    }
   ],
   "source": [
    "cpj['province'].value_counts()"
   ]
  },
  {
   "cell_type": "code",
   "execution_count": 27,
   "metadata": {},
   "outputs": [
    {
     "name": "stdout",
     "output_type": "stream",
     "text": [
      "<class 'pandas.core.frame.DataFrame'>\n",
      "RangeIndex: 2033 entries, 0 to 2032\n",
      "Data columns (total 25 columns):\n",
      " #   Column                    Non-Null Count  Dtype \n",
      "---  ------                    --------------  ----- \n",
      " 0   year                      2033 non-null   int64 \n",
      " 1   combinedStatus            2033 non-null   object\n",
      " 2   fullName                  2033 non-null   object\n",
      " 3   primaryNationality        1313 non-null   object\n",
      " 4   secondaryNationality      4 non-null      object\n",
      " 5   gender                    1459 non-null   object\n",
      " 6   type                      2033 non-null   object\n",
      " 7   typeOfDeath               1369 non-null   object\n",
      " 8   employedAs                2025 non-null   object\n",
      " 9   organizations             2032 non-null   object\n",
      " 10  jobs                      1398 non-null   object\n",
      " 11  coverage                  1348 non-null   object\n",
      " 12  mediums                   1395 non-null   object\n",
      " 13  country                   2033 non-null   object\n",
      " 14  location                  2019 non-null   object\n",
      " 15  locality                  2009 non-null   object\n",
      " 16  localOrForeign            1469 non-null   object\n",
      " 17  sourcesOfFire             1187 non-null   object\n",
      " 18  motiveConfirmed           1919 non-null   object\n",
      " 19  accountabilityCrossfire   43 non-null     object\n",
      " 20  accountabilityAssignment  32 non-null     object\n",
      " 21  impunityMurder            876 non-null    object\n",
      " 22  tortured                  873 non-null    object\n",
      " 23  captive                   873 non-null    object\n",
      " 24  threatened                873 non-null    object\n",
      "dtypes: int64(1), object(24)\n",
      "memory usage: 397.2+ KB\n"
     ]
    }
   ],
   "source": [
    "cpj.drop(['region','state','province'],axis=1,inplace=True)\n",
    "cpj.info()"
   ]
  },
  {
   "cell_type": "code",
   "execution_count": 28,
   "metadata": {},
   "outputs": [
    {
     "data": {
      "text/plain": [
       "Murder                  872\n",
       "Crossfire               308\n",
       "Dangerous Assignment    180\n",
       "Unknown                   9\n",
       "Name: typeOfDeath, dtype: int64"
      ]
     },
     "execution_count": 28,
     "metadata": {},
     "output_type": "execute_result"
    }
   ],
   "source": [
    "cpj['typeOfDeath'].value_counts()"
   ]
  },
  {
   "cell_type": "code",
   "execution_count": 29,
   "metadata": {},
   "outputs": [
    {
     "data": {
      "text/plain": [
       "Local      1301\n",
       "Foreign     168\n",
       "Name: localOrForeign, dtype: int64"
      ]
     },
     "execution_count": 29,
     "metadata": {},
     "output_type": "execute_result"
    }
   ],
   "source": [
    "cpj['localOrForeign'].value_counts()"
   ]
  },
  {
   "cell_type": "code",
   "execution_count": 30,
   "metadata": {},
   "outputs": [
    {
     "data": {
      "text/plain": [
       "Political Group                                                                         449\n",
       "Military Officials                                                                      251\n",
       "Government Officials                                                                    200\n",
       "Criminal Group                                                                          123\n",
       "Paramilitary Group                                                                       61\n",
       "Local Residents                                                                          31\n",
       "Mob Violence                                                                             14\n",
       "Unknown Fire                                                                              8\n",
       "Military Officials, Political Group                                                       5\n",
       "Unknown                                                                                   5\n",
       "Criminal Group,Government Officials                                                       5\n",
       "Criminal Group, Government Officials                                                      4\n",
       "Government Officials,Criminal Group                                                       4\n",
       "Criminal Group,Local Residents,Military Officials,Paramilitary Group,Political Group      3\n",
       "Political Group,Paramilitary Group                                                        2\n",
       "Government Officials, Military Officials                                                  2\n",
       "Government Officials,Military Officials                                                   2\n",
       "Criminal Group,Paramilitary Group                                                         1\n",
       "Paramilitary Group, Political Group                                                       1\n",
       "Criminal Group, Political Group                                                           1\n",
       "Local Residents,Military Officials                                                        1\n",
       "Paramilitary Group,Political Group                                                        1\n",
       "Local Residents, Political Group                                                          1\n",
       "Government Officials, Paramilitary Group                                                  1\n",
       "Criminal Group, Military Officials                                                        1\n",
       "Criminal Group, Mob Violence                                                              1\n",
       "Government Officials,Local Residents                                                      1\n",
       "Political Group,Criminal Group                                                            1\n",
       "Military Officials,Paramilitary Group                                                     1\n",
       "Criminal Group,Political Group,Government Officials                                       1\n",
       "Criminal Group, Local Residents                                                           1\n",
       "Government Officials, Local Residents                                                     1\n",
       "Government Officials,Mob Violence                                                         1\n",
       "Criminal Group,Local Residents                                                            1\n",
       "Government Officials,Political Group                                                      1\n",
       "Name: sourcesOfFire, dtype: int64"
      ]
     },
     "execution_count": 30,
     "metadata": {},
     "output_type": "execute_result"
    }
   ],
   "source": [
    "cpj['sourcesOfFire'].value_counts()"
   ]
  },
  {
   "cell_type": "code",
   "execution_count": 31,
   "metadata": {},
   "outputs": [
    {
     "data": {
      "text/plain": [
       "No     41\n",
       "Yes     2\n",
       "Name: accountabilityCrossfire, dtype: int64"
      ]
     },
     "execution_count": 31,
     "metadata": {},
     "output_type": "execute_result"
    }
   ],
   "source": [
    "cpj['accountabilityCrossfire'].value_counts()"
   ]
  },
  {
   "cell_type": "code",
   "execution_count": 32,
   "metadata": {},
   "outputs": [
    {
     "data": {
      "text/plain": [
       "No     29\n",
       "Yes     3\n",
       "Name: accountabilityAssignment, dtype: int64"
      ]
     },
     "execution_count": 32,
     "metadata": {},
     "output_type": "execute_result"
    }
   ],
   "source": [
    "cpj['accountabilityAssignment'].value_counts()"
   ]
  },
  {
   "cell_type": "code",
   "execution_count": 33,
   "metadata": {},
   "outputs": [
    {
     "data": {
      "text/plain": [
       "Complete Impunity    713\n",
       "Partial Impunity     122\n",
       "Full Justice          41\n",
       "Name: impunityMurder, dtype: int64"
      ]
     },
     "execution_count": 33,
     "metadata": {},
     "output_type": "execute_result"
    }
   ],
   "source": [
    "cpj['impunityMurder'].value_counts()"
   ]
  },
  {
   "cell_type": "code",
   "execution_count": 34,
   "metadata": {},
   "outputs": [
    {
     "data": {
      "text/plain": [
       "No     772\n",
       "Yes    101\n",
       "Name: tortured, dtype: int64"
      ]
     },
     "execution_count": 34,
     "metadata": {},
     "output_type": "execute_result"
    }
   ],
   "source": [
    "cpj['tortured'].value_counts()"
   ]
  },
  {
   "cell_type": "code",
   "execution_count": 35,
   "metadata": {},
   "outputs": [
    {
     "data": {
      "text/plain": [
       "No     684\n",
       "Yes    189\n",
       "Name: captive, dtype: int64"
      ]
     },
     "execution_count": 35,
     "metadata": {},
     "output_type": "execute_result"
    }
   ],
   "source": [
    "cpj['captive'].value_counts()"
   ]
  },
  {
   "cell_type": "code",
   "execution_count": 36,
   "metadata": {},
   "outputs": [
    {
     "data": {
      "text/plain": [
       "No     507\n",
       "Yes    366\n",
       "Name: threatened, dtype: int64"
      ]
     },
     "execution_count": 36,
     "metadata": {},
     "output_type": "execute_result"
    }
   ],
   "source": [
    "cpj['threatened'].value_counts()"
   ]
  },
  {
   "cell_type": "code",
   "execution_count": 37,
   "metadata": {},
   "outputs": [],
   "source": [
    "def category_count_df_one_column(df, col_name, topN=None ,dropna=False):\n",
    "    '''\n",
    "    Make dataframe with category counts for a specified column\n",
    "    \n",
    "    INPUT\n",
    "    df : Pandas Dataframe\n",
    "    col_name : (str) Name of column to count\n",
    "    drop_na : (bool) (optional) Whether or not to include NaNs in counts\n",
    "    \n",
    "    OUTPUT\n",
    "    df_count : Pandas dataframe with 2 columns: col_name and Count\n",
    "    '''\n",
    "    df_count = cpj[col_name].value_counts(dropna).to_frame().reset_index().rename(columns={col_name:'Count','index':col_name})\n",
    "    if topN:\n",
    "        df_count = df_count.head(topN)\n",
    "    return df_count\n",
    "\n",
    "#df = category_count_df_one_column(cpj,'sourcesOfFire')\n",
    "#df"
   ]
  },
  {
   "cell_type": "code",
   "execution_count": 38,
   "metadata": {},
   "outputs": [],
   "source": [
    "def plot_hbar_category_count(df, col_name, topN=None, dropna=False):\n",
    "    '''\n",
    "    Make a horizontal bar chart of category counts for a specified column in dataframe\n",
    "    '''\n",
    "    df_count = category_count_df_one_column(df, col_name, topN, dropna=False)\n",
    "    fig, ax = plt.subplots(1,figsize=(12,8))\n",
    "    ax.barh(df_count[col_name], df_count['Count'])\n",
    "    ax.set_xlabel('# Journalists Killed')\n",
    "    if topN:\n",
    "        ax.set_title('# Journalists Killed By ' + col_name + ' (Top ' + str(topN) +')')\n",
    "    else:\n",
    "        ax.set_title('# Journalists Killed By ' + col_name)\n",
    "    ax.invert_yaxis()\n",
    "    return "
   ]
  },
  {
   "cell_type": "code",
   "execution_count": 39,
   "metadata": {},
   "outputs": [
    {
     "data": {
      "image/png": "[encoded data removed]",
      "text/plain": [
       "<Figure size 864x288 with 1 Axes>"
      ]
     },
     "metadata": {
      "needs_background": "light"
     },
     "output_type": "display_data"
    }
   ],
   "source": [
    "#cpj_GB_year_count = cpj.groupby('year').count().reset_index().loc[:,['year','combinedStatus']]\n",
    "#cpj_GB_year_count.rename(columns={'combinedStatus':'Count'},inplace=True)\n",
    "cpj_GB_year_count = category_count_df_one_column(cpj,'year')\n",
    "cpj_GB_year_count.head()\n",
    "\n",
    "fig, ax = plt.subplots(1,figsize=(12,4))\n",
    "ax.bar(cpj_GB_year_count['year'],cpj_GB_year_count['Count'])\n",
    "ax.set_xlabel('Year')\n",
    "ax.set_xlabel('# Journalists Killed')\n",
    "ax.set_title('# Journalists Killed Per Year')\n",
    "\n",
    "plt.savefig('../images/TotalDeathsVsYear.png',bbox_inches='tight')"
   ]
  },
  {
   "cell_type": "code",
   "execution_count": 40,
   "metadata": {},
   "outputs": [
    {
     "data": {
      "image/png": "[encoded data removed]",
      "text/plain": [
       "<Figure size 864x576 with 1 Axes>"
      ]
     },
     "metadata": {
      "needs_background": "light"
     },
     "output_type": "display_data"
    }
   ],
   "source": [
    "plot_hbar_category_count(cpj, 'jobs', 20)\n",
    "\n",
    "#plt.savefig('../images/TotalDeathsVsYear.png',bbox_inches='tight')"
   ]
  },
  {
   "cell_type": "code",
   "execution_count": 41,
   "metadata": {},
   "outputs": [
    {
     "data": {
      "image/png": "[encoded data removed]",
      "text/plain": [
       "<Figure size 864x576 with 1 Axes>"
      ]
     },
     "metadata": {
      "needs_background": "light"
     },
     "output_type": "display_data"
    }
   ],
   "source": [
    "#cpj_GB_year_count = category_count_df_one_column(cpj,'coverage')\n",
    "#cpj_GB_year_count.head()\n",
    "\n",
    "#cpj_GB_year_count = cpj_GB_year_count.iloc[0:20,:]\n",
    "\n",
    "#fig, ax = plt.subplots(1,figsize=(12,8))\n",
    "#ax.barh(cpj_GB_year_count['coverage'],cpj_GB_year_count['Count'])\n",
    "#ax.set_xlabel('Year')\n",
    "#ax.set_xlabel('# Journalists Killed')\n",
    "#ax.set_title('# Journalists Killed By Coverage')\n",
    "#ax.invert_yaxis()\n",
    "#plt.savefig('../images/TotalDeathsVsYear.png',bbox_inches='tight')\n",
    "\n",
    "plot_hbar_category_count(cpj, 'coverage', 15)"
   ]
  },
  {
   "cell_type": "code",
   "execution_count": 143,
   "metadata": {},
   "outputs": [
    {
     "data": {
      "image/png": "[encoded data removed]",
      "text/plain": [
       "<Figure size 864x576 with 1 Axes>"
      ]
     },
     "metadata": {
      "needs_background": "light"
     },
     "output_type": "display_data"
    }
   ],
   "source": [
    "df = cpj.copy()\n",
    "df=add_category_counts_to_df(df,'coverage')\n",
    "df=df.filter(regex='^coverage', axis=1).sum().to_frame(name='Count').reset_index().rename(columns={'index':'coverage'}).sort_values('Count',ascending=False)\n",
    "df\n",
    "\n",
    "fig,ax = plt.subplots(1, figsize=(12,8))\n",
    "ax.barh(df['coverage'],df['Count'])\n",
    "ax.invert_yaxis()\n"
   ]
  },
  {
   "cell_type": "code",
   "execution_count": 42,
   "metadata": {},
   "outputs": [
    {
     "data": {
      "text/plain": [
       "<matplotlib.legend.Legend at 0x1245c8290>"
      ]
     },
     "execution_count": 42,
     "metadata": {},
     "output_type": "execute_result"
    },
    {
     "data": {
      "image/png": "[encoded data removed]",
      "text/plain": [
       "<Figure size 864x288 with 1 Axes>"
      ]
     },
     "metadata": {
      "needs_background": "light"
     },
     "output_type": "display_data"
    }
   ],
   "source": [
    "cpj_GB_yeargender_count = cpj.groupby(['year','gender']).count().unstack(fill_value=0).stack().reset_index().loc[:,['year','gender','combinedStatus']]\n",
    "\n",
    "#\n",
    "#cpj_GB_yeargender_count=cpj_GB_yeargender_count[cpj_GB_yeargender_count['year']<2020]\n",
    "cpj_GB_yeargender_count.rename(columns={'combinedStatus':'Count'},inplace=True)\n",
    "cpj_GB_yeargender_count\n",
    "\n",
    "fig, ax = plt.subplots(1,figsize=(12,4))\n",
    "ax.bar(cpj_GB_yeargender_count[cpj_GB_yeargender_count['gender']=='Female']['year'],cpj_GB_yeargender_count[cpj_GB_yeargender_count['gender']=='Female']['Count'],color='red',label='female')\n",
    "ax.bar(cpj_GB_yeargender_count[cpj_GB_yeargender_count['gender']=='Male']['year'],cpj_GB_yeargender_count[cpj_GB_yeargender_count['gender']=='Male']['Count'],color='blue', label='male',bottom=cpj_GB_yeargender_count[cpj_GB_yeargender_count['gender']=='Female']['Count'])\n",
    "ax.set_xlabel('Year')\n",
    "ax.legend()\n",
    "\n",
    "#ax.set_ylabel('# Journalists Killed')\n",
    "#ax.set_title('# Journalists Killed Per Year')\n",
    "\n",
    "#plt.savefig('../images/TotalDeathsVsYear.png',bbox_inches='tight')"
   ]
  },
  {
   "cell_type": "code",
   "execution_count": 43,
   "metadata": {},
   "outputs": [],
   "source": [
    "#cpj_GB_country_count = cpj.groupby('country').count().reset_index().loc[:,['country','year']].sort_values('year',ascending=False).head(20)\n",
    "#cpj_GB_country_count.rename(columns={'year':'Count'},inplace=True)\n",
    "\n",
    "\n",
    "#print(cpj_GB_country_count.head(20))\n",
    "#print(df2.head(20))"
   ]
  },
  {
   "cell_type": "code",
   "execution_count": 44,
   "metadata": {},
   "outputs": [
    {
     "data": {
      "image/png": "[encoded data removed]",
      "text/plain": [
       "<Figure size 864x576 with 1 Axes>"
      ]
     },
     "metadata": {
      "needs_background": "light"
     },
     "output_type": "display_data"
    }
   ],
   "source": [
    "#cpj_GB_country_count = category_count_df_one_column(cpj,'country',20)\n",
    "\n",
    "#fig, ax = plt.subplots(1,figsize=(12,8))\n",
    "#ax.barh(cpj_GB_country_count['country'],cpj_GB_country_count['Count'])\n",
    "#ax.set_xlabel('# Journalists Killed')\n",
    "#ax.set_title('# Journalists Killed Per Country (Top 20)')\n",
    "#ax.invert_yaxis()\n",
    "\n",
    "plot_hbar_category_count(cpj, 'country', 20)\n",
    "\n",
    "plt.savefig('../images/TotalDeathsByCountry.png',bbox_inches='tight')"
   ]
  },
  {
   "cell_type": "code",
   "execution_count": null,
   "metadata": {},
   "outputs": [],
   "source": []
  },
  {
   "cell_type": "code",
   "execution_count": null,
   "metadata": {},
   "outputs": [],
   "source": []
  },
  {
   "cell_type": "code",
   "execution_count": 45,
   "metadata": {},
   "outputs": [
    {
     "data": {
      "image/png": "[encoded data removed]",
      "text/plain": [
       "<Figure size 864x576 with 1 Axes>"
      ]
     },
     "metadata": {
      "needs_background": "light"
     },
     "output_type": "display_data"
    }
   ],
   "source": [
    "#cpj_GB_sof_count = category_count_df_one_column(cpj,'sourcesOfFire')\n",
    "#cpj_GB_sof_count =cpj_GB_sof_count.iloc[0:9,:]\n",
    "\n",
    "#fig, ax = plt.subplots(1,figsize=(12,8))\n",
    "#ax.barh(cpj_GB_sof_count['sourcesOfFire'],cpj_GB_sof_count['Count'])\n",
    "#ax.set_xlabel('# Journalists Killed')\n",
    "#ax.set_title('# Journalists Killed By Source of Fire')\n",
    "#ax.invert_yaxis()\n",
    "\n",
    "plot_hbar_category_count(cpj, 'sourcesOfFire', 9)\n",
    "\n",
    "#plt.savefig('../images/TotalDeathsByCountry.png',bbox_inches='tight')"
   ]
  },
  {
   "cell_type": "code",
   "execution_count": null,
   "metadata": {},
   "outputs": [],
   "source": []
  },
  {
   "cell_type": "code",
   "execution_count": 46,
   "metadata": {},
   "outputs": [
    {
     "data": {
      "image/png": "[encoded data removed]",
      "text/plain": [
       "<Figure size 864x576 with 1 Axes>"
      ]
     },
     "metadata": {
      "needs_background": "light"
     },
     "output_type": "display_data"
    }
   ],
   "source": [
    "plot_hbar_category_count(cpj, 'typeOfDeath', dropna=False)"
   ]
  },
  {
   "cell_type": "code",
   "execution_count": null,
   "metadata": {},
   "outputs": [],
   "source": []
  }
 ],
 "metadata": {
  "kernelspec": {
   "display_name": "Python 3",
   "language": "python",
   "name": "python3"
  },
  "language_info": {
   "codemirror_mode": {
    "name": "ipython",
    "version": 3
   },
   "file_extension": ".py",
   "mimetype": "text/x-python",
   "name": "python",
   "nbconvert_exporter": "python",
   "pygments_lexer": "ipython3",
   "version": "3.7.6"
  }
 },
 "nbformat": 4,
 "nbformat_minor": 4
}
